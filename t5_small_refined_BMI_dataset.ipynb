{
  "nbformat": 4,
  "nbformat_minor": 0,
  "metadata": {
    "colab": {
      "provenance": [],
      "gpuType": "L4",
      "machine_shape": "hm"
    },
    "kernelspec": {
      "name": "python3",
      "display_name": "Python 3"
    },
    "language_info": {
      "name": "python"
    },
    "accelerator": "GPU",
    "widgets": {
      "application/vnd.jupyter.widget-state+json": {
        "a63addf3c6f347998235f5afba50d21a": {
          "model_module": "@jupyter-widgets/controls",
          "model_name": "HBoxModel",
          "model_module_version": "1.5.0",
          "state": {
            "_dom_classes": [],
            "_model_module": "@jupyter-widgets/controls",
            "_model_module_version": "1.5.0",
            "_model_name": "HBoxModel",
            "_view_count": null,
            "_view_module": "@jupyter-widgets/controls",
            "_view_module_version": "1.5.0",
            "_view_name": "HBoxView",
            "box_style": "",
            "children": [
              "IPY_MODEL_38e3ff6d39c7493281245e9b4bc66d78",
              "IPY_MODEL_a1d9c128711d4d4a82e0d4e7801926a6",
              "IPY_MODEL_a19aa90503a94557859dffd889e0fdf3"
            ],
            "layout": "IPY_MODEL_22ab2e89ba194ce4ac4588a92864a82f"
          }
        },
        "38e3ff6d39c7493281245e9b4bc66d78": {
          "model_module": "@jupyter-widgets/controls",
          "model_name": "HTMLModel",
          "model_module_version": "1.5.0",
          "state": {
            "_dom_classes": [],
            "_model_module": "@jupyter-widgets/controls",
            "_model_module_version": "1.5.0",
            "_model_name": "HTMLModel",
            "_view_count": null,
            "_view_module": "@jupyter-widgets/controls",
            "_view_module_version": "1.5.0",
            "_view_name": "HTMLView",
            "description": "",
            "description_tooltip": null,
            "layout": "IPY_MODEL_356f062f019d4b88a9abab90f530cbe1",
            "placeholder": "​",
            "style": "IPY_MODEL_6ad29732beaf4f2baf0130714a0e8858",
            "value": "tokenizer_config.json: 100%"
          }
        },
        "a1d9c128711d4d4a82e0d4e7801926a6": {
          "model_module": "@jupyter-widgets/controls",
          "model_name": "FloatProgressModel",
          "model_module_version": "1.5.0",
          "state": {
            "_dom_classes": [],
            "_model_module": "@jupyter-widgets/controls",
            "_model_module_version": "1.5.0",
            "_model_name": "FloatProgressModel",
            "_view_count": null,
            "_view_module": "@jupyter-widgets/controls",
            "_view_module_version": "1.5.0",
            "_view_name": "ProgressView",
            "bar_style": "success",
            "description": "",
            "description_tooltip": null,
            "layout": "IPY_MODEL_3fc22102d6c441d9a8edbbd016371c8b",
            "max": 2324,
            "min": 0,
            "orientation": "horizontal",
            "style": "IPY_MODEL_a417b712caee45639d70ab34047036b9",
            "value": 2324
          }
        },
        "a19aa90503a94557859dffd889e0fdf3": {
          "model_module": "@jupyter-widgets/controls",
          "model_name": "HTMLModel",
          "model_module_version": "1.5.0",
          "state": {
            "_dom_classes": [],
            "_model_module": "@jupyter-widgets/controls",
            "_model_module_version": "1.5.0",
            "_model_name": "HTMLModel",
            "_view_count": null,
            "_view_module": "@jupyter-widgets/controls",
            "_view_module_version": "1.5.0",
            "_view_name": "HTMLView",
            "description": "",
            "description_tooltip": null,
            "layout": "IPY_MODEL_a3153736b3174004893f9f76f8cc3ffb",
            "placeholder": "​",
            "style": "IPY_MODEL_a9df429c60304a09a554421e51c5eb70",
            "value": " 2.32k/2.32k [00:00&lt;00:00, 202kB/s]"
          }
        },
        "22ab2e89ba194ce4ac4588a92864a82f": {
          "model_module": "@jupyter-widgets/base",
          "model_name": "LayoutModel",
          "model_module_version": "1.2.0",
          "state": {
            "_model_module": "@jupyter-widgets/base",
            "_model_module_version": "1.2.0",
            "_model_name": "LayoutModel",
            "_view_count": null,
            "_view_module": "@jupyter-widgets/base",
            "_view_module_version": "1.2.0",
            "_view_name": "LayoutView",
            "align_content": null,
            "align_items": null,
            "align_self": null,
            "border": null,
            "bottom": null,
            "display": null,
            "flex": null,
            "flex_flow": null,
            "grid_area": null,
            "grid_auto_columns": null,
            "grid_auto_flow": null,
            "grid_auto_rows": null,
            "grid_column": null,
            "grid_gap": null,
            "grid_row": null,
            "grid_template_areas": null,
            "grid_template_columns": null,
            "grid_template_rows": null,
            "height": null,
            "justify_content": null,
            "justify_items": null,
            "left": null,
            "margin": null,
            "max_height": null,
            "max_width": null,
            "min_height": null,
            "min_width": null,
            "object_fit": null,
            "object_position": null,
            "order": null,
            "overflow": null,
            "overflow_x": null,
            "overflow_y": null,
            "padding": null,
            "right": null,
            "top": null,
            "visibility": null,
            "width": null
          }
        },
        "356f062f019d4b88a9abab90f530cbe1": {
          "model_module": "@jupyter-widgets/base",
          "model_name": "LayoutModel",
          "model_module_version": "1.2.0",
          "state": {
            "_model_module": "@jupyter-widgets/base",
            "_model_module_version": "1.2.0",
            "_model_name": "LayoutModel",
            "_view_count": null,
            "_view_module": "@jupyter-widgets/base",
            "_view_module_version": "1.2.0",
            "_view_name": "LayoutView",
            "align_content": null,
            "align_items": null,
            "align_self": null,
            "border": null,
            "bottom": null,
            "display": null,
            "flex": null,
            "flex_flow": null,
            "grid_area": null,
            "grid_auto_columns": null,
            "grid_auto_flow": null,
            "grid_auto_rows": null,
            "grid_column": null,
            "grid_gap": null,
            "grid_row": null,
            "grid_template_areas": null,
            "grid_template_columns": null,
            "grid_template_rows": null,
            "height": null,
            "justify_content": null,
            "justify_items": null,
            "left": null,
            "margin": null,
            "max_height": null,
            "max_width": null,
            "min_height": null,
            "min_width": null,
            "object_fit": null,
            "object_position": null,
            "order": null,
            "overflow": null,
            "overflow_x": null,
            "overflow_y": null,
            "padding": null,
            "right": null,
            "top": null,
            "visibility": null,
            "width": null
          }
        },
        "6ad29732beaf4f2baf0130714a0e8858": {
          "model_module": "@jupyter-widgets/controls",
          "model_name": "DescriptionStyleModel",
          "model_module_version": "1.5.0",
          "state": {
            "_model_module": "@jupyter-widgets/controls",
            "_model_module_version": "1.5.0",
            "_model_name": "DescriptionStyleModel",
            "_view_count": null,
            "_view_module": "@jupyter-widgets/base",
            "_view_module_version": "1.2.0",
            "_view_name": "StyleView",
            "description_width": ""
          }
        },
        "3fc22102d6c441d9a8edbbd016371c8b": {
          "model_module": "@jupyter-widgets/base",
          "model_name": "LayoutModel",
          "model_module_version": "1.2.0",
          "state": {
            "_model_module": "@jupyter-widgets/base",
            "_model_module_version": "1.2.0",
            "_model_name": "LayoutModel",
            "_view_count": null,
            "_view_module": "@jupyter-widgets/base",
            "_view_module_version": "1.2.0",
            "_view_name": "LayoutView",
            "align_content": null,
            "align_items": null,
            "align_self": null,
            "border": null,
            "bottom": null,
            "display": null,
            "flex": null,
            "flex_flow": null,
            "grid_area": null,
            "grid_auto_columns": null,
            "grid_auto_flow": null,
            "grid_auto_rows": null,
            "grid_column": null,
            "grid_gap": null,
            "grid_row": null,
            "grid_template_areas": null,
            "grid_template_columns": null,
            "grid_template_rows": null,
            "height": null,
            "justify_content": null,
            "justify_items": null,
            "left": null,
            "margin": null,
            "max_height": null,
            "max_width": null,
            "min_height": null,
            "min_width": null,
            "object_fit": null,
            "object_position": null,
            "order": null,
            "overflow": null,
            "overflow_x": null,
            "overflow_y": null,
            "padding": null,
            "right": null,
            "top": null,
            "visibility": null,
            "width": null
          }
        },
        "a417b712caee45639d70ab34047036b9": {
          "model_module": "@jupyter-widgets/controls",
          "model_name": "ProgressStyleModel",
          "model_module_version": "1.5.0",
          "state": {
            "_model_module": "@jupyter-widgets/controls",
            "_model_module_version": "1.5.0",
            "_model_name": "ProgressStyleModel",
            "_view_count": null,
            "_view_module": "@jupyter-widgets/base",
            "_view_module_version": "1.2.0",
            "_view_name": "StyleView",
            "bar_color": null,
            "description_width": ""
          }
        },
        "a3153736b3174004893f9f76f8cc3ffb": {
          "model_module": "@jupyter-widgets/base",
          "model_name": "LayoutModel",
          "model_module_version": "1.2.0",
          "state": {
            "_model_module": "@jupyter-widgets/base",
            "_model_module_version": "1.2.0",
            "_model_name": "LayoutModel",
            "_view_count": null,
            "_view_module": "@jupyter-widgets/base",
            "_view_module_version": "1.2.0",
            "_view_name": "LayoutView",
            "align_content": null,
            "align_items": null,
            "align_self": null,
            "border": null,
            "bottom": null,
            "display": null,
            "flex": null,
            "flex_flow": null,
            "grid_area": null,
            "grid_auto_columns": null,
            "grid_auto_flow": null,
            "grid_auto_rows": null,
            "grid_column": null,
            "grid_gap": null,
            "grid_row": null,
            "grid_template_areas": null,
            "grid_template_columns": null,
            "grid_template_rows": null,
            "height": null,
            "justify_content": null,
            "justify_items": null,
            "left": null,
            "margin": null,
            "max_height": null,
            "max_width": null,
            "min_height": null,
            "min_width": null,
            "object_fit": null,
            "object_position": null,
            "order": null,
            "overflow": null,
            "overflow_x": null,
            "overflow_y": null,
            "padding": null,
            "right": null,
            "top": null,
            "visibility": null,
            "width": null
          }
        },
        "a9df429c60304a09a554421e51c5eb70": {
          "model_module": "@jupyter-widgets/controls",
          "model_name": "DescriptionStyleModel",
          "model_module_version": "1.5.0",
          "state": {
            "_model_module": "@jupyter-widgets/controls",
            "_model_module_version": "1.5.0",
            "_model_name": "DescriptionStyleModel",
            "_view_count": null,
            "_view_module": "@jupyter-widgets/base",
            "_view_module_version": "1.2.0",
            "_view_name": "StyleView",
            "description_width": ""
          }
        },
        "803ce16c9c364e08ad53873b07fd42dc": {
          "model_module": "@jupyter-widgets/controls",
          "model_name": "HBoxModel",
          "model_module_version": "1.5.0",
          "state": {
            "_dom_classes": [],
            "_model_module": "@jupyter-widgets/controls",
            "_model_module_version": "1.5.0",
            "_model_name": "HBoxModel",
            "_view_count": null,
            "_view_module": "@jupyter-widgets/controls",
            "_view_module_version": "1.5.0",
            "_view_name": "HBoxView",
            "box_style": "",
            "children": [
              "IPY_MODEL_7af05941db5c4c49924c3c6bc878c5fb",
              "IPY_MODEL_7fddf76a4fef4b71b145d41099efbeb2",
              "IPY_MODEL_e07b7cca44ed4c02914262354f68cd81"
            ],
            "layout": "IPY_MODEL_4b1d7e6ac43c4c4fbaee3902db73e8af"
          }
        },
        "7af05941db5c4c49924c3c6bc878c5fb": {
          "model_module": "@jupyter-widgets/controls",
          "model_name": "HTMLModel",
          "model_module_version": "1.5.0",
          "state": {
            "_dom_classes": [],
            "_model_module": "@jupyter-widgets/controls",
            "_model_module_version": "1.5.0",
            "_model_name": "HTMLModel",
            "_view_count": null,
            "_view_module": "@jupyter-widgets/controls",
            "_view_module_version": "1.5.0",
            "_view_name": "HTMLView",
            "description": "",
            "description_tooltip": null,
            "layout": "IPY_MODEL_bfa376caad7b4604b386e2dd887d15d7",
            "placeholder": "​",
            "style": "IPY_MODEL_9167460d97174c0a942c381e79416250",
            "value": "spiece.model: 100%"
          }
        },
        "7fddf76a4fef4b71b145d41099efbeb2": {
          "model_module": "@jupyter-widgets/controls",
          "model_name": "FloatProgressModel",
          "model_module_version": "1.5.0",
          "state": {
            "_dom_classes": [],
            "_model_module": "@jupyter-widgets/controls",
            "_model_module_version": "1.5.0",
            "_model_name": "FloatProgressModel",
            "_view_count": null,
            "_view_module": "@jupyter-widgets/controls",
            "_view_module_version": "1.5.0",
            "_view_name": "ProgressView",
            "bar_style": "success",
            "description": "",
            "description_tooltip": null,
            "layout": "IPY_MODEL_0b4d766addf642fb9d90080c740c2948",
            "max": 791656,
            "min": 0,
            "orientation": "horizontal",
            "style": "IPY_MODEL_52aa0fa5049a491787f0b823f6ae4f34",
            "value": 791656
          }
        },
        "e07b7cca44ed4c02914262354f68cd81": {
          "model_module": "@jupyter-widgets/controls",
          "model_name": "HTMLModel",
          "model_module_version": "1.5.0",
          "state": {
            "_dom_classes": [],
            "_model_module": "@jupyter-widgets/controls",
            "_model_module_version": "1.5.0",
            "_model_name": "HTMLModel",
            "_view_count": null,
            "_view_module": "@jupyter-widgets/controls",
            "_view_module_version": "1.5.0",
            "_view_name": "HTMLView",
            "description": "",
            "description_tooltip": null,
            "layout": "IPY_MODEL_b7221612275a48b298953af6e91e49ef",
            "placeholder": "​",
            "style": "IPY_MODEL_49f4edaf8c734d8fbd8ff403f1a150f2",
            "value": " 792k/792k [00:00&lt;00:00, 5.76MB/s]"
          }
        },
        "4b1d7e6ac43c4c4fbaee3902db73e8af": {
          "model_module": "@jupyter-widgets/base",
          "model_name": "LayoutModel",
          "model_module_version": "1.2.0",
          "state": {
            "_model_module": "@jupyter-widgets/base",
            "_model_module_version": "1.2.0",
            "_model_name": "LayoutModel",
            "_view_count": null,
            "_view_module": "@jupyter-widgets/base",
            "_view_module_version": "1.2.0",
            "_view_name": "LayoutView",
            "align_content": null,
            "align_items": null,
            "align_self": null,
            "border": null,
            "bottom": null,
            "display": null,
            "flex": null,
            "flex_flow": null,
            "grid_area": null,
            "grid_auto_columns": null,
            "grid_auto_flow": null,
            "grid_auto_rows": null,
            "grid_column": null,
            "grid_gap": null,
            "grid_row": null,
            "grid_template_areas": null,
            "grid_template_columns": null,
            "grid_template_rows": null,
            "height": null,
            "justify_content": null,
            "justify_items": null,
            "left": null,
            "margin": null,
            "max_height": null,
            "max_width": null,
            "min_height": null,
            "min_width": null,
            "object_fit": null,
            "object_position": null,
            "order": null,
            "overflow": null,
            "overflow_x": null,
            "overflow_y": null,
            "padding": null,
            "right": null,
            "top": null,
            "visibility": null,
            "width": null
          }
        },
        "bfa376caad7b4604b386e2dd887d15d7": {
          "model_module": "@jupyter-widgets/base",
          "model_name": "LayoutModel",
          "model_module_version": "1.2.0",
          "state": {
            "_model_module": "@jupyter-widgets/base",
            "_model_module_version": "1.2.0",
            "_model_name": "LayoutModel",
            "_view_count": null,
            "_view_module": "@jupyter-widgets/base",
            "_view_module_version": "1.2.0",
            "_view_name": "LayoutView",
            "align_content": null,
            "align_items": null,
            "align_self": null,
            "border": null,
            "bottom": null,
            "display": null,
            "flex": null,
            "flex_flow": null,
            "grid_area": null,
            "grid_auto_columns": null,
            "grid_auto_flow": null,
            "grid_auto_rows": null,
            "grid_column": null,
            "grid_gap": null,
            "grid_row": null,
            "grid_template_areas": null,
            "grid_template_columns": null,
            "grid_template_rows": null,
            "height": null,
            "justify_content": null,
            "justify_items": null,
            "left": null,
            "margin": null,
            "max_height": null,
            "max_width": null,
            "min_height": null,
            "min_width": null,
            "object_fit": null,
            "object_position": null,
            "order": null,
            "overflow": null,
            "overflow_x": null,
            "overflow_y": null,
            "padding": null,
            "right": null,
            "top": null,
            "visibility": null,
            "width": null
          }
        },
        "9167460d97174c0a942c381e79416250": {
          "model_module": "@jupyter-widgets/controls",
          "model_name": "DescriptionStyleModel",
          "model_module_version": "1.5.0",
          "state": {
            "_model_module": "@jupyter-widgets/controls",
            "_model_module_version": "1.5.0",
            "_model_name": "DescriptionStyleModel",
            "_view_count": null,
            "_view_module": "@jupyter-widgets/base",
            "_view_module_version": "1.2.0",
            "_view_name": "StyleView",
            "description_width": ""
          }
        },
        "0b4d766addf642fb9d90080c740c2948": {
          "model_module": "@jupyter-widgets/base",
          "model_name": "LayoutModel",
          "model_module_version": "1.2.0",
          "state": {
            "_model_module": "@jupyter-widgets/base",
            "_model_module_version": "1.2.0",
            "_model_name": "LayoutModel",
            "_view_count": null,
            "_view_module": "@jupyter-widgets/base",
            "_view_module_version": "1.2.0",
            "_view_name": "LayoutView",
            "align_content": null,
            "align_items": null,
            "align_self": null,
            "border": null,
            "bottom": null,
            "display": null,
            "flex": null,
            "flex_flow": null,
            "grid_area": null,
            "grid_auto_columns": null,
            "grid_auto_flow": null,
            "grid_auto_rows": null,
            "grid_column": null,
            "grid_gap": null,
            "grid_row": null,
            "grid_template_areas": null,
            "grid_template_columns": null,
            "grid_template_rows": null,
            "height": null,
            "justify_content": null,
            "justify_items": null,
            "left": null,
            "margin": null,
            "max_height": null,
            "max_width": null,
            "min_height": null,
            "min_width": null,
            "object_fit": null,
            "object_position": null,
            "order": null,
            "overflow": null,
            "overflow_x": null,
            "overflow_y": null,
            "padding": null,
            "right": null,
            "top": null,
            "visibility": null,
            "width": null
          }
        },
        "52aa0fa5049a491787f0b823f6ae4f34": {
          "model_module": "@jupyter-widgets/controls",
          "model_name": "ProgressStyleModel",
          "model_module_version": "1.5.0",
          "state": {
            "_model_module": "@jupyter-widgets/controls",
            "_model_module_version": "1.5.0",
            "_model_name": "ProgressStyleModel",
            "_view_count": null,
            "_view_module": "@jupyter-widgets/base",
            "_view_module_version": "1.2.0",
            "_view_name": "StyleView",
            "bar_color": null,
            "description_width": ""
          }
        },
        "b7221612275a48b298953af6e91e49ef": {
          "model_module": "@jupyter-widgets/base",
          "model_name": "LayoutModel",
          "model_module_version": "1.2.0",
          "state": {
            "_model_module": "@jupyter-widgets/base",
            "_model_module_version": "1.2.0",
            "_model_name": "LayoutModel",
            "_view_count": null,
            "_view_module": "@jupyter-widgets/base",
            "_view_module_version": "1.2.0",
            "_view_name": "LayoutView",
            "align_content": null,
            "align_items": null,
            "align_self": null,
            "border": null,
            "bottom": null,
            "display": null,
            "flex": null,
            "flex_flow": null,
            "grid_area": null,
            "grid_auto_columns": null,
            "grid_auto_flow": null,
            "grid_auto_rows": null,
            "grid_column": null,
            "grid_gap": null,
            "grid_row": null,
            "grid_template_areas": null,
            "grid_template_columns": null,
            "grid_template_rows": null,
            "height": null,
            "justify_content": null,
            "justify_items": null,
            "left": null,
            "margin": null,
            "max_height": null,
            "max_width": null,
            "min_height": null,
            "min_width": null,
            "object_fit": null,
            "object_position": null,
            "order": null,
            "overflow": null,
            "overflow_x": null,
            "overflow_y": null,
            "padding": null,
            "right": null,
            "top": null,
            "visibility": null,
            "width": null
          }
        },
        "49f4edaf8c734d8fbd8ff403f1a150f2": {
          "model_module": "@jupyter-widgets/controls",
          "model_name": "DescriptionStyleModel",
          "model_module_version": "1.5.0",
          "state": {
            "_model_module": "@jupyter-widgets/controls",
            "_model_module_version": "1.5.0",
            "_model_name": "DescriptionStyleModel",
            "_view_count": null,
            "_view_module": "@jupyter-widgets/base",
            "_view_module_version": "1.2.0",
            "_view_name": "StyleView",
            "description_width": ""
          }
        },
        "8296f9793bda42789cd13eea46124222": {
          "model_module": "@jupyter-widgets/controls",
          "model_name": "HBoxModel",
          "model_module_version": "1.5.0",
          "state": {
            "_dom_classes": [],
            "_model_module": "@jupyter-widgets/controls",
            "_model_module_version": "1.5.0",
            "_model_name": "HBoxModel",
            "_view_count": null,
            "_view_module": "@jupyter-widgets/controls",
            "_view_module_version": "1.5.0",
            "_view_name": "HBoxView",
            "box_style": "",
            "children": [
              "IPY_MODEL_64311def0157478aa9db39184f202c4e",
              "IPY_MODEL_5630e897ebc44ce1b1cd14ca5d654648",
              "IPY_MODEL_074b825494be4e398e638a347fe20c66"
            ],
            "layout": "IPY_MODEL_d280bcdcfea144dc8a11bdff0fd32c5f"
          }
        },
        "64311def0157478aa9db39184f202c4e": {
          "model_module": "@jupyter-widgets/controls",
          "model_name": "HTMLModel",
          "model_module_version": "1.5.0",
          "state": {
            "_dom_classes": [],
            "_model_module": "@jupyter-widgets/controls",
            "_model_module_version": "1.5.0",
            "_model_name": "HTMLModel",
            "_view_count": null,
            "_view_module": "@jupyter-widgets/controls",
            "_view_module_version": "1.5.0",
            "_view_name": "HTMLView",
            "description": "",
            "description_tooltip": null,
            "layout": "IPY_MODEL_5746949391d841ae874b9876f5b1bd23",
            "placeholder": "​",
            "style": "IPY_MODEL_be6715bc109d4096b21397a36e8b8bc9",
            "value": "tokenizer.json: 100%"
          }
        },
        "5630e897ebc44ce1b1cd14ca5d654648": {
          "model_module": "@jupyter-widgets/controls",
          "model_name": "FloatProgressModel",
          "model_module_version": "1.5.0",
          "state": {
            "_dom_classes": [],
            "_model_module": "@jupyter-widgets/controls",
            "_model_module_version": "1.5.0",
            "_model_name": "FloatProgressModel",
            "_view_count": null,
            "_view_module": "@jupyter-widgets/controls",
            "_view_module_version": "1.5.0",
            "_view_name": "ProgressView",
            "bar_style": "success",
            "description": "",
            "description_tooltip": null,
            "layout": "IPY_MODEL_100f7fb4771c4fd8aa00b9b2c40812d3",
            "max": 1389353,
            "min": 0,
            "orientation": "horizontal",
            "style": "IPY_MODEL_c004db3492b94276a13bc5ca25699850",
            "value": 1389353
          }
        },
        "074b825494be4e398e638a347fe20c66": {
          "model_module": "@jupyter-widgets/controls",
          "model_name": "HTMLModel",
          "model_module_version": "1.5.0",
          "state": {
            "_dom_classes": [],
            "_model_module": "@jupyter-widgets/controls",
            "_model_module_version": "1.5.0",
            "_model_name": "HTMLModel",
            "_view_count": null,
            "_view_module": "@jupyter-widgets/controls",
            "_view_module_version": "1.5.0",
            "_view_name": "HTMLView",
            "description": "",
            "description_tooltip": null,
            "layout": "IPY_MODEL_c3612b1c00d549388f9d4f1e6e6a81ae",
            "placeholder": "​",
            "style": "IPY_MODEL_36417bdb366c44bbad0143b6cbc55ad9",
            "value": " 1.39M/1.39M [00:00&lt;00:00, 9.64MB/s]"
          }
        },
        "d280bcdcfea144dc8a11bdff0fd32c5f": {
          "model_module": "@jupyter-widgets/base",
          "model_name": "LayoutModel",
          "model_module_version": "1.2.0",
          "state": {
            "_model_module": "@jupyter-widgets/base",
            "_model_module_version": "1.2.0",
            "_model_name": "LayoutModel",
            "_view_count": null,
            "_view_module": "@jupyter-widgets/base",
            "_view_module_version": "1.2.0",
            "_view_name": "LayoutView",
            "align_content": null,
            "align_items": null,
            "align_self": null,
            "border": null,
            "bottom": null,
            "display": null,
            "flex": null,
            "flex_flow": null,
            "grid_area": null,
            "grid_auto_columns": null,
            "grid_auto_flow": null,
            "grid_auto_rows": null,
            "grid_column": null,
            "grid_gap": null,
            "grid_row": null,
            "grid_template_areas": null,
            "grid_template_columns": null,
            "grid_template_rows": null,
            "height": null,
            "justify_content": null,
            "justify_items": null,
            "left": null,
            "margin": null,
            "max_height": null,
            "max_width": null,
            "min_height": null,
            "min_width": null,
            "object_fit": null,
            "object_position": null,
            "order": null,
            "overflow": null,
            "overflow_x": null,
            "overflow_y": null,
            "padding": null,
            "right": null,
            "top": null,
            "visibility": null,
            "width": null
          }
        },
        "5746949391d841ae874b9876f5b1bd23": {
          "model_module": "@jupyter-widgets/base",
          "model_name": "LayoutModel",
          "model_module_version": "1.2.0",
          "state": {
            "_model_module": "@jupyter-widgets/base",
            "_model_module_version": "1.2.0",
            "_model_name": "LayoutModel",
            "_view_count": null,
            "_view_module": "@jupyter-widgets/base",
            "_view_module_version": "1.2.0",
            "_view_name": "LayoutView",
            "align_content": null,
            "align_items": null,
            "align_self": null,
            "border": null,
            "bottom": null,
            "display": null,
            "flex": null,
            "flex_flow": null,
            "grid_area": null,
            "grid_auto_columns": null,
            "grid_auto_flow": null,
            "grid_auto_rows": null,
            "grid_column": null,
            "grid_gap": null,
            "grid_row": null,
            "grid_template_areas": null,
            "grid_template_columns": null,
            "grid_template_rows": null,
            "height": null,
            "justify_content": null,
            "justify_items": null,
            "left": null,
            "margin": null,
            "max_height": null,
            "max_width": null,
            "min_height": null,
            "min_width": null,
            "object_fit": null,
            "object_position": null,
            "order": null,
            "overflow": null,
            "overflow_x": null,
            "overflow_y": null,
            "padding": null,
            "right": null,
            "top": null,
            "visibility": null,
            "width": null
          }
        },
        "be6715bc109d4096b21397a36e8b8bc9": {
          "model_module": "@jupyter-widgets/controls",
          "model_name": "DescriptionStyleModel",
          "model_module_version": "1.5.0",
          "state": {
            "_model_module": "@jupyter-widgets/controls",
            "_model_module_version": "1.5.0",
            "_model_name": "DescriptionStyleModel",
            "_view_count": null,
            "_view_module": "@jupyter-widgets/base",
            "_view_module_version": "1.2.0",
            "_view_name": "StyleView",
            "description_width": ""
          }
        },
        "100f7fb4771c4fd8aa00b9b2c40812d3": {
          "model_module": "@jupyter-widgets/base",
          "model_name": "LayoutModel",
          "model_module_version": "1.2.0",
          "state": {
            "_model_module": "@jupyter-widgets/base",
            "_model_module_version": "1.2.0",
            "_model_name": "LayoutModel",
            "_view_count": null,
            "_view_module": "@jupyter-widgets/base",
            "_view_module_version": "1.2.0",
            "_view_name": "LayoutView",
            "align_content": null,
            "align_items": null,
            "align_self": null,
            "border": null,
            "bottom": null,
            "display": null,
            "flex": null,
            "flex_flow": null,
            "grid_area": null,
            "grid_auto_columns": null,
            "grid_auto_flow": null,
            "grid_auto_rows": null,
            "grid_column": null,
            "grid_gap": null,
            "grid_row": null,
            "grid_template_areas": null,
            "grid_template_columns": null,
            "grid_template_rows": null,
            "height": null,
            "justify_content": null,
            "justify_items": null,
            "left": null,
            "margin": null,
            "max_height": null,
            "max_width": null,
            "min_height": null,
            "min_width": null,
            "object_fit": null,
            "object_position": null,
            "order": null,
            "overflow": null,
            "overflow_x": null,
            "overflow_y": null,
            "padding": null,
            "right": null,
            "top": null,
            "visibility": null,
            "width": null
          }
        },
        "c004db3492b94276a13bc5ca25699850": {
          "model_module": "@jupyter-widgets/controls",
          "model_name": "ProgressStyleModel",
          "model_module_version": "1.5.0",
          "state": {
            "_model_module": "@jupyter-widgets/controls",
            "_model_module_version": "1.5.0",
            "_model_name": "ProgressStyleModel",
            "_view_count": null,
            "_view_module": "@jupyter-widgets/base",
            "_view_module_version": "1.2.0",
            "_view_name": "StyleView",
            "bar_color": null,
            "description_width": ""
          }
        },
        "c3612b1c00d549388f9d4f1e6e6a81ae": {
          "model_module": "@jupyter-widgets/base",
          "model_name": "LayoutModel",
          "model_module_version": "1.2.0",
          "state": {
            "_model_module": "@jupyter-widgets/base",
            "_model_module_version": "1.2.0",
            "_model_name": "LayoutModel",
            "_view_count": null,
            "_view_module": "@jupyter-widgets/base",
            "_view_module_version": "1.2.0",
            "_view_name": "LayoutView",
            "align_content": null,
            "align_items": null,
            "align_self": null,
            "border": null,
            "bottom": null,
            "display": null,
            "flex": null,
            "flex_flow": null,
            "grid_area": null,
            "grid_auto_columns": null,
            "grid_auto_flow": null,
            "grid_auto_rows": null,
            "grid_column": null,
            "grid_gap": null,
            "grid_row": null,
            "grid_template_areas": null,
            "grid_template_columns": null,
            "grid_template_rows": null,
            "height": null,
            "justify_content": null,
            "justify_items": null,
            "left": null,
            "margin": null,
            "max_height": null,
            "max_width": null,
            "min_height": null,
            "min_width": null,
            "object_fit": null,
            "object_position": null,
            "order": null,
            "overflow": null,
            "overflow_x": null,
            "overflow_y": null,
            "padding": null,
            "right": null,
            "top": null,
            "visibility": null,
            "width": null
          }
        },
        "36417bdb366c44bbad0143b6cbc55ad9": {
          "model_module": "@jupyter-widgets/controls",
          "model_name": "DescriptionStyleModel",
          "model_module_version": "1.5.0",
          "state": {
            "_model_module": "@jupyter-widgets/controls",
            "_model_module_version": "1.5.0",
            "_model_name": "DescriptionStyleModel",
            "_view_count": null,
            "_view_module": "@jupyter-widgets/base",
            "_view_module_version": "1.2.0",
            "_view_name": "StyleView",
            "description_width": ""
          }
        },
        "77069375919747d4bd7ccaecbdd7d69f": {
          "model_module": "@jupyter-widgets/controls",
          "model_name": "HBoxModel",
          "model_module_version": "1.5.0",
          "state": {
            "_dom_classes": [],
            "_model_module": "@jupyter-widgets/controls",
            "_model_module_version": "1.5.0",
            "_model_name": "HBoxModel",
            "_view_count": null,
            "_view_module": "@jupyter-widgets/controls",
            "_view_module_version": "1.5.0",
            "_view_name": "HBoxView",
            "box_style": "",
            "children": [
              "IPY_MODEL_2349ac5c5cca4257b844977591117018",
              "IPY_MODEL_9ec37f9585d04e4395f4883c0bc00e8a",
              "IPY_MODEL_158d051196d74dda9a769a7ecd6dddc1"
            ],
            "layout": "IPY_MODEL_f6d8f8df2b8642fab3fd15398aefced7"
          }
        },
        "2349ac5c5cca4257b844977591117018": {
          "model_module": "@jupyter-widgets/controls",
          "model_name": "HTMLModel",
          "model_module_version": "1.5.0",
          "state": {
            "_dom_classes": [],
            "_model_module": "@jupyter-widgets/controls",
            "_model_module_version": "1.5.0",
            "_model_name": "HTMLModel",
            "_view_count": null,
            "_view_module": "@jupyter-widgets/controls",
            "_view_module_version": "1.5.0",
            "_view_name": "HTMLView",
            "description": "",
            "description_tooltip": null,
            "layout": "IPY_MODEL_e193b5fc3b6f4539bff03d8e878218cb",
            "placeholder": "​",
            "style": "IPY_MODEL_7a4de0c8e4cb465e86fcd2727b6752ab",
            "value": "config.json: 100%"
          }
        },
        "9ec37f9585d04e4395f4883c0bc00e8a": {
          "model_module": "@jupyter-widgets/controls",
          "model_name": "FloatProgressModel",
          "model_module_version": "1.5.0",
          "state": {
            "_dom_classes": [],
            "_model_module": "@jupyter-widgets/controls",
            "_model_module_version": "1.5.0",
            "_model_name": "FloatProgressModel",
            "_view_count": null,
            "_view_module": "@jupyter-widgets/controls",
            "_view_module_version": "1.5.0",
            "_view_name": "ProgressView",
            "bar_style": "success",
            "description": "",
            "description_tooltip": null,
            "layout": "IPY_MODEL_1e1fc8e9039a40d1a8760ffb92ea16c7",
            "max": 1206,
            "min": 0,
            "orientation": "horizontal",
            "style": "IPY_MODEL_00cd249e0eaa43cb8994a001775adbb3",
            "value": 1206
          }
        },
        "158d051196d74dda9a769a7ecd6dddc1": {
          "model_module": "@jupyter-widgets/controls",
          "model_name": "HTMLModel",
          "model_module_version": "1.5.0",
          "state": {
            "_dom_classes": [],
            "_model_module": "@jupyter-widgets/controls",
            "_model_module_version": "1.5.0",
            "_model_name": "HTMLModel",
            "_view_count": null,
            "_view_module": "@jupyter-widgets/controls",
            "_view_module_version": "1.5.0",
            "_view_name": "HTMLView",
            "description": "",
            "description_tooltip": null,
            "layout": "IPY_MODEL_6924ae8d418d4d5d9148d530f7475231",
            "placeholder": "​",
            "style": "IPY_MODEL_920569f825994db6ba4f84b760a9b17c",
            "value": " 1.21k/1.21k [00:00&lt;00:00, 106kB/s]"
          }
        },
        "f6d8f8df2b8642fab3fd15398aefced7": {
          "model_module": "@jupyter-widgets/base",
          "model_name": "LayoutModel",
          "model_module_version": "1.2.0",
          "state": {
            "_model_module": "@jupyter-widgets/base",
            "_model_module_version": "1.2.0",
            "_model_name": "LayoutModel",
            "_view_count": null,
            "_view_module": "@jupyter-widgets/base",
            "_view_module_version": "1.2.0",
            "_view_name": "LayoutView",
            "align_content": null,
            "align_items": null,
            "align_self": null,
            "border": null,
            "bottom": null,
            "display": null,
            "flex": null,
            "flex_flow": null,
            "grid_area": null,
            "grid_auto_columns": null,
            "grid_auto_flow": null,
            "grid_auto_rows": null,
            "grid_column": null,
            "grid_gap": null,
            "grid_row": null,
            "grid_template_areas": null,
            "grid_template_columns": null,
            "grid_template_rows": null,
            "height": null,
            "justify_content": null,
            "justify_items": null,
            "left": null,
            "margin": null,
            "max_height": null,
            "max_width": null,
            "min_height": null,
            "min_width": null,
            "object_fit": null,
            "object_position": null,
            "order": null,
            "overflow": null,
            "overflow_x": null,
            "overflow_y": null,
            "padding": null,
            "right": null,
            "top": null,
            "visibility": null,
            "width": null
          }
        },
        "e193b5fc3b6f4539bff03d8e878218cb": {
          "model_module": "@jupyter-widgets/base",
          "model_name": "LayoutModel",
          "model_module_version": "1.2.0",
          "state": {
            "_model_module": "@jupyter-widgets/base",
            "_model_module_version": "1.2.0",
            "_model_name": "LayoutModel",
            "_view_count": null,
            "_view_module": "@jupyter-widgets/base",
            "_view_module_version": "1.2.0",
            "_view_name": "LayoutView",
            "align_content": null,
            "align_items": null,
            "align_self": null,
            "border": null,
            "bottom": null,
            "display": null,
            "flex": null,
            "flex_flow": null,
            "grid_area": null,
            "grid_auto_columns": null,
            "grid_auto_flow": null,
            "grid_auto_rows": null,
            "grid_column": null,
            "grid_gap": null,
            "grid_row": null,
            "grid_template_areas": null,
            "grid_template_columns": null,
            "grid_template_rows": null,
            "height": null,
            "justify_content": null,
            "justify_items": null,
            "left": null,
            "margin": null,
            "max_height": null,
            "max_width": null,
            "min_height": null,
            "min_width": null,
            "object_fit": null,
            "object_position": null,
            "order": null,
            "overflow": null,
            "overflow_x": null,
            "overflow_y": null,
            "padding": null,
            "right": null,
            "top": null,
            "visibility": null,
            "width": null
          }
        },
        "7a4de0c8e4cb465e86fcd2727b6752ab": {
          "model_module": "@jupyter-widgets/controls",
          "model_name": "DescriptionStyleModel",
          "model_module_version": "1.5.0",
          "state": {
            "_model_module": "@jupyter-widgets/controls",
            "_model_module_version": "1.5.0",
            "_model_name": "DescriptionStyleModel",
            "_view_count": null,
            "_view_module": "@jupyter-widgets/base",
            "_view_module_version": "1.2.0",
            "_view_name": "StyleView",
            "description_width": ""
          }
        },
        "1e1fc8e9039a40d1a8760ffb92ea16c7": {
          "model_module": "@jupyter-widgets/base",
          "model_name": "LayoutModel",
          "model_module_version": "1.2.0",
          "state": {
            "_model_module": "@jupyter-widgets/base",
            "_model_module_version": "1.2.0",
            "_model_name": "LayoutModel",
            "_view_count": null,
            "_view_module": "@jupyter-widgets/base",
            "_view_module_version": "1.2.0",
            "_view_name": "LayoutView",
            "align_content": null,
            "align_items": null,
            "align_self": null,
            "border": null,
            "bottom": null,
            "display": null,
            "flex": null,
            "flex_flow": null,
            "grid_area": null,
            "grid_auto_columns": null,
            "grid_auto_flow": null,
            "grid_auto_rows": null,
            "grid_column": null,
            "grid_gap": null,
            "grid_row": null,
            "grid_template_areas": null,
            "grid_template_columns": null,
            "grid_template_rows": null,
            "height": null,
            "justify_content": null,
            "justify_items": null,
            "left": null,
            "margin": null,
            "max_height": null,
            "max_width": null,
            "min_height": null,
            "min_width": null,
            "object_fit": null,
            "object_position": null,
            "order": null,
            "overflow": null,
            "overflow_x": null,
            "overflow_y": null,
            "padding": null,
            "right": null,
            "top": null,
            "visibility": null,
            "width": null
          }
        },
        "00cd249e0eaa43cb8994a001775adbb3": {
          "model_module": "@jupyter-widgets/controls",
          "model_name": "ProgressStyleModel",
          "model_module_version": "1.5.0",
          "state": {
            "_model_module": "@jupyter-widgets/controls",
            "_model_module_version": "1.5.0",
            "_model_name": "ProgressStyleModel",
            "_view_count": null,
            "_view_module": "@jupyter-widgets/base",
            "_view_module_version": "1.2.0",
            "_view_name": "StyleView",
            "bar_color": null,
            "description_width": ""
          }
        },
        "6924ae8d418d4d5d9148d530f7475231": {
          "model_module": "@jupyter-widgets/base",
          "model_name": "LayoutModel",
          "model_module_version": "1.2.0",
          "state": {
            "_model_module": "@jupyter-widgets/base",
            "_model_module_version": "1.2.0",
            "_model_name": "LayoutModel",
            "_view_count": null,
            "_view_module": "@jupyter-widgets/base",
            "_view_module_version": "1.2.0",
            "_view_name": "LayoutView",
            "align_content": null,
            "align_items": null,
            "align_self": null,
            "border": null,
            "bottom": null,
            "display": null,
            "flex": null,
            "flex_flow": null,
            "grid_area": null,
            "grid_auto_columns": null,
            "grid_auto_flow": null,
            "grid_auto_rows": null,
            "grid_column": null,
            "grid_gap": null,
            "grid_row": null,
            "grid_template_areas": null,
            "grid_template_columns": null,
            "grid_template_rows": null,
            "height": null,
            "justify_content": null,
            "justify_items": null,
            "left": null,
            "margin": null,
            "max_height": null,
            "max_width": null,
            "min_height": null,
            "min_width": null,
            "object_fit": null,
            "object_position": null,
            "order": null,
            "overflow": null,
            "overflow_x": null,
            "overflow_y": null,
            "padding": null,
            "right": null,
            "top": null,
            "visibility": null,
            "width": null
          }
        },
        "920569f825994db6ba4f84b760a9b17c": {
          "model_module": "@jupyter-widgets/controls",
          "model_name": "DescriptionStyleModel",
          "model_module_version": "1.5.0",
          "state": {
            "_model_module": "@jupyter-widgets/controls",
            "_model_module_version": "1.5.0",
            "_model_name": "DescriptionStyleModel",
            "_view_count": null,
            "_view_module": "@jupyter-widgets/base",
            "_view_module_version": "1.2.0",
            "_view_name": "StyleView",
            "description_width": ""
          }
        },
        "0f91299c31254df2be72c84caa727823": {
          "model_module": "@jupyter-widgets/controls",
          "model_name": "HBoxModel",
          "model_module_version": "1.5.0",
          "state": {
            "_dom_classes": [],
            "_model_module": "@jupyter-widgets/controls",
            "_model_module_version": "1.5.0",
            "_model_name": "HBoxModel",
            "_view_count": null,
            "_view_module": "@jupyter-widgets/controls",
            "_view_module_version": "1.5.0",
            "_view_name": "HBoxView",
            "box_style": "",
            "children": [
              "IPY_MODEL_c63ca98182944ae7a6c13a6ce13e5ff8",
              "IPY_MODEL_8c8885aeac1d4edc885a2f78b80d47b6",
              "IPY_MODEL_1ddb76a45374499fbde85c369fc666a8"
            ],
            "layout": "IPY_MODEL_a27225a16f5f4b6f9f0c56ebcf4ac918"
          }
        },
        "c63ca98182944ae7a6c13a6ce13e5ff8": {
          "model_module": "@jupyter-widgets/controls",
          "model_name": "HTMLModel",
          "model_module_version": "1.5.0",
          "state": {
            "_dom_classes": [],
            "_model_module": "@jupyter-widgets/controls",
            "_model_module_version": "1.5.0",
            "_model_name": "HTMLModel",
            "_view_count": null,
            "_view_module": "@jupyter-widgets/controls",
            "_view_module_version": "1.5.0",
            "_view_name": "HTMLView",
            "description": "",
            "description_tooltip": null,
            "layout": "IPY_MODEL_724d95070d2b40ed8d3f737180ada80e",
            "placeholder": "​",
            "style": "IPY_MODEL_d392bb3370484346b2d93ee915accfb9",
            "value": "model.safetensors: 100%"
          }
        },
        "8c8885aeac1d4edc885a2f78b80d47b6": {
          "model_module": "@jupyter-widgets/controls",
          "model_name": "FloatProgressModel",
          "model_module_version": "1.5.0",
          "state": {
            "_dom_classes": [],
            "_model_module": "@jupyter-widgets/controls",
            "_model_module_version": "1.5.0",
            "_model_name": "FloatProgressModel",
            "_view_count": null,
            "_view_module": "@jupyter-widgets/controls",
            "_view_module_version": "1.5.0",
            "_view_name": "ProgressView",
            "bar_style": "success",
            "description": "",
            "description_tooltip": null,
            "layout": "IPY_MODEL_592627ce2048432e995d7fc0e72ee0f9",
            "max": 242043056,
            "min": 0,
            "orientation": "horizontal",
            "style": "IPY_MODEL_9954e3758eb44733acd9971d5697ce5f",
            "value": 242043056
          }
        },
        "1ddb76a45374499fbde85c369fc666a8": {
          "model_module": "@jupyter-widgets/controls",
          "model_name": "HTMLModel",
          "model_module_version": "1.5.0",
          "state": {
            "_dom_classes": [],
            "_model_module": "@jupyter-widgets/controls",
            "_model_module_version": "1.5.0",
            "_model_name": "HTMLModel",
            "_view_count": null,
            "_view_module": "@jupyter-widgets/controls",
            "_view_module_version": "1.5.0",
            "_view_name": "HTMLView",
            "description": "",
            "description_tooltip": null,
            "layout": "IPY_MODEL_c5cc163c507c4241b80a1d6d25caad32",
            "placeholder": "​",
            "style": "IPY_MODEL_dfe7750fd85b4eb9ba5fe4cdc055a714",
            "value": " 242M/242M [00:01&lt;00:00, 236MB/s]"
          }
        },
        "a27225a16f5f4b6f9f0c56ebcf4ac918": {
          "model_module": "@jupyter-widgets/base",
          "model_name": "LayoutModel",
          "model_module_version": "1.2.0",
          "state": {
            "_model_module": "@jupyter-widgets/base",
            "_model_module_version": "1.2.0",
            "_model_name": "LayoutModel",
            "_view_count": null,
            "_view_module": "@jupyter-widgets/base",
            "_view_module_version": "1.2.0",
            "_view_name": "LayoutView",
            "align_content": null,
            "align_items": null,
            "align_self": null,
            "border": null,
            "bottom": null,
            "display": null,
            "flex": null,
            "flex_flow": null,
            "grid_area": null,
            "grid_auto_columns": null,
            "grid_auto_flow": null,
            "grid_auto_rows": null,
            "grid_column": null,
            "grid_gap": null,
            "grid_row": null,
            "grid_template_areas": null,
            "grid_template_columns": null,
            "grid_template_rows": null,
            "height": null,
            "justify_content": null,
            "justify_items": null,
            "left": null,
            "margin": null,
            "max_height": null,
            "max_width": null,
            "min_height": null,
            "min_width": null,
            "object_fit": null,
            "object_position": null,
            "order": null,
            "overflow": null,
            "overflow_x": null,
            "overflow_y": null,
            "padding": null,
            "right": null,
            "top": null,
            "visibility": null,
            "width": null
          }
        },
        "724d95070d2b40ed8d3f737180ada80e": {
          "model_module": "@jupyter-widgets/base",
          "model_name": "LayoutModel",
          "model_module_version": "1.2.0",
          "state": {
            "_model_module": "@jupyter-widgets/base",
            "_model_module_version": "1.2.0",
            "_model_name": "LayoutModel",
            "_view_count": null,
            "_view_module": "@jupyter-widgets/base",
            "_view_module_version": "1.2.0",
            "_view_name": "LayoutView",
            "align_content": null,
            "align_items": null,
            "align_self": null,
            "border": null,
            "bottom": null,
            "display": null,
            "flex": null,
            "flex_flow": null,
            "grid_area": null,
            "grid_auto_columns": null,
            "grid_auto_flow": null,
            "grid_auto_rows": null,
            "grid_column": null,
            "grid_gap": null,
            "grid_row": null,
            "grid_template_areas": null,
            "grid_template_columns": null,
            "grid_template_rows": null,
            "height": null,
            "justify_content": null,
            "justify_items": null,
            "left": null,
            "margin": null,
            "max_height": null,
            "max_width": null,
            "min_height": null,
            "min_width": null,
            "object_fit": null,
            "object_position": null,
            "order": null,
            "overflow": null,
            "overflow_x": null,
            "overflow_y": null,
            "padding": null,
            "right": null,
            "top": null,
            "visibility": null,
            "width": null
          }
        },
        "d392bb3370484346b2d93ee915accfb9": {
          "model_module": "@jupyter-widgets/controls",
          "model_name": "DescriptionStyleModel",
          "model_module_version": "1.5.0",
          "state": {
            "_model_module": "@jupyter-widgets/controls",
            "_model_module_version": "1.5.0",
            "_model_name": "DescriptionStyleModel",
            "_view_count": null,
            "_view_module": "@jupyter-widgets/base",
            "_view_module_version": "1.2.0",
            "_view_name": "StyleView",
            "description_width": ""
          }
        },
        "592627ce2048432e995d7fc0e72ee0f9": {
          "model_module": "@jupyter-widgets/base",
          "model_name": "LayoutModel",
          "model_module_version": "1.2.0",
          "state": {
            "_model_module": "@jupyter-widgets/base",
            "_model_module_version": "1.2.0",
            "_model_name": "LayoutModel",
            "_view_count": null,
            "_view_module": "@jupyter-widgets/base",
            "_view_module_version": "1.2.0",
            "_view_name": "LayoutView",
            "align_content": null,
            "align_items": null,
            "align_self": null,
            "border": null,
            "bottom": null,
            "display": null,
            "flex": null,
            "flex_flow": null,
            "grid_area": null,
            "grid_auto_columns": null,
            "grid_auto_flow": null,
            "grid_auto_rows": null,
            "grid_column": null,
            "grid_gap": null,
            "grid_row": null,
            "grid_template_areas": null,
            "grid_template_columns": null,
            "grid_template_rows": null,
            "height": null,
            "justify_content": null,
            "justify_items": null,
            "left": null,
            "margin": null,
            "max_height": null,
            "max_width": null,
            "min_height": null,
            "min_width": null,
            "object_fit": null,
            "object_position": null,
            "order": null,
            "overflow": null,
            "overflow_x": null,
            "overflow_y": null,
            "padding": null,
            "right": null,
            "top": null,
            "visibility": null,
            "width": null
          }
        },
        "9954e3758eb44733acd9971d5697ce5f": {
          "model_module": "@jupyter-widgets/controls",
          "model_name": "ProgressStyleModel",
          "model_module_version": "1.5.0",
          "state": {
            "_model_module": "@jupyter-widgets/controls",
            "_model_module_version": "1.5.0",
            "_model_name": "ProgressStyleModel",
            "_view_count": null,
            "_view_module": "@jupyter-widgets/base",
            "_view_module_version": "1.2.0",
            "_view_name": "StyleView",
            "bar_color": null,
            "description_width": ""
          }
        },
        "c5cc163c507c4241b80a1d6d25caad32": {
          "model_module": "@jupyter-widgets/base",
          "model_name": "LayoutModel",
          "model_module_version": "1.2.0",
          "state": {
            "_model_module": "@jupyter-widgets/base",
            "_model_module_version": "1.2.0",
            "_model_name": "LayoutModel",
            "_view_count": null,
            "_view_module": "@jupyter-widgets/base",
            "_view_module_version": "1.2.0",
            "_view_name": "LayoutView",
            "align_content": null,
            "align_items": null,
            "align_self": null,
            "border": null,
            "bottom": null,
            "display": null,
            "flex": null,
            "flex_flow": null,
            "grid_area": null,
            "grid_auto_columns": null,
            "grid_auto_flow": null,
            "grid_auto_rows": null,
            "grid_column": null,
            "grid_gap": null,
            "grid_row": null,
            "grid_template_areas": null,
            "grid_template_columns": null,
            "grid_template_rows": null,
            "height": null,
            "justify_content": null,
            "justify_items": null,
            "left": null,
            "margin": null,
            "max_height": null,
            "max_width": null,
            "min_height": null,
            "min_width": null,
            "object_fit": null,
            "object_position": null,
            "order": null,
            "overflow": null,
            "overflow_x": null,
            "overflow_y": null,
            "padding": null,
            "right": null,
            "top": null,
            "visibility": null,
            "width": null
          }
        },
        "dfe7750fd85b4eb9ba5fe4cdc055a714": {
          "model_module": "@jupyter-widgets/controls",
          "model_name": "DescriptionStyleModel",
          "model_module_version": "1.5.0",
          "state": {
            "_model_module": "@jupyter-widgets/controls",
            "_model_module_version": "1.5.0",
            "_model_name": "DescriptionStyleModel",
            "_view_count": null,
            "_view_module": "@jupyter-widgets/base",
            "_view_module_version": "1.2.0",
            "_view_name": "StyleView",
            "description_width": ""
          }
        },
        "d2796544b81f4c79ad1e2898bbf9e142": {
          "model_module": "@jupyter-widgets/controls",
          "model_name": "HBoxModel",
          "model_module_version": "1.5.0",
          "state": {
            "_dom_classes": [],
            "_model_module": "@jupyter-widgets/controls",
            "_model_module_version": "1.5.0",
            "_model_name": "HBoxModel",
            "_view_count": null,
            "_view_module": "@jupyter-widgets/controls",
            "_view_module_version": "1.5.0",
            "_view_name": "HBoxView",
            "box_style": "",
            "children": [
              "IPY_MODEL_eab197047f0842418715175a15567cfc",
              "IPY_MODEL_4ad46ab7fa6848efba8a853acf1dd7ba",
              "IPY_MODEL_1b56dd6fd3f8443484ff3922c627f5ab"
            ],
            "layout": "IPY_MODEL_746d33a0392843029acabb30adcc3410"
          }
        },
        "eab197047f0842418715175a15567cfc": {
          "model_module": "@jupyter-widgets/controls",
          "model_name": "HTMLModel",
          "model_module_version": "1.5.0",
          "state": {
            "_dom_classes": [],
            "_model_module": "@jupyter-widgets/controls",
            "_model_module_version": "1.5.0",
            "_model_name": "HTMLModel",
            "_view_count": null,
            "_view_module": "@jupyter-widgets/controls",
            "_view_module_version": "1.5.0",
            "_view_name": "HTMLView",
            "description": "",
            "description_tooltip": null,
            "layout": "IPY_MODEL_84bc8050167345cb84366d93032fcb81",
            "placeholder": "​",
            "style": "IPY_MODEL_e85370eba991436bb869c53ec3faf63f",
            "value": "generation_config.json: 100%"
          }
        },
        "4ad46ab7fa6848efba8a853acf1dd7ba": {
          "model_module": "@jupyter-widgets/controls",
          "model_name": "FloatProgressModel",
          "model_module_version": "1.5.0",
          "state": {
            "_dom_classes": [],
            "_model_module": "@jupyter-widgets/controls",
            "_model_module_version": "1.5.0",
            "_model_name": "FloatProgressModel",
            "_view_count": null,
            "_view_module": "@jupyter-widgets/controls",
            "_view_module_version": "1.5.0",
            "_view_name": "ProgressView",
            "bar_style": "success",
            "description": "",
            "description_tooltip": null,
            "layout": "IPY_MODEL_2cb911d453b34632b83fd3dad7e6168b",
            "max": 147,
            "min": 0,
            "orientation": "horizontal",
            "style": "IPY_MODEL_3d5b93e8e0424b66b01524f66717ba40",
            "value": 147
          }
        },
        "1b56dd6fd3f8443484ff3922c627f5ab": {
          "model_module": "@jupyter-widgets/controls",
          "model_name": "HTMLModel",
          "model_module_version": "1.5.0",
          "state": {
            "_dom_classes": [],
            "_model_module": "@jupyter-widgets/controls",
            "_model_module_version": "1.5.0",
            "_model_name": "HTMLModel",
            "_view_count": null,
            "_view_module": "@jupyter-widgets/controls",
            "_view_module_version": "1.5.0",
            "_view_name": "HTMLView",
            "description": "",
            "description_tooltip": null,
            "layout": "IPY_MODEL_96c034b4c4614c5a846608aae8e84251",
            "placeholder": "​",
            "style": "IPY_MODEL_154e5e1c0a4b449f8d46734d0b37deb2",
            "value": " 147/147 [00:00&lt;00:00, 13.5kB/s]"
          }
        },
        "746d33a0392843029acabb30adcc3410": {
          "model_module": "@jupyter-widgets/base",
          "model_name": "LayoutModel",
          "model_module_version": "1.2.0",
          "state": {
            "_model_module": "@jupyter-widgets/base",
            "_model_module_version": "1.2.0",
            "_model_name": "LayoutModel",
            "_view_count": null,
            "_view_module": "@jupyter-widgets/base",
            "_view_module_version": "1.2.0",
            "_view_name": "LayoutView",
            "align_content": null,
            "align_items": null,
            "align_self": null,
            "border": null,
            "bottom": null,
            "display": null,
            "flex": null,
            "flex_flow": null,
            "grid_area": null,
            "grid_auto_columns": null,
            "grid_auto_flow": null,
            "grid_auto_rows": null,
            "grid_column": null,
            "grid_gap": null,
            "grid_row": null,
            "grid_template_areas": null,
            "grid_template_columns": null,
            "grid_template_rows": null,
            "height": null,
            "justify_content": null,
            "justify_items": null,
            "left": null,
            "margin": null,
            "max_height": null,
            "max_width": null,
            "min_height": null,
            "min_width": null,
            "object_fit": null,
            "object_position": null,
            "order": null,
            "overflow": null,
            "overflow_x": null,
            "overflow_y": null,
            "padding": null,
            "right": null,
            "top": null,
            "visibility": null,
            "width": null
          }
        },
        "84bc8050167345cb84366d93032fcb81": {
          "model_module": "@jupyter-widgets/base",
          "model_name": "LayoutModel",
          "model_module_version": "1.2.0",
          "state": {
            "_model_module": "@jupyter-widgets/base",
            "_model_module_version": "1.2.0",
            "_model_name": "LayoutModel",
            "_view_count": null,
            "_view_module": "@jupyter-widgets/base",
            "_view_module_version": "1.2.0",
            "_view_name": "LayoutView",
            "align_content": null,
            "align_items": null,
            "align_self": null,
            "border": null,
            "bottom": null,
            "display": null,
            "flex": null,
            "flex_flow": null,
            "grid_area": null,
            "grid_auto_columns": null,
            "grid_auto_flow": null,
            "grid_auto_rows": null,
            "grid_column": null,
            "grid_gap": null,
            "grid_row": null,
            "grid_template_areas": null,
            "grid_template_columns": null,
            "grid_template_rows": null,
            "height": null,
            "justify_content": null,
            "justify_items": null,
            "left": null,
            "margin": null,
            "max_height": null,
            "max_width": null,
            "min_height": null,
            "min_width": null,
            "object_fit": null,
            "object_position": null,
            "order": null,
            "overflow": null,
            "overflow_x": null,
            "overflow_y": null,
            "padding": null,
            "right": null,
            "top": null,
            "visibility": null,
            "width": null
          }
        },
        "e85370eba991436bb869c53ec3faf63f": {
          "model_module": "@jupyter-widgets/controls",
          "model_name": "DescriptionStyleModel",
          "model_module_version": "1.5.0",
          "state": {
            "_model_module": "@jupyter-widgets/controls",
            "_model_module_version": "1.5.0",
            "_model_name": "DescriptionStyleModel",
            "_view_count": null,
            "_view_module": "@jupyter-widgets/base",
            "_view_module_version": "1.2.0",
            "_view_name": "StyleView",
            "description_width": ""
          }
        },
        "2cb911d453b34632b83fd3dad7e6168b": {
          "model_module": "@jupyter-widgets/base",
          "model_name": "LayoutModel",
          "model_module_version": "1.2.0",
          "state": {
            "_model_module": "@jupyter-widgets/base",
            "_model_module_version": "1.2.0",
            "_model_name": "LayoutModel",
            "_view_count": null,
            "_view_module": "@jupyter-widgets/base",
            "_view_module_version": "1.2.0",
            "_view_name": "LayoutView",
            "align_content": null,
            "align_items": null,
            "align_self": null,
            "border": null,
            "bottom": null,
            "display": null,
            "flex": null,
            "flex_flow": null,
            "grid_area": null,
            "grid_auto_columns": null,
            "grid_auto_flow": null,
            "grid_auto_rows": null,
            "grid_column": null,
            "grid_gap": null,
            "grid_row": null,
            "grid_template_areas": null,
            "grid_template_columns": null,
            "grid_template_rows": null,
            "height": null,
            "justify_content": null,
            "justify_items": null,
            "left": null,
            "margin": null,
            "max_height": null,
            "max_width": null,
            "min_height": null,
            "min_width": null,
            "object_fit": null,
            "object_position": null,
            "order": null,
            "overflow": null,
            "overflow_x": null,
            "overflow_y": null,
            "padding": null,
            "right": null,
            "top": null,
            "visibility": null,
            "width": null
          }
        },
        "3d5b93e8e0424b66b01524f66717ba40": {
          "model_module": "@jupyter-widgets/controls",
          "model_name": "ProgressStyleModel",
          "model_module_version": "1.5.0",
          "state": {
            "_model_module": "@jupyter-widgets/controls",
            "_model_module_version": "1.5.0",
            "_model_name": "ProgressStyleModel",
            "_view_count": null,
            "_view_module": "@jupyter-widgets/base",
            "_view_module_version": "1.2.0",
            "_view_name": "StyleView",
            "bar_color": null,
            "description_width": ""
          }
        },
        "96c034b4c4614c5a846608aae8e84251": {
          "model_module": "@jupyter-widgets/base",
          "model_name": "LayoutModel",
          "model_module_version": "1.2.0",
          "state": {
            "_model_module": "@jupyter-widgets/base",
            "_model_module_version": "1.2.0",
            "_model_name": "LayoutModel",
            "_view_count": null,
            "_view_module": "@jupyter-widgets/base",
            "_view_module_version": "1.2.0",
            "_view_name": "LayoutView",
            "align_content": null,
            "align_items": null,
            "align_self": null,
            "border": null,
            "bottom": null,
            "display": null,
            "flex": null,
            "flex_flow": null,
            "grid_area": null,
            "grid_auto_columns": null,
            "grid_auto_flow": null,
            "grid_auto_rows": null,
            "grid_column": null,
            "grid_gap": null,
            "grid_row": null,
            "grid_template_areas": null,
            "grid_template_columns": null,
            "grid_template_rows": null,
            "height": null,
            "justify_content": null,
            "justify_items": null,
            "left": null,
            "margin": null,
            "max_height": null,
            "max_width": null,
            "min_height": null,
            "min_width": null,
            "object_fit": null,
            "object_position": null,
            "order": null,
            "overflow": null,
            "overflow_x": null,
            "overflow_y": null,
            "padding": null,
            "right": null,
            "top": null,
            "visibility": null,
            "width": null
          }
        },
        "154e5e1c0a4b449f8d46734d0b37deb2": {
          "model_module": "@jupyter-widgets/controls",
          "model_name": "DescriptionStyleModel",
          "model_module_version": "1.5.0",
          "state": {
            "_model_module": "@jupyter-widgets/controls",
            "_model_module_version": "1.5.0",
            "_model_name": "DescriptionStyleModel",
            "_view_count": null,
            "_view_module": "@jupyter-widgets/base",
            "_view_module_version": "1.2.0",
            "_view_name": "StyleView",
            "description_width": ""
          }
        },
        "61ca36a1236541e38ccd199e3d0741d8": {
          "model_module": "@jupyter-widgets/controls",
          "model_name": "HBoxModel",
          "model_module_version": "1.5.0",
          "state": {
            "_dom_classes": [],
            "_model_module": "@jupyter-widgets/controls",
            "_model_module_version": "1.5.0",
            "_model_name": "HBoxModel",
            "_view_count": null,
            "_view_module": "@jupyter-widgets/controls",
            "_view_module_version": "1.5.0",
            "_view_name": "HBoxView",
            "box_style": "",
            "children": [
              "IPY_MODEL_b9fe978362cf4c47bf2f0cfeacb2e8b4",
              "IPY_MODEL_ab7f5ea0299d4856a8739e9989f55098",
              "IPY_MODEL_3d9f19a8e4144d3f9ca82b381fa402a3"
            ],
            "layout": "IPY_MODEL_84e7bdfb04ce4ad986e78fa784d40a06"
          }
        },
        "b9fe978362cf4c47bf2f0cfeacb2e8b4": {
          "model_module": "@jupyter-widgets/controls",
          "model_name": "HTMLModel",
          "model_module_version": "1.5.0",
          "state": {
            "_dom_classes": [],
            "_model_module": "@jupyter-widgets/controls",
            "_model_module_version": "1.5.0",
            "_model_name": "HTMLModel",
            "_view_count": null,
            "_view_module": "@jupyter-widgets/controls",
            "_view_module_version": "1.5.0",
            "_view_name": "HTMLView",
            "description": "",
            "description_tooltip": null,
            "layout": "IPY_MODEL_b0463156cdf84907981f118c1dbd65e6",
            "placeholder": "​",
            "style": "IPY_MODEL_2ad072315fbb4c7e86b8b9acb2e74123",
            "value": "Map: 100%"
          }
        },
        "ab7f5ea0299d4856a8739e9989f55098": {
          "model_module": "@jupyter-widgets/controls",
          "model_name": "FloatProgressModel",
          "model_module_version": "1.5.0",
          "state": {
            "_dom_classes": [],
            "_model_module": "@jupyter-widgets/controls",
            "_model_module_version": "1.5.0",
            "_model_name": "FloatProgressModel",
            "_view_count": null,
            "_view_module": "@jupyter-widgets/controls",
            "_view_module_version": "1.5.0",
            "_view_name": "ProgressView",
            "bar_style": "success",
            "description": "",
            "description_tooltip": null,
            "layout": "IPY_MODEL_b6b3d80f51dc4305941f71a69385228c",
            "max": 40000,
            "min": 0,
            "orientation": "horizontal",
            "style": "IPY_MODEL_9def162bb52e49a8a658075d8c2f572f",
            "value": 40000
          }
        },
        "3d9f19a8e4144d3f9ca82b381fa402a3": {
          "model_module": "@jupyter-widgets/controls",
          "model_name": "HTMLModel",
          "model_module_version": "1.5.0",
          "state": {
            "_dom_classes": [],
            "_model_module": "@jupyter-widgets/controls",
            "_model_module_version": "1.5.0",
            "_model_name": "HTMLModel",
            "_view_count": null,
            "_view_module": "@jupyter-widgets/controls",
            "_view_module_version": "1.5.0",
            "_view_name": "HTMLView",
            "description": "",
            "description_tooltip": null,
            "layout": "IPY_MODEL_05699db74c494f7799219a40dbee7a87",
            "placeholder": "​",
            "style": "IPY_MODEL_f8ada607c3e24b79aca3e4b2ec43b36f",
            "value": " 40000/40000 [00:13&lt;00:00, 2896.24 examples/s]"
          }
        },
        "84e7bdfb04ce4ad986e78fa784d40a06": {
          "model_module": "@jupyter-widgets/base",
          "model_name": "LayoutModel",
          "model_module_version": "1.2.0",
          "state": {
            "_model_module": "@jupyter-widgets/base",
            "_model_module_version": "1.2.0",
            "_model_name": "LayoutModel",
            "_view_count": null,
            "_view_module": "@jupyter-widgets/base",
            "_view_module_version": "1.2.0",
            "_view_name": "LayoutView",
            "align_content": null,
            "align_items": null,
            "align_self": null,
            "border": null,
            "bottom": null,
            "display": null,
            "flex": null,
            "flex_flow": null,
            "grid_area": null,
            "grid_auto_columns": null,
            "grid_auto_flow": null,
            "grid_auto_rows": null,
            "grid_column": null,
            "grid_gap": null,
            "grid_row": null,
            "grid_template_areas": null,
            "grid_template_columns": null,
            "grid_template_rows": null,
            "height": null,
            "justify_content": null,
            "justify_items": null,
            "left": null,
            "margin": null,
            "max_height": null,
            "max_width": null,
            "min_height": null,
            "min_width": null,
            "object_fit": null,
            "object_position": null,
            "order": null,
            "overflow": null,
            "overflow_x": null,
            "overflow_y": null,
            "padding": null,
            "right": null,
            "top": null,
            "visibility": null,
            "width": null
          }
        },
        "b0463156cdf84907981f118c1dbd65e6": {
          "model_module": "@jupyter-widgets/base",
          "model_name": "LayoutModel",
          "model_module_version": "1.2.0",
          "state": {
            "_model_module": "@jupyter-widgets/base",
            "_model_module_version": "1.2.0",
            "_model_name": "LayoutModel",
            "_view_count": null,
            "_view_module": "@jupyter-widgets/base",
            "_view_module_version": "1.2.0",
            "_view_name": "LayoutView",
            "align_content": null,
            "align_items": null,
            "align_self": null,
            "border": null,
            "bottom": null,
            "display": null,
            "flex": null,
            "flex_flow": null,
            "grid_area": null,
            "grid_auto_columns": null,
            "grid_auto_flow": null,
            "grid_auto_rows": null,
            "grid_column": null,
            "grid_gap": null,
            "grid_row": null,
            "grid_template_areas": null,
            "grid_template_columns": null,
            "grid_template_rows": null,
            "height": null,
            "justify_content": null,
            "justify_items": null,
            "left": null,
            "margin": null,
            "max_height": null,
            "max_width": null,
            "min_height": null,
            "min_width": null,
            "object_fit": null,
            "object_position": null,
            "order": null,
            "overflow": null,
            "overflow_x": null,
            "overflow_y": null,
            "padding": null,
            "right": null,
            "top": null,
            "visibility": null,
            "width": null
          }
        },
        "2ad072315fbb4c7e86b8b9acb2e74123": {
          "model_module": "@jupyter-widgets/controls",
          "model_name": "DescriptionStyleModel",
          "model_module_version": "1.5.0",
          "state": {
            "_model_module": "@jupyter-widgets/controls",
            "_model_module_version": "1.5.0",
            "_model_name": "DescriptionStyleModel",
            "_view_count": null,
            "_view_module": "@jupyter-widgets/base",
            "_view_module_version": "1.2.0",
            "_view_name": "StyleView",
            "description_width": ""
          }
        },
        "b6b3d80f51dc4305941f71a69385228c": {
          "model_module": "@jupyter-widgets/base",
          "model_name": "LayoutModel",
          "model_module_version": "1.2.0",
          "state": {
            "_model_module": "@jupyter-widgets/base",
            "_model_module_version": "1.2.0",
            "_model_name": "LayoutModel",
            "_view_count": null,
            "_view_module": "@jupyter-widgets/base",
            "_view_module_version": "1.2.0",
            "_view_name": "LayoutView",
            "align_content": null,
            "align_items": null,
            "align_self": null,
            "border": null,
            "bottom": null,
            "display": null,
            "flex": null,
            "flex_flow": null,
            "grid_area": null,
            "grid_auto_columns": null,
            "grid_auto_flow": null,
            "grid_auto_rows": null,
            "grid_column": null,
            "grid_gap": null,
            "grid_row": null,
            "grid_template_areas": null,
            "grid_template_columns": null,
            "grid_template_rows": null,
            "height": null,
            "justify_content": null,
            "justify_items": null,
            "left": null,
            "margin": null,
            "max_height": null,
            "max_width": null,
            "min_height": null,
            "min_width": null,
            "object_fit": null,
            "object_position": null,
            "order": null,
            "overflow": null,
            "overflow_x": null,
            "overflow_y": null,
            "padding": null,
            "right": null,
            "top": null,
            "visibility": null,
            "width": null
          }
        },
        "9def162bb52e49a8a658075d8c2f572f": {
          "model_module": "@jupyter-widgets/controls",
          "model_name": "ProgressStyleModel",
          "model_module_version": "1.5.0",
          "state": {
            "_model_module": "@jupyter-widgets/controls",
            "_model_module_version": "1.5.0",
            "_model_name": "ProgressStyleModel",
            "_view_count": null,
            "_view_module": "@jupyter-widgets/base",
            "_view_module_version": "1.2.0",
            "_view_name": "StyleView",
            "bar_color": null,
            "description_width": ""
          }
        },
        "05699db74c494f7799219a40dbee7a87": {
          "model_module": "@jupyter-widgets/base",
          "model_name": "LayoutModel",
          "model_module_version": "1.2.0",
          "state": {
            "_model_module": "@jupyter-widgets/base",
            "_model_module_version": "1.2.0",
            "_model_name": "LayoutModel",
            "_view_count": null,
            "_view_module": "@jupyter-widgets/base",
            "_view_module_version": "1.2.0",
            "_view_name": "LayoutView",
            "align_content": null,
            "align_items": null,
            "align_self": null,
            "border": null,
            "bottom": null,
            "display": null,
            "flex": null,
            "flex_flow": null,
            "grid_area": null,
            "grid_auto_columns": null,
            "grid_auto_flow": null,
            "grid_auto_rows": null,
            "grid_column": null,
            "grid_gap": null,
            "grid_row": null,
            "grid_template_areas": null,
            "grid_template_columns": null,
            "grid_template_rows": null,
            "height": null,
            "justify_content": null,
            "justify_items": null,
            "left": null,
            "margin": null,
            "max_height": null,
            "max_width": null,
            "min_height": null,
            "min_width": null,
            "object_fit": null,
            "object_position": null,
            "order": null,
            "overflow": null,
            "overflow_x": null,
            "overflow_y": null,
            "padding": null,
            "right": null,
            "top": null,
            "visibility": null,
            "width": null
          }
        },
        "f8ada607c3e24b79aca3e4b2ec43b36f": {
          "model_module": "@jupyter-widgets/controls",
          "model_name": "DescriptionStyleModel",
          "model_module_version": "1.5.0",
          "state": {
            "_model_module": "@jupyter-widgets/controls",
            "_model_module_version": "1.5.0",
            "_model_name": "DescriptionStyleModel",
            "_view_count": null,
            "_view_module": "@jupyter-widgets/base",
            "_view_module_version": "1.2.0",
            "_view_name": "StyleView",
            "description_width": ""
          }
        }
      }
    }
  },
  "cells": [
    {
      "cell_type": "code",
      "execution_count": 1,
      "metadata": {
        "id": "vA4EPMr2w8oL"
      },
      "outputs": [],
      "source": [
        "from google.colab import files"
      ]
    },
    {
      "cell_type": "code",
      "source": [
        "# Upload dataset CSV\n",
        "uploaded = files.upload()"
      ],
      "metadata": {
        "colab": {
          "base_uri": "https://localhost:8080/",
          "height": 73
        },
        "id": "jcTIrZDQxkNR",
        "outputId": "4ef9bedd-556a-4837-8837-ef01f3304099"
      },
      "execution_count": 2,
      "outputs": [
        {
          "output_type": "display_data",
          "data": {
            "text/plain": [
              "<IPython.core.display.HTML object>"
            ],
            "text/html": [
              "\n",
              "     <input type=\"file\" id=\"files-70827197-3987-4514-b2ab-fa77608b20cb\" name=\"files[]\" multiple disabled\n",
              "        style=\"border:none\" />\n",
              "     <output id=\"result-70827197-3987-4514-b2ab-fa77608b20cb\">\n",
              "      Upload widget is only available when the cell has been executed in the\n",
              "      current browser session. Please rerun this cell to enable.\n",
              "      </output>\n",
              "      <script>// Copyright 2017 Google LLC\n",
              "//\n",
              "// Licensed under the Apache License, Version 2.0 (the \"License\");\n",
              "// you may not use this file except in compliance with the License.\n",
              "// You may obtain a copy of the License at\n",
              "//\n",
              "//      http://www.apache.org/licenses/LICENSE-2.0\n",
              "//\n",
              "// Unless required by applicable law or agreed to in writing, software\n",
              "// distributed under the License is distributed on an \"AS IS\" BASIS,\n",
              "// WITHOUT WARRANTIES OR CONDITIONS OF ANY KIND, either express or implied.\n",
              "// See the License for the specific language governing permissions and\n",
              "// limitations under the License.\n",
              "\n",
              "/**\n",
              " * @fileoverview Helpers for google.colab Python module.\n",
              " */\n",
              "(function(scope) {\n",
              "function span(text, styleAttributes = {}) {\n",
              "  const element = document.createElement('span');\n",
              "  element.textContent = text;\n",
              "  for (const key of Object.keys(styleAttributes)) {\n",
              "    element.style[key] = styleAttributes[key];\n",
              "  }\n",
              "  return element;\n",
              "}\n",
              "\n",
              "// Max number of bytes which will be uploaded at a time.\n",
              "const MAX_PAYLOAD_SIZE = 100 * 1024;\n",
              "\n",
              "function _uploadFiles(inputId, outputId) {\n",
              "  const steps = uploadFilesStep(inputId, outputId);\n",
              "  const outputElement = document.getElementById(outputId);\n",
              "  // Cache steps on the outputElement to make it available for the next call\n",
              "  // to uploadFilesContinue from Python.\n",
              "  outputElement.steps = steps;\n",
              "\n",
              "  return _uploadFilesContinue(outputId);\n",
              "}\n",
              "\n",
              "// This is roughly an async generator (not supported in the browser yet),\n",
              "// where there are multiple asynchronous steps and the Python side is going\n",
              "// to poll for completion of each step.\n",
              "// This uses a Promise to block the python side on completion of each step,\n",
              "// then passes the result of the previous step as the input to the next step.\n",
              "function _uploadFilesContinue(outputId) {\n",
              "  const outputElement = document.getElementById(outputId);\n",
              "  const steps = outputElement.steps;\n",
              "\n",
              "  const next = steps.next(outputElement.lastPromiseValue);\n",
              "  return Promise.resolve(next.value.promise).then((value) => {\n",
              "    // Cache the last promise value to make it available to the next\n",
              "    // step of the generator.\n",
              "    outputElement.lastPromiseValue = value;\n",
              "    return next.value.response;\n",
              "  });\n",
              "}\n",
              "\n",
              "/**\n",
              " * Generator function which is called between each async step of the upload\n",
              " * process.\n",
              " * @param {string} inputId Element ID of the input file picker element.\n",
              " * @param {string} outputId Element ID of the output display.\n",
              " * @return {!Iterable<!Object>} Iterable of next steps.\n",
              " */\n",
              "function* uploadFilesStep(inputId, outputId) {\n",
              "  const inputElement = document.getElementById(inputId);\n",
              "  inputElement.disabled = false;\n",
              "\n",
              "  const outputElement = document.getElementById(outputId);\n",
              "  outputElement.innerHTML = '';\n",
              "\n",
              "  const pickedPromise = new Promise((resolve) => {\n",
              "    inputElement.addEventListener('change', (e) => {\n",
              "      resolve(e.target.files);\n",
              "    });\n",
              "  });\n",
              "\n",
              "  const cancel = document.createElement('button');\n",
              "  inputElement.parentElement.appendChild(cancel);\n",
              "  cancel.textContent = 'Cancel upload';\n",
              "  const cancelPromise = new Promise((resolve) => {\n",
              "    cancel.onclick = () => {\n",
              "      resolve(null);\n",
              "    };\n",
              "  });\n",
              "\n",
              "  // Wait for the user to pick the files.\n",
              "  const files = yield {\n",
              "    promise: Promise.race([pickedPromise, cancelPromise]),\n",
              "    response: {\n",
              "      action: 'starting',\n",
              "    }\n",
              "  };\n",
              "\n",
              "  cancel.remove();\n",
              "\n",
              "  // Disable the input element since further picks are not allowed.\n",
              "  inputElement.disabled = true;\n",
              "\n",
              "  if (!files) {\n",
              "    return {\n",
              "      response: {\n",
              "        action: 'complete',\n",
              "      }\n",
              "    };\n",
              "  }\n",
              "\n",
              "  for (const file of files) {\n",
              "    const li = document.createElement('li');\n",
              "    li.append(span(file.name, {fontWeight: 'bold'}));\n",
              "    li.append(span(\n",
              "        `(${file.type || 'n/a'}) - ${file.size} bytes, ` +\n",
              "        `last modified: ${\n",
              "            file.lastModifiedDate ? file.lastModifiedDate.toLocaleDateString() :\n",
              "                                    'n/a'} - `));\n",
              "    const percent = span('0% done');\n",
              "    li.appendChild(percent);\n",
              "\n",
              "    outputElement.appendChild(li);\n",
              "\n",
              "    const fileDataPromise = new Promise((resolve) => {\n",
              "      const reader = new FileReader();\n",
              "      reader.onload = (e) => {\n",
              "        resolve(e.target.result);\n",
              "      };\n",
              "      reader.readAsArrayBuffer(file);\n",
              "    });\n",
              "    // Wait for the data to be ready.\n",
              "    let fileData = yield {\n",
              "      promise: fileDataPromise,\n",
              "      response: {\n",
              "        action: 'continue',\n",
              "      }\n",
              "    };\n",
              "\n",
              "    // Use a chunked sending to avoid message size limits. See b/62115660.\n",
              "    let position = 0;\n",
              "    do {\n",
              "      const length = Math.min(fileData.byteLength - position, MAX_PAYLOAD_SIZE);\n",
              "      const chunk = new Uint8Array(fileData, position, length);\n",
              "      position += length;\n",
              "\n",
              "      const base64 = btoa(String.fromCharCode.apply(null, chunk));\n",
              "      yield {\n",
              "        response: {\n",
              "          action: 'append',\n",
              "          file: file.name,\n",
              "          data: base64,\n",
              "        },\n",
              "      };\n",
              "\n",
              "      let percentDone = fileData.byteLength === 0 ?\n",
              "          100 :\n",
              "          Math.round((position / fileData.byteLength) * 100);\n",
              "      percent.textContent = `${percentDone}% done`;\n",
              "\n",
              "    } while (position < fileData.byteLength);\n",
              "  }\n",
              "\n",
              "  // All done.\n",
              "  yield {\n",
              "    response: {\n",
              "      action: 'complete',\n",
              "    }\n",
              "  };\n",
              "}\n",
              "\n",
              "scope.google = scope.google || {};\n",
              "scope.google.colab = scope.google.colab || {};\n",
              "scope.google.colab._files = {\n",
              "  _uploadFiles,\n",
              "  _uploadFilesContinue,\n",
              "};\n",
              "})(self);\n",
              "</script> "
            ]
          },
          "metadata": {}
        },
        {
          "output_type": "stream",
          "name": "stdout",
          "text": [
            "Saving synthesis_dataset_bmi_refined.csv to synthesis_dataset_bmi_refined.csv\n"
          ]
        }
      ]
    },
    {
      "cell_type": "code",
      "source": [
        "!pip install transformers datasets"
      ],
      "metadata": {
        "colab": {
          "base_uri": "https://localhost:8080/"
        },
        "id": "tHCF8LnTzvSu",
        "outputId": "2b3dd07c-3e46-43a9-b826-5e97173eb479"
      },
      "execution_count": 3,
      "outputs": [
        {
          "output_type": "stream",
          "name": "stdout",
          "text": [
            "Requirement already satisfied: transformers in /usr/local/lib/python3.10/dist-packages (4.44.2)\n",
            "Collecting datasets\n",
            "  Downloading datasets-3.1.0-py3-none-any.whl.metadata (20 kB)\n",
            "Requirement already satisfied: filelock in /usr/local/lib/python3.10/dist-packages (from transformers) (3.16.1)\n",
            "Requirement already satisfied: huggingface-hub<1.0,>=0.23.2 in /usr/local/lib/python3.10/dist-packages (from transformers) (0.24.7)\n",
            "Requirement already satisfied: numpy>=1.17 in /usr/local/lib/python3.10/dist-packages (from transformers) (1.26.4)\n",
            "Requirement already satisfied: packaging>=20.0 in /usr/local/lib/python3.10/dist-packages (from transformers) (24.1)\n",
            "Requirement already satisfied: pyyaml>=5.1 in /usr/local/lib/python3.10/dist-packages (from transformers) (6.0.2)\n",
            "Requirement already satisfied: regex!=2019.12.17 in /usr/local/lib/python3.10/dist-packages (from transformers) (2024.9.11)\n",
            "Requirement already satisfied: requests in /usr/local/lib/python3.10/dist-packages (from transformers) (2.32.3)\n",
            "Requirement already satisfied: safetensors>=0.4.1 in /usr/local/lib/python3.10/dist-packages (from transformers) (0.4.5)\n",
            "Requirement already satisfied: tokenizers<0.20,>=0.19 in /usr/local/lib/python3.10/dist-packages (from transformers) (0.19.1)\n",
            "Requirement already satisfied: tqdm>=4.27 in /usr/local/lib/python3.10/dist-packages (from transformers) (4.66.6)\n",
            "Requirement already satisfied: pyarrow>=15.0.0 in /usr/local/lib/python3.10/dist-packages (from datasets) (17.0.0)\n",
            "Collecting dill<0.3.9,>=0.3.0 (from datasets)\n",
            "  Downloading dill-0.3.8-py3-none-any.whl.metadata (10 kB)\n",
            "Requirement already satisfied: pandas in /usr/local/lib/python3.10/dist-packages (from datasets) (2.2.2)\n",
            "Collecting xxhash (from datasets)\n",
            "  Downloading xxhash-3.5.0-cp310-cp310-manylinux_2_17_x86_64.manylinux2014_x86_64.whl.metadata (12 kB)\n",
            "Collecting multiprocess<0.70.17 (from datasets)\n",
            "  Downloading multiprocess-0.70.16-py310-none-any.whl.metadata (7.2 kB)\n",
            "Collecting fsspec<=2024.9.0,>=2023.1.0 (from fsspec[http]<=2024.9.0,>=2023.1.0->datasets)\n",
            "  Downloading fsspec-2024.9.0-py3-none-any.whl.metadata (11 kB)\n",
            "Requirement already satisfied: aiohttp in /usr/local/lib/python3.10/dist-packages (from datasets) (3.10.10)\n",
            "Requirement already satisfied: aiohappyeyeballs>=2.3.0 in /usr/local/lib/python3.10/dist-packages (from aiohttp->datasets) (2.4.3)\n",
            "Requirement already satisfied: aiosignal>=1.1.2 in /usr/local/lib/python3.10/dist-packages (from aiohttp->datasets) (1.3.1)\n",
            "Requirement already satisfied: attrs>=17.3.0 in /usr/local/lib/python3.10/dist-packages (from aiohttp->datasets) (24.2.0)\n",
            "Requirement already satisfied: frozenlist>=1.1.1 in /usr/local/lib/python3.10/dist-packages (from aiohttp->datasets) (1.5.0)\n",
            "Requirement already satisfied: multidict<7.0,>=4.5 in /usr/local/lib/python3.10/dist-packages (from aiohttp->datasets) (6.1.0)\n",
            "Requirement already satisfied: yarl<2.0,>=1.12.0 in /usr/local/lib/python3.10/dist-packages (from aiohttp->datasets) (1.17.0)\n",
            "Requirement already satisfied: async-timeout<5.0,>=4.0 in /usr/local/lib/python3.10/dist-packages (from aiohttp->datasets) (4.0.3)\n",
            "Requirement already satisfied: typing-extensions>=3.7.4.3 in /usr/local/lib/python3.10/dist-packages (from huggingface-hub<1.0,>=0.23.2->transformers) (4.12.2)\n",
            "Requirement already satisfied: charset-normalizer<4,>=2 in /usr/local/lib/python3.10/dist-packages (from requests->transformers) (3.4.0)\n",
            "Requirement already satisfied: idna<4,>=2.5 in /usr/local/lib/python3.10/dist-packages (from requests->transformers) (3.10)\n",
            "Requirement already satisfied: urllib3<3,>=1.21.1 in /usr/local/lib/python3.10/dist-packages (from requests->transformers) (2.2.3)\n",
            "Requirement already satisfied: certifi>=2017.4.17 in /usr/local/lib/python3.10/dist-packages (from requests->transformers) (2024.8.30)\n",
            "Requirement already satisfied: python-dateutil>=2.8.2 in /usr/local/lib/python3.10/dist-packages (from pandas->datasets) (2.8.2)\n",
            "Requirement already satisfied: pytz>=2020.1 in /usr/local/lib/python3.10/dist-packages (from pandas->datasets) (2024.2)\n",
            "Requirement already satisfied: tzdata>=2022.7 in /usr/local/lib/python3.10/dist-packages (from pandas->datasets) (2024.2)\n",
            "Requirement already satisfied: six>=1.5 in /usr/local/lib/python3.10/dist-packages (from python-dateutil>=2.8.2->pandas->datasets) (1.16.0)\n",
            "Requirement already satisfied: propcache>=0.2.0 in /usr/local/lib/python3.10/dist-packages (from yarl<2.0,>=1.12.0->aiohttp->datasets) (0.2.0)\n",
            "Downloading datasets-3.1.0-py3-none-any.whl (480 kB)\n",
            "\u001b[2K   \u001b[90m━━━━━━━━━━━━━━━━━━━━━━━━━━━━━━━━━━━━━━━━\u001b[0m \u001b[32m480.6/480.6 kB\u001b[0m \u001b[31m16.5 MB/s\u001b[0m eta \u001b[36m0:00:00\u001b[0m\n",
            "\u001b[?25hDownloading dill-0.3.8-py3-none-any.whl (116 kB)\n",
            "\u001b[2K   \u001b[90m━━━━━━━━━━━━━━━━━━━━━━━━━━━━━━━━━━━━━━━━\u001b[0m \u001b[32m116.3/116.3 kB\u001b[0m \u001b[31m11.9 MB/s\u001b[0m eta \u001b[36m0:00:00\u001b[0m\n",
            "\u001b[?25hDownloading fsspec-2024.9.0-py3-none-any.whl (179 kB)\n",
            "\u001b[2K   \u001b[90m━━━━━━━━━━━━━━━━━━━━━━━━━━━━━━━━━━━━━━━━\u001b[0m \u001b[32m179.3/179.3 kB\u001b[0m \u001b[31m17.2 MB/s\u001b[0m eta \u001b[36m0:00:00\u001b[0m\n",
            "\u001b[?25hDownloading multiprocess-0.70.16-py310-none-any.whl (134 kB)\n",
            "\u001b[2K   \u001b[90m━━━━━━━━━━━━━━━━━━━━━━━━━━━━━━━━━━━━━━━━\u001b[0m \u001b[32m134.8/134.8 kB\u001b[0m \u001b[31m13.7 MB/s\u001b[0m eta \u001b[36m0:00:00\u001b[0m\n",
            "\u001b[?25hDownloading xxhash-3.5.0-cp310-cp310-manylinux_2_17_x86_64.manylinux2014_x86_64.whl (194 kB)\n",
            "\u001b[2K   \u001b[90m━━━━━━━━━━━━━━━━━━━━━━━━━━━━━━━━━━━━━━━━\u001b[0m \u001b[32m194.1/194.1 kB\u001b[0m \u001b[31m19.9 MB/s\u001b[0m eta \u001b[36m0:00:00\u001b[0m\n",
            "\u001b[?25hInstalling collected packages: xxhash, fsspec, dill, multiprocess, datasets\n",
            "  Attempting uninstall: fsspec\n",
            "    Found existing installation: fsspec 2024.10.0\n",
            "    Uninstalling fsspec-2024.10.0:\n",
            "      Successfully uninstalled fsspec-2024.10.0\n",
            "\u001b[31mERROR: pip's dependency resolver does not currently take into account all the packages that are installed. This behaviour is the source of the following dependency conflicts.\n",
            "gcsfs 2024.10.0 requires fsspec==2024.10.0, but you have fsspec 2024.9.0 which is incompatible.\u001b[0m\u001b[31m\n",
            "\u001b[0mSuccessfully installed datasets-3.1.0 dill-0.3.8 fsspec-2024.9.0 multiprocess-0.70.16 xxhash-3.5.0\n"
          ]
        }
      ]
    },
    {
      "cell_type": "markdown",
      "source": [
        "# Dataset loading 📊"
      ],
      "metadata": {
        "id": "OsB7Yr6oz0L8"
      }
    },
    {
      "cell_type": "code",
      "source": [
        "import pandas as pd\n",
        "from datasets import Dataset\n",
        "\n",
        "# Load dataset\n",
        "df = pd.read_csv('synthesis_dataset_bmi_refined.csv')\n",
        "\n",
        "# Convert pandas DataFrame to Hugging Face Dataset\n",
        "dataset = Dataset.from_pandas(df)"
      ],
      "metadata": {
        "id": "ZrlOtqO8z3PM"
      },
      "execution_count": 4,
      "outputs": []
    },
    {
      "cell_type": "code",
      "source": [
        "dataset"
      ],
      "metadata": {
        "colab": {
          "base_uri": "https://localhost:8080/"
        },
        "id": "Ep6CI0VAz80W",
        "outputId": "e1cff4c2-8a34-4c1f-ab73-31bca93fab18"
      },
      "execution_count": 5,
      "outputs": [
        {
          "output_type": "execute_result",
          "data": {
            "text/plain": [
              "Dataset({\n",
              "    features: ['Input', 'Target'],\n",
              "    num_rows: 40000\n",
              "})"
            ]
          },
          "metadata": {},
          "execution_count": 5
        }
      ]
    },
    {
      "cell_type": "markdown",
      "source": [
        "# Model 🛵"
      ],
      "metadata": {
        "id": "K75VxzTf0Ayd"
      }
    },
    {
      "cell_type": "code",
      "source": [
        "from transformers import AutoTokenizer, AutoModelForSeq2SeqLM\n",
        "\n",
        "# Load tokenizer dan model\n",
        "model_name = \"t5-small\"\n",
        "tokenizer = AutoTokenizer.from_pretrained(model_name)\n",
        "model = AutoModelForSeq2SeqLM.from_pretrained(model_name)"
      ],
      "metadata": {
        "colab": {
          "base_uri": "https://localhost:8080/",
          "height": 318,
          "referenced_widgets": [
            "a63addf3c6f347998235f5afba50d21a",
            "38e3ff6d39c7493281245e9b4bc66d78",
            "a1d9c128711d4d4a82e0d4e7801926a6",
            "a19aa90503a94557859dffd889e0fdf3",
            "22ab2e89ba194ce4ac4588a92864a82f",
            "356f062f019d4b88a9abab90f530cbe1",
            "6ad29732beaf4f2baf0130714a0e8858",
            "3fc22102d6c441d9a8edbbd016371c8b",
            "a417b712caee45639d70ab34047036b9",
            "a3153736b3174004893f9f76f8cc3ffb",
            "a9df429c60304a09a554421e51c5eb70",
            "803ce16c9c364e08ad53873b07fd42dc",
            "7af05941db5c4c49924c3c6bc878c5fb",
            "7fddf76a4fef4b71b145d41099efbeb2",
            "e07b7cca44ed4c02914262354f68cd81",
            "4b1d7e6ac43c4c4fbaee3902db73e8af",
            "bfa376caad7b4604b386e2dd887d15d7",
            "9167460d97174c0a942c381e79416250",
            "0b4d766addf642fb9d90080c740c2948",
            "52aa0fa5049a491787f0b823f6ae4f34",
            "b7221612275a48b298953af6e91e49ef",
            "49f4edaf8c734d8fbd8ff403f1a150f2",
            "8296f9793bda42789cd13eea46124222",
            "64311def0157478aa9db39184f202c4e",
            "5630e897ebc44ce1b1cd14ca5d654648",
            "074b825494be4e398e638a347fe20c66",
            "d280bcdcfea144dc8a11bdff0fd32c5f",
            "5746949391d841ae874b9876f5b1bd23",
            "be6715bc109d4096b21397a36e8b8bc9",
            "100f7fb4771c4fd8aa00b9b2c40812d3",
            "c004db3492b94276a13bc5ca25699850",
            "c3612b1c00d549388f9d4f1e6e6a81ae",
            "36417bdb366c44bbad0143b6cbc55ad9",
            "77069375919747d4bd7ccaecbdd7d69f",
            "2349ac5c5cca4257b844977591117018",
            "9ec37f9585d04e4395f4883c0bc00e8a",
            "158d051196d74dda9a769a7ecd6dddc1",
            "f6d8f8df2b8642fab3fd15398aefced7",
            "e193b5fc3b6f4539bff03d8e878218cb",
            "7a4de0c8e4cb465e86fcd2727b6752ab",
            "1e1fc8e9039a40d1a8760ffb92ea16c7",
            "00cd249e0eaa43cb8994a001775adbb3",
            "6924ae8d418d4d5d9148d530f7475231",
            "920569f825994db6ba4f84b760a9b17c",
            "0f91299c31254df2be72c84caa727823",
            "c63ca98182944ae7a6c13a6ce13e5ff8",
            "8c8885aeac1d4edc885a2f78b80d47b6",
            "1ddb76a45374499fbde85c369fc666a8",
            "a27225a16f5f4b6f9f0c56ebcf4ac918",
            "724d95070d2b40ed8d3f737180ada80e",
            "d392bb3370484346b2d93ee915accfb9",
            "592627ce2048432e995d7fc0e72ee0f9",
            "9954e3758eb44733acd9971d5697ce5f",
            "c5cc163c507c4241b80a1d6d25caad32",
            "dfe7750fd85b4eb9ba5fe4cdc055a714",
            "d2796544b81f4c79ad1e2898bbf9e142",
            "eab197047f0842418715175a15567cfc",
            "4ad46ab7fa6848efba8a853acf1dd7ba",
            "1b56dd6fd3f8443484ff3922c627f5ab",
            "746d33a0392843029acabb30adcc3410",
            "84bc8050167345cb84366d93032fcb81",
            "e85370eba991436bb869c53ec3faf63f",
            "2cb911d453b34632b83fd3dad7e6168b",
            "3d5b93e8e0424b66b01524f66717ba40",
            "96c034b4c4614c5a846608aae8e84251",
            "154e5e1c0a4b449f8d46734d0b37deb2"
          ]
        },
        "collapsed": true,
        "id": "hYMD5yK_0AXe",
        "outputId": "e0dac8f5-5621-40fe-be3e-55e006761738"
      },
      "execution_count": 6,
      "outputs": [
        {
          "output_type": "stream",
          "name": "stderr",
          "text": [
            "/usr/local/lib/python3.10/dist-packages/huggingface_hub/utils/_token.py:89: UserWarning: \n",
            "The secret `HF_TOKEN` does not exist in your Colab secrets.\n",
            "To authenticate with the Hugging Face Hub, create a token in your settings tab (https://huggingface.co/settings/tokens), set it as secret in your Google Colab and restart your session.\n",
            "You will be able to reuse this secret in all of your notebooks.\n",
            "Please note that authentication is recommended but still optional to access public models or datasets.\n",
            "  warnings.warn(\n"
          ]
        },
        {
          "output_type": "display_data",
          "data": {
            "text/plain": [
              "tokenizer_config.json:   0%|          | 0.00/2.32k [00:00<?, ?B/s]"
            ],
            "application/vnd.jupyter.widget-view+json": {
              "version_major": 2,
              "version_minor": 0,
              "model_id": "a63addf3c6f347998235f5afba50d21a"
            }
          },
          "metadata": {}
        },
        {
          "output_type": "display_data",
          "data": {
            "text/plain": [
              "spiece.model:   0%|          | 0.00/792k [00:00<?, ?B/s]"
            ],
            "application/vnd.jupyter.widget-view+json": {
              "version_major": 2,
              "version_minor": 0,
              "model_id": "803ce16c9c364e08ad53873b07fd42dc"
            }
          },
          "metadata": {}
        },
        {
          "output_type": "display_data",
          "data": {
            "text/plain": [
              "tokenizer.json:   0%|          | 0.00/1.39M [00:00<?, ?B/s]"
            ],
            "application/vnd.jupyter.widget-view+json": {
              "version_major": 2,
              "version_minor": 0,
              "model_id": "8296f9793bda42789cd13eea46124222"
            }
          },
          "metadata": {}
        },
        {
          "output_type": "display_data",
          "data": {
            "text/plain": [
              "config.json:   0%|          | 0.00/1.21k [00:00<?, ?B/s]"
            ],
            "application/vnd.jupyter.widget-view+json": {
              "version_major": 2,
              "version_minor": 0,
              "model_id": "77069375919747d4bd7ccaecbdd7d69f"
            }
          },
          "metadata": {}
        },
        {
          "output_type": "display_data",
          "data": {
            "text/plain": [
              "model.safetensors:   0%|          | 0.00/242M [00:00<?, ?B/s]"
            ],
            "application/vnd.jupyter.widget-view+json": {
              "version_major": 2,
              "version_minor": 0,
              "model_id": "0f91299c31254df2be72c84caa727823"
            }
          },
          "metadata": {}
        },
        {
          "output_type": "display_data",
          "data": {
            "text/plain": [
              "generation_config.json:   0%|          | 0.00/147 [00:00<?, ?B/s]"
            ],
            "application/vnd.jupyter.widget-view+json": {
              "version_major": 2,
              "version_minor": 0,
              "model_id": "d2796544b81f4c79ad1e2898bbf9e142"
            }
          },
          "metadata": {}
        }
      ]
    },
    {
      "cell_type": "code",
      "source": [
        "def preprocess_function(examples):\n",
        "    inputs = tokenizer(examples['Input'], max_length=512, truncation=True, padding='max_length')\n",
        "    targets = tokenizer(examples['Target'], max_length=512, truncation=True, padding='max_length')\n",
        "    inputs['labels'] = targets['input_ids']\n",
        "    return inputs\n",
        "\n",
        "# Tokenize dataset\n",
        "tokenized_dataset = dataset.map(preprocess_function, batched=True)"
      ],
      "metadata": {
        "colab": {
          "base_uri": "https://localhost:8080/",
          "height": 49,
          "referenced_widgets": [
            "61ca36a1236541e38ccd199e3d0741d8",
            "b9fe978362cf4c47bf2f0cfeacb2e8b4",
            "ab7f5ea0299d4856a8739e9989f55098",
            "3d9f19a8e4144d3f9ca82b381fa402a3",
            "84e7bdfb04ce4ad986e78fa784d40a06",
            "b0463156cdf84907981f118c1dbd65e6",
            "2ad072315fbb4c7e86b8b9acb2e74123",
            "b6b3d80f51dc4305941f71a69385228c",
            "9def162bb52e49a8a658075d8c2f572f",
            "05699db74c494f7799219a40dbee7a87",
            "f8ada607c3e24b79aca3e4b2ec43b36f"
          ]
        },
        "id": "v18XM5gH0KvH",
        "outputId": "d23f590c-0519-47ef-b7a3-6d383f007c56"
      },
      "execution_count": 7,
      "outputs": [
        {
          "output_type": "display_data",
          "data": {
            "text/plain": [
              "Map:   0%|          | 0/40000 [00:00<?, ? examples/s]"
            ],
            "application/vnd.jupyter.widget-view+json": {
              "version_major": 2,
              "version_minor": 0,
              "model_id": "61ca36a1236541e38ccd199e3d0741d8"
            }
          },
          "metadata": {}
        }
      ]
    },
    {
      "cell_type": "code",
      "source": [
        "import torch\n",
        "\n",
        "from transformers import Trainer, TrainingArguments\n",
        "\n",
        "# Set up training arguments\n",
        "training_args = TrainingArguments(\n",
        "    output_dir=\"./results\",\n",
        "    # evaluation_strategy=\"epoch\",\n",
        "    evaluation_strategy=\"no\",  # Disable evaluation\n",
        "    learning_rate=2e-5,\n",
        "    per_device_train_batch_size=4,\n",
        "    num_train_epochs=3,\n",
        "    weight_decay=0.01,\n",
        "    save_steps=1000,\n",
        "    save_total_limit=2,\n",
        ")\n",
        "\n",
        "# Set up trainer\n",
        "trainer = Trainer(\n",
        "    model=model,\n",
        "    args=training_args,\n",
        "    train_dataset=tokenized_dataset,\n",
        ")\n",
        "\n",
        "if torch.cuda.is_available():\n",
        "    model.to('cuda')\n",
        "\n",
        "# Start fine-tuning\n",
        "trainer.train()"
      ],
      "metadata": {
        "colab": {
          "base_uri": "https://localhost:8080/",
          "height": 1000
        },
        "id": "2KbukPQ31HOZ",
        "outputId": "260d9583-9465-4f67-991b-02a4b11589e2"
      },
      "execution_count": 8,
      "outputs": [
        {
          "output_type": "stream",
          "name": "stderr",
          "text": [
            "/usr/local/lib/python3.10/dist-packages/transformers/training_args.py:1525: FutureWarning: `evaluation_strategy` is deprecated and will be removed in version 4.46 of 🤗 Transformers. Use `eval_strategy` instead\n",
            "  warnings.warn(\n",
            "\u001b[34m\u001b[1mwandb\u001b[0m: \u001b[33mWARNING\u001b[0m The `run_name` is currently set to the same value as `TrainingArguments.output_dir`. If this was not intended, please specify a different run name by setting the `TrainingArguments.run_name` parameter.\n",
            "\u001b[34m\u001b[1mwandb\u001b[0m: Using wandb-core as the SDK backend. Please refer to https://wandb.me/wandb-core for more information.\n"
          ]
        },
        {
          "output_type": "display_data",
          "data": {
            "text/plain": [
              "<IPython.core.display.Javascript object>"
            ],
            "application/javascript": [
              "\n",
              "        window._wandbApiKey = new Promise((resolve, reject) => {\n",
              "            function loadScript(url) {\n",
              "            return new Promise(function(resolve, reject) {\n",
              "                let newScript = document.createElement(\"script\");\n",
              "                newScript.onerror = reject;\n",
              "                newScript.onload = resolve;\n",
              "                document.body.appendChild(newScript);\n",
              "                newScript.src = url;\n",
              "            });\n",
              "            }\n",
              "            loadScript(\"https://cdn.jsdelivr.net/npm/postmate/build/postmate.min.js\").then(() => {\n",
              "            const iframe = document.createElement('iframe')\n",
              "            iframe.style.cssText = \"width:0;height:0;border:none\"\n",
              "            document.body.appendChild(iframe)\n",
              "            const handshake = new Postmate({\n",
              "                container: iframe,\n",
              "                url: 'https://wandb.ai/authorize'\n",
              "            });\n",
              "            const timeout = setTimeout(() => reject(\"Couldn't auto authenticate\"), 5000)\n",
              "            handshake.then(function(child) {\n",
              "                child.on('authorize', data => {\n",
              "                    clearTimeout(timeout)\n",
              "                    resolve(data)\n",
              "                });\n",
              "            });\n",
              "            })\n",
              "        });\n",
              "    "
            ]
          },
          "metadata": {}
        },
        {
          "output_type": "stream",
          "name": "stderr",
          "text": [
            "\u001b[34m\u001b[1mwandb\u001b[0m: Logging into wandb.ai. (Learn how to deploy a W&B server locally: https://wandb.me/wandb-server)\n",
            "\u001b[34m\u001b[1mwandb\u001b[0m: You can find your API key in your browser here: https://wandb.ai/authorize\n",
            "wandb: Paste an API key from your profile and hit enter, or press ctrl+c to quit:"
          ]
        },
        {
          "name": "stdout",
          "output_type": "stream",
          "text": [
            " ··········\n"
          ]
        },
        {
          "output_type": "stream",
          "name": "stderr",
          "text": [
            "\u001b[34m\u001b[1mwandb\u001b[0m: Appending key for api.wandb.ai to your netrc file: /root/.netrc\n"
          ]
        },
        {
          "output_type": "display_data",
          "data": {
            "text/plain": [
              "<IPython.core.display.HTML object>"
            ],
            "text/html": [
              "Tracking run with wandb version 0.18.5"
            ]
          },
          "metadata": {}
        },
        {
          "output_type": "display_data",
          "data": {
            "text/plain": [
              "<IPython.core.display.HTML object>"
            ],
            "text/html": [
              "Run data is saved locally in <code>/content/wandb/run-20241031_221036-zxg3h3ds</code>"
            ]
          },
          "metadata": {}
        },
        {
          "output_type": "display_data",
          "data": {
            "text/plain": [
              "<IPython.core.display.HTML object>"
            ],
            "text/html": [
              "Syncing run <strong><a href='https://wandb.ai/rizkiwidigda-indiracahyadesthian/huggingface/runs/zxg3h3ds' target=\"_blank\">./results</a></strong> to <a href='https://wandb.ai/rizkiwidigda-indiracahyadesthian/huggingface' target=\"_blank\">Weights & Biases</a> (<a href='https://wandb.me/run' target=\"_blank\">docs</a>)<br/>"
            ]
          },
          "metadata": {}
        },
        {
          "output_type": "display_data",
          "data": {
            "text/plain": [
              "<IPython.core.display.HTML object>"
            ],
            "text/html": [
              " View project at <a href='https://wandb.ai/rizkiwidigda-indiracahyadesthian/huggingface' target=\"_blank\">https://wandb.ai/rizkiwidigda-indiracahyadesthian/huggingface</a>"
            ]
          },
          "metadata": {}
        },
        {
          "output_type": "display_data",
          "data": {
            "text/plain": [
              "<IPython.core.display.HTML object>"
            ],
            "text/html": [
              " View run at <a href='https://wandb.ai/rizkiwidigda-indiracahyadesthian/huggingface/runs/zxg3h3ds' target=\"_blank\">https://wandb.ai/rizkiwidigda-indiracahyadesthian/huggingface/runs/zxg3h3ds</a>"
            ]
          },
          "metadata": {}
        },
        {
          "output_type": "display_data",
          "data": {
            "text/plain": [
              "<IPython.core.display.HTML object>"
            ],
            "text/html": [
              "\n",
              "    <div>\n",
              "      \n",
              "      <progress value='30000' max='30000' style='width:300px; height:20px; vertical-align: middle;'></progress>\n",
              "      [30000/30000 1:40:31, Epoch 3/3]\n",
              "    </div>\n",
              "    <table border=\"1\" class=\"dataframe\">\n",
              "  <thead>\n",
              " <tr style=\"text-align: left;\">\n",
              "      <th>Step</th>\n",
              "      <th>Training Loss</th>\n",
              "    </tr>\n",
              "  </thead>\n",
              "  <tbody>\n",
              "    <tr>\n",
              "      <td>500</td>\n",
              "      <td>0.934500</td>\n",
              "    </tr>\n",
              "    <tr>\n",
              "      <td>1000</td>\n",
              "      <td>0.015500</td>\n",
              "    </tr>\n",
              "    <tr>\n",
              "      <td>1500</td>\n",
              "      <td>0.009700</td>\n",
              "    </tr>\n",
              "    <tr>\n",
              "      <td>2000</td>\n",
              "      <td>0.008200</td>\n",
              "    </tr>\n",
              "    <tr>\n",
              "      <td>2500</td>\n",
              "      <td>0.006900</td>\n",
              "    </tr>\n",
              "    <tr>\n",
              "      <td>3000</td>\n",
              "      <td>0.005500</td>\n",
              "    </tr>\n",
              "    <tr>\n",
              "      <td>3500</td>\n",
              "      <td>0.004900</td>\n",
              "    </tr>\n",
              "    <tr>\n",
              "      <td>4000</td>\n",
              "      <td>0.004500</td>\n",
              "    </tr>\n",
              "    <tr>\n",
              "      <td>4500</td>\n",
              "      <td>0.004300</td>\n",
              "    </tr>\n",
              "    <tr>\n",
              "      <td>5000</td>\n",
              "      <td>0.004100</td>\n",
              "    </tr>\n",
              "    <tr>\n",
              "      <td>5500</td>\n",
              "      <td>0.004000</td>\n",
              "    </tr>\n",
              "    <tr>\n",
              "      <td>6000</td>\n",
              "      <td>0.003900</td>\n",
              "    </tr>\n",
              "    <tr>\n",
              "      <td>6500</td>\n",
              "      <td>0.003900</td>\n",
              "    </tr>\n",
              "    <tr>\n",
              "      <td>7000</td>\n",
              "      <td>0.003800</td>\n",
              "    </tr>\n",
              "    <tr>\n",
              "      <td>7500</td>\n",
              "      <td>0.003700</td>\n",
              "    </tr>\n",
              "    <tr>\n",
              "      <td>8000</td>\n",
              "      <td>0.003700</td>\n",
              "    </tr>\n",
              "    <tr>\n",
              "      <td>8500</td>\n",
              "      <td>0.003800</td>\n",
              "    </tr>\n",
              "    <tr>\n",
              "      <td>9000</td>\n",
              "      <td>0.003700</td>\n",
              "    </tr>\n",
              "    <tr>\n",
              "      <td>9500</td>\n",
              "      <td>0.003700</td>\n",
              "    </tr>\n",
              "    <tr>\n",
              "      <td>10000</td>\n",
              "      <td>0.003600</td>\n",
              "    </tr>\n",
              "    <tr>\n",
              "      <td>10500</td>\n",
              "      <td>0.003600</td>\n",
              "    </tr>\n",
              "    <tr>\n",
              "      <td>11000</td>\n",
              "      <td>0.003600</td>\n",
              "    </tr>\n",
              "    <tr>\n",
              "      <td>11500</td>\n",
              "      <td>0.003600</td>\n",
              "    </tr>\n",
              "    <tr>\n",
              "      <td>12000</td>\n",
              "      <td>0.003600</td>\n",
              "    </tr>\n",
              "    <tr>\n",
              "      <td>12500</td>\n",
              "      <td>0.003500</td>\n",
              "    </tr>\n",
              "    <tr>\n",
              "      <td>13000</td>\n",
              "      <td>0.003500</td>\n",
              "    </tr>\n",
              "    <tr>\n",
              "      <td>13500</td>\n",
              "      <td>0.003600</td>\n",
              "    </tr>\n",
              "    <tr>\n",
              "      <td>14000</td>\n",
              "      <td>0.003500</td>\n",
              "    </tr>\n",
              "    <tr>\n",
              "      <td>14500</td>\n",
              "      <td>0.003500</td>\n",
              "    </tr>\n",
              "    <tr>\n",
              "      <td>15000</td>\n",
              "      <td>0.003500</td>\n",
              "    </tr>\n",
              "    <tr>\n",
              "      <td>15500</td>\n",
              "      <td>0.003500</td>\n",
              "    </tr>\n",
              "    <tr>\n",
              "      <td>16000</td>\n",
              "      <td>0.003500</td>\n",
              "    </tr>\n",
              "    <tr>\n",
              "      <td>16500</td>\n",
              "      <td>0.003500</td>\n",
              "    </tr>\n",
              "    <tr>\n",
              "      <td>17000</td>\n",
              "      <td>0.003500</td>\n",
              "    </tr>\n",
              "    <tr>\n",
              "      <td>17500</td>\n",
              "      <td>0.003400</td>\n",
              "    </tr>\n",
              "    <tr>\n",
              "      <td>18000</td>\n",
              "      <td>0.003500</td>\n",
              "    </tr>\n",
              "    <tr>\n",
              "      <td>18500</td>\n",
              "      <td>0.003500</td>\n",
              "    </tr>\n",
              "    <tr>\n",
              "      <td>19000</td>\n",
              "      <td>0.003400</td>\n",
              "    </tr>\n",
              "    <tr>\n",
              "      <td>19500</td>\n",
              "      <td>0.003500</td>\n",
              "    </tr>\n",
              "    <tr>\n",
              "      <td>20000</td>\n",
              "      <td>0.003400</td>\n",
              "    </tr>\n",
              "    <tr>\n",
              "      <td>20500</td>\n",
              "      <td>0.003500</td>\n",
              "    </tr>\n",
              "    <tr>\n",
              "      <td>21000</td>\n",
              "      <td>0.003500</td>\n",
              "    </tr>\n",
              "    <tr>\n",
              "      <td>21500</td>\n",
              "      <td>0.003400</td>\n",
              "    </tr>\n",
              "    <tr>\n",
              "      <td>22000</td>\n",
              "      <td>0.003500</td>\n",
              "    </tr>\n",
              "    <tr>\n",
              "      <td>22500</td>\n",
              "      <td>0.003400</td>\n",
              "    </tr>\n",
              "    <tr>\n",
              "      <td>23000</td>\n",
              "      <td>0.003400</td>\n",
              "    </tr>\n",
              "    <tr>\n",
              "      <td>23500</td>\n",
              "      <td>0.003400</td>\n",
              "    </tr>\n",
              "    <tr>\n",
              "      <td>24000</td>\n",
              "      <td>0.003400</td>\n",
              "    </tr>\n",
              "    <tr>\n",
              "      <td>24500</td>\n",
              "      <td>0.003500</td>\n",
              "    </tr>\n",
              "    <tr>\n",
              "      <td>25000</td>\n",
              "      <td>0.003400</td>\n",
              "    </tr>\n",
              "    <tr>\n",
              "      <td>25500</td>\n",
              "      <td>0.003400</td>\n",
              "    </tr>\n",
              "    <tr>\n",
              "      <td>26000</td>\n",
              "      <td>0.003400</td>\n",
              "    </tr>\n",
              "    <tr>\n",
              "      <td>26500</td>\n",
              "      <td>0.003400</td>\n",
              "    </tr>\n",
              "    <tr>\n",
              "      <td>27000</td>\n",
              "      <td>0.003400</td>\n",
              "    </tr>\n",
              "    <tr>\n",
              "      <td>27500</td>\n",
              "      <td>0.003400</td>\n",
              "    </tr>\n",
              "    <tr>\n",
              "      <td>28000</td>\n",
              "      <td>0.003400</td>\n",
              "    </tr>\n",
              "    <tr>\n",
              "      <td>28500</td>\n",
              "      <td>0.003400</td>\n",
              "    </tr>\n",
              "    <tr>\n",
              "      <td>29000</td>\n",
              "      <td>0.003400</td>\n",
              "    </tr>\n",
              "    <tr>\n",
              "      <td>29500</td>\n",
              "      <td>0.003400</td>\n",
              "    </tr>\n",
              "    <tr>\n",
              "      <td>30000</td>\n",
              "      <td>0.003400</td>\n",
              "    </tr>\n",
              "  </tbody>\n",
              "</table><p>"
            ]
          },
          "metadata": {}
        },
        {
          "output_type": "execute_result",
          "data": {
            "text/plain": [
              "TrainOutput(global_step=30000, training_loss=0.019575682187080383, metrics={'train_runtime': 6048.1731, 'train_samples_per_second': 19.841, 'train_steps_per_second': 4.96, 'total_flos': 1.624101617664e+16, 'train_loss': 0.019575682187080383, 'epoch': 3.0})"
            ]
          },
          "metadata": {},
          "execution_count": 8
        }
      ]
    },
    {
      "cell_type": "markdown",
      "source": [
        "# Inference 💻"
      ],
      "metadata": {
        "id": "sj1B5LQbQCfM"
      }
    },
    {
      "cell_type": "markdown",
      "source": [
        "## Controlled Arrhythmia🔵\n",
        "\n"
      ],
      "metadata": {
        "id": "xYp9-xCvRg2D"
      }
    },
    {
      "cell_type": "markdown",
      "source": [
        "### Underweight, Indoor 🏠"
      ],
      "metadata": {
        "id": "WEwSBCXCVHGV"
      }
    },
    {
      "cell_type": "markdown",
      "source": [
        "#### Female 1"
      ],
      "metadata": {
        "id": "Z6MbnsvdWXjp"
      }
    },
    {
      "cell_type": "code",
      "source": [
        "# {'Age': 43, 'Gender': 'Female', 'Weight_kg': 45.9, 'Height_m': 1.58, 'BMI': 18.4, 'BMI_Category': 'Underweight', 'Heart_Condition': 'Controlled Arrhythmia', 'Heart_Rate': 89, 'Systolic_BP': 136, 'Diastolic_BP': 84, 'Oxygen_Saturation': 96.3, 'Activity_Preference': 'indoor'}\n",
        "input_text = \"{'Age': 43, 'Gender': 'Female', 'Weight_kg': 45.9, 'Height_m': 1.58, 'BMI': 18.4, 'BMI_Category': 'Underweight', 'Heart_Condition': 'Controlled Arrhythmia', 'Heart_Rate': 89, 'Systolic_BP': 136, 'Diastolic_BP': 84, 'Oxygen_Saturation': 96.3, 'Activity_Preference': 'indoor'}\"\n",
        "\n",
        "# Tokenize input dan pindahkan ke GPU\n",
        "input_ids = tokenizer(input_text, return_tensors=\"pt\").input_ids.to('cuda')\n",
        "\n",
        "# Generate output dari model yang sudah di-fine-tune\n",
        "output = model.generate(input_ids, max_length=512)\n",
        "print(tokenizer.decode(output[0], skip_special_tokens=True))"
      ],
      "metadata": {
        "colab": {
          "base_uri": "https://localhost:8080/"
        },
        "id": "pj7Vy9zwWcoy",
        "outputId": "95ba8934-85cc-43f3-f866-f807821ef5af"
      },
      "execution_count": null,
      "outputs": [
        {
          "output_type": "stream",
          "name": "stdout",
          "text": [
            "'Recommended_Activity': 'Stationary cycling', 'Activity_Duration': '15-20 minutes'\n"
          ]
        }
      ]
    },
    {
      "cell_type": "code",
      "source": [
        "# {'Age': 43, 'Gender': 'Female', 'Weight_kg': 45.9, 'Height_m': 1.58, 'BMI': 18.4, 'BMI_Category': 'Underweight', 'Heart_Condition': 'Controlled Arrhythmia', 'Heart_Rate': 89, 'Systolic_BP': 136, 'Diastolic_BP': 84, 'Oxygen_Saturation': 96.3, 'Activity_Preference': 'indoor'}\n",
        "input_text = \"{'Age': 43, 'Gender': 'Female', 'Weight_kg': 45.9, 'Height_m': 1.58, 'BMI': 18.4, 'BMI_Category': 'Underweight', 'Heart_Condition': 'Controlled Arrhythmia', 'Heart_Rate': 89, 'Systolic_BP': 136, 'Diastolic_BP': 84, 'Oxygen_Saturation': 96.3, 'Activity_Preference': 'Indoor'}\"\n",
        "\n",
        "# Tokenize input dan pindahkan ke GPU\n",
        "input_ids = tokenizer(input_text, return_tensors=\"pt\").input_ids.to('cuda')\n",
        "\n",
        "# Generate output dari model yang sudah di-fine-tune\n",
        "output = model.generate(input_ids, max_length=512)\n",
        "print(tokenizer.decode(output[0], skip_special_tokens=True))"
      ],
      "metadata": {
        "id": "Sx_IGa_qX0zT",
        "outputId": "9de58914-d2d7-45fe-ff9f-1c94c8e5e731",
        "colab": {
          "base_uri": "https://localhost:8080/"
        }
      },
      "execution_count": null,
      "outputs": [
        {
          "output_type": "stream",
          "name": "stdout",
          "text": [
            "'Recommended_Activity': 'Yoga and stretching', 'Activity_Duration': '15-20 minutes'\n"
          ]
        }
      ]
    },
    {
      "cell_type": "code",
      "source": [
        "# {'Age': 43, 'Gender': 'Female', 'Weight_kg': 45.9, 'Height_m': 1.58, 'BMI': 18.4, 'BMI_Category': 'Underweight', 'Heart_Condition': 'Controlled Arrhythmia', 'Heart_Rate': 89, 'Systolic_BP': 136, 'Diastolic_BP': 84, 'Oxygen_Saturation': 96.3, 'Activity_Preference': 'indoor'}\n",
        "input_text = \"{'Age': 43, 'Gender': 'Female', 'Weight_kg': 45.9, 'Height_m': 1.58, 'BMI': 18.4, 'BMI_Category': 'Underweight', 'Heart_Condition': 'Controlled Arrhythmia', 'Heart_Rate': 89, 'Systolic_BP': 136, 'Diastolic_BP': 84, 'Oxygen_Saturation': 96.3, 'Activity_Preference': 'indoor'}\"\n",
        "\n",
        "# Tokenize input dan pindahkan ke GPU\n",
        "input_ids = tokenizer(input_text, return_tensors=\"pt\").input_ids.to('cuda')\n",
        "\n",
        "# Generate output dari model yang sudah di-fine-tune\n",
        "output = model.generate(input_ids, max_length=512)\n",
        "print(tokenizer.decode(output[0], skip_special_tokens=True))"
      ],
      "metadata": {
        "id": "9dVU1x7HX4jU",
        "outputId": "57fcb5ab-bd19-4629-8cda-1711c7ba572b",
        "colab": {
          "base_uri": "https://localhost:8080/"
        }
      },
      "execution_count": null,
      "outputs": [
        {
          "output_type": "stream",
          "name": "stdout",
          "text": [
            "'Recommended_Activity': 'Resistance band exercises', 'Activity_Duration': '15-20 minutes'\n"
          ]
        }
      ]
    },
    {
      "cell_type": "markdown",
      "source": [
        "#### Female 2"
      ],
      "metadata": {
        "id": "TsPwnh0lBMDe"
      }
    },
    {
      "cell_type": "code",
      "source": [
        "# {'Age': 51, 'Gender': 'Female', 'Weight_kg': 56.0, 'Height_m': 1.79, 'BMI': 17.5, 'BMI_Category': 'Underweight', 'Heart_Condition': 'Controlled Arrhythmia', 'Heart_Rate': 68, 'Systolic_BP': 127, 'Diastolic_BP': 73, 'Oxygen_Saturation': 96.8, 'Activity_Preference': 'Indoor'}\n",
        "input_text = \"{'Age': 51, 'Gender': 'Female', 'Weight_kg': 56.0, 'Height_m': 1.79, 'BMI': 17.5, 'BMI_Category': 'Underweight', 'Heart_Condition': 'Controlled Arrhythmia', 'Heart_Rate': 68, 'Systolic_BP': 127, 'Diastolic_BP': 73, 'Oxygen_Saturation': 96.8, 'Activity_Preference': 'Indoor'}\"\n",
        "\n",
        "# Tokenize input dan pindahkan ke GPU\n",
        "input_ids = tokenizer(input_text, return_tensors=\"pt\").input_ids.to('cuda')\n",
        "\n",
        "# Generate output dari model yang sudah di-fine-tune\n",
        "output = model.generate(input_ids, max_length=512)\n",
        "print(tokenizer.decode(output[0], skip_special_tokens=True))"
      ],
      "metadata": {
        "colab": {
          "base_uri": "https://localhost:8080/"
        },
        "id": "zOdB-U2vBGbd",
        "outputId": "25b434a8-66b2-4b7c-bc41-72aa9aa2aa54"
      },
      "execution_count": 13,
      "outputs": [
        {
          "output_type": "stream",
          "name": "stdout",
          "text": [
            "'Recommended_Activity': 'Walking on treadmill', 'Activity_Duration': '15-20 minutes'\n"
          ]
        }
      ]
    },
    {
      "cell_type": "code",
      "source": [
        "# {'Age': 51, 'Gender': 'Female', 'Weight_kg': 56.0, 'Height_m': 1.79, 'BMI': 17.5, 'BMI_Category': 'Underweight', 'Heart_Condition': 'Controlled Arrhythmia', 'Heart_Rate': 68, 'Systolic_BP': 127, 'Diastolic_BP': 73, 'Oxygen_Saturation': 96.8, 'Activity_Preference': 'Indoor'}\n",
        "input_text = \"{'Age': 51, 'Gender': 'Female', 'Weight_kg': 56.0, 'Height_m': 1.79, 'BMI': 17.5, 'BMI_Category': 'Underweight', 'Heart_Condition': 'Controlled Arrhythmia', 'Heart_Rate': 68, 'Systolic_BP': 127, 'Diastolic_BP': 73, 'Oxygen_Saturation': 96.8, 'Activity_Preference': 'Indoor'}\"\n",
        "\n",
        "# Tokenize input dan pindahkan ke GPU\n",
        "input_ids = tokenizer(input_text, return_tensors=\"pt\").input_ids.to('cuda')\n",
        "\n",
        "# Generate output dari model yang sudah di-fine-tune\n",
        "output = model.generate(input_ids, max_length=512)\n",
        "print(tokenizer.decode(output[0], skip_special_tokens=True))"
      ],
      "metadata": {
        "colab": {
          "base_uri": "https://localhost:8080/"
        },
        "id": "BSRRsK2RBSRW",
        "outputId": "bfe0e416-909c-48d4-ecf7-807fb4b4a74d"
      },
      "execution_count": 14,
      "outputs": [
        {
          "output_type": "stream",
          "name": "stdout",
          "text": [
            "'Recommended_Activity': 'Breathing exercises', 'Activity_Duration': '15-20 minutes'\n"
          ]
        }
      ]
    },
    {
      "cell_type": "code",
      "source": [
        "# {'Age': 51, 'Gender': 'Female', 'Weight_kg': 56.0, 'Height_m': 1.79, 'BMI': 17.5, 'BMI_Category': 'Underweight', 'Heart_Condition': 'Controlled Arrhythmia', 'Heart_Rate': 68, 'Systolic_BP': 127, 'Diastolic_BP': 73, 'Oxygen_Saturation': 96.8, 'Activity_Preference': 'Indoor'}\n",
        "input_text = \"{'Age': 51, 'Gender': 'Female', 'Weight_kg': 56.0, 'Height_m': 1.79, 'BMI': 17.5, 'BMI_Category': 'Underweight', 'Heart_Condition': 'Controlled Arrhythmia', 'Heart_Rate': 68, 'Systolic_BP': 127, 'Diastolic_BP': 73, 'Oxygen_Saturation': 96.8, 'Activity_Preference': 'Indoor'}\"\n",
        "\n",
        "# Tokenize input dan pindahkan ke GPU\n",
        "input_ids = tokenizer(input_text, return_tensors=\"pt\").input_ids.to('cuda')\n",
        "\n",
        "# Generate output dari model yang sudah di-fine-tune\n",
        "output = model.generate(input_ids, max_length=512)\n",
        "print(tokenizer.decode(output[0], skip_special_tokens=True))"
      ],
      "metadata": {
        "colab": {
          "base_uri": "https://localhost:8080/"
        },
        "id": "ajWqMxTSBjuJ",
        "outputId": "d66cfe8b-e8ab-40ea-f280-be65e872bb2c"
      },
      "execution_count": 19,
      "outputs": [
        {
          "output_type": "stream",
          "name": "stdout",
          "text": [
            "'Recommended_Activity': 'Stationary cycling', 'Activity_Duration': '15-20 minutes'\n"
          ]
        }
      ]
    },
    {
      "cell_type": "code",
      "source": [
        "# {'Age': 51, 'Gender': 'Female', 'Weight_kg': 56.0, 'Height_m': 1.79, 'BMI': 17.5, 'BMI_Category': 'Underweight', 'Heart_Condition': 'Controlled Arrhythmia', 'Heart_Rate': 68, 'Systolic_BP': 127, 'Diastolic_BP': 73, 'Oxygen_Saturation': 96.8, 'Activity_Preference': 'Indoor'}\n",
        "input_text = \"{'Age': 51, 'Gender': 'Female', 'Weight_kg': 56.0, 'Height_m': 1.79, 'BMI': 17.5, 'BMI_Category': 'Underweight', 'Heart_Condition': 'Controlled Arrhythmia', 'Heart_Rate': 68, 'Systolic_BP': 127, 'Diastolic_BP': 73, 'Oxygen_Saturation': 96.8, 'Activity_Preference': 'Indoor'}\"\n",
        "\n",
        "# Tokenize input dan pindahkan ke GPU\n",
        "input_ids = tokenizer(input_text, return_tensors=\"pt\").input_ids.to('cuda')\n",
        "\n",
        "# Generate output dari model yang sudah di-fine-tune\n",
        "output = model.generate(input_ids, max_length=512)\n",
        "print(tokenizer.decode(output[0], skip_special_tokens=True))"
      ],
      "metadata": {
        "colab": {
          "base_uri": "https://localhost:8080/"
        },
        "id": "1baFhlYqBph2",
        "outputId": "ea04d234-cbdb-47df-cd9e-a918802dbdc7"
      },
      "execution_count": 20,
      "outputs": [
        {
          "output_type": "stream",
          "name": "stdout",
          "text": [
            "'Recommended_Activity': 'Stationary cycling', 'Activity_Duration': '15-20 minutes'\n"
          ]
        }
      ]
    },
    {
      "cell_type": "markdown",
      "source": [
        "#### Female 3"
      ],
      "metadata": {
        "id": "M0lXgjORWaFM"
      }
    },
    {
      "cell_type": "code",
      "source": [
        "# {'Age': 73, 'Gender': 'Female', 'Weight_kg': 38.0, 'Height_m': 1.52, 'BMI': 16.5, 'BMI_Category': 'Underweight', 'Heart_Condition': 'Mild Pulmonary Hypertension', 'Heart_Rate': 70, 'Systolic_BP': 133, 'Diastolic_BP': 73, 'Oxygen_Saturation': 95.6, 'Activity_Preference': 'Indoor'},\n",
        "input_text = \"{'Age': 73, 'Gender': 'Female', 'Weight_kg': 38.0, 'Height_m': 1.52, 'BMI': 16.5, 'BMI_Category': 'Underweight', 'Heart_Condition': 'Controlled Arrhythmia', 'Heart_Rate': 70, 'Systolic_BP': 133, 'Diastolic_BP': 73, 'Oxygen_Saturation': 95.6, 'Activity_Preference': 'Indoor'}\"\n",
        "\n",
        "# Tokenize input dan pindahkan ke GPU\n",
        "input_ids = tokenizer(input_text, return_tensors=\"pt\").input_ids.to('cuda')\n",
        "\n",
        "# Generate output dari model yang sudah di-fine-tune\n",
        "output = model.generate(input_ids, max_length=512)\n",
        "print(tokenizer.decode(output[0], skip_special_tokens=True))"
      ],
      "metadata": {
        "id": "ziwjFihPWdU2",
        "colab": {
          "base_uri": "https://localhost:8080/"
        },
        "outputId": "356f1877-e517-4fa5-f56f-6797be2d0360"
      },
      "execution_count": 21,
      "outputs": [
        {
          "output_type": "stream",
          "name": "stdout",
          "text": [
            "'Recommended_Activity': 'Walking on treadmill', 'Activity_Duration': '15-20 minutes'\n"
          ]
        }
      ]
    },
    {
      "cell_type": "code",
      "source": [
        "# {'Age': 73, 'Gender': 'Female', 'Weight_kg': 38.0, 'Height_m': 1.52, 'BMI': 16.5, 'BMI_Category': 'Underweight', 'Heart_Condition': 'Mild Pulmonary Hypertension', 'Heart_Rate': 70, 'Systolic_BP': 133, 'Diastolic_BP': 73, 'Oxygen_Saturation': 95.6, 'Activity_Preference': 'Indoor'},\n",
        "input_text = \"{'Age': 73, 'Gender': 'Female', 'Weight_kg': 38.0, 'Height_m': 1.52, 'BMI': 16.5, 'BMI_Category': 'Underweight', 'Heart_Condition': 'Controlled Arrhythmia', 'Heart_Rate': 70, 'Systolic_BP': 133, 'Diastolic_BP': 73, 'Oxygen_Saturation': 95.6, 'Activity_Preference': 'Indoor'}\"\n",
        "\n",
        "# Tokenize input dan pindahkan ke GPU\n",
        "input_ids = tokenizer(input_text, return_tensors=\"pt\").input_ids.to('cuda')\n",
        "\n",
        "# Generate output dari model yang sudah di-fine-tune\n",
        "output = model.generate(input_ids, max_length=512)\n",
        "print(tokenizer.decode(output[0], skip_special_tokens=True))"
      ],
      "metadata": {
        "colab": {
          "base_uri": "https://localhost:8080/"
        },
        "id": "XyehxdfgCOVf",
        "outputId": "fe7df31f-d094-44c2-e9a7-8505b7394666"
      },
      "execution_count": 22,
      "outputs": [
        {
          "output_type": "stream",
          "name": "stdout",
          "text": [
            "'Recommended_Activity': 'Yoga and stretching', 'Activity_Duration': '15-20 minutes'\n"
          ]
        }
      ]
    },
    {
      "cell_type": "code",
      "source": [
        "# {'Age': 73, 'Gender': 'Female', 'Weight_kg': 38.0, 'Height_m': 1.52, 'BMI': 16.5, 'BMI_Category': 'Underweight', 'Heart_Condition': 'Mild Pulmonary Hypertension', 'Heart_Rate': 70, 'Systolic_BP': 133, 'Diastolic_BP': 73, 'Oxygen_Saturation': 95.6, 'Activity_Preference': 'Indoor'},\n",
        "input_text = \"{'Age': 73, 'Gender': 'Female', 'Weight_kg': 38.0, 'Height_m': 1.52, 'BMI': 16.5, 'BMI_Category': 'Underweight', 'Heart_Condition': 'Controlled Arrhythmia', 'Heart_Rate': 70, 'Systolic_BP': 133, 'Diastolic_BP': 73, 'Oxygen_Saturation': 95.6, 'Activity_Preference': 'Indoor'}\"\n",
        "\n",
        "# Tokenize input dan pindahkan ke GPU\n",
        "input_ids = tokenizer(input_text, return_tensors=\"pt\").input_ids.to('cuda')\n",
        "\n",
        "# Generate output dari model yang sudah di-fine-tune\n",
        "output = model.generate(input_ids, max_length=512)\n",
        "print(tokenizer.decode(output[0], skip_special_tokens=True))"
      ],
      "metadata": {
        "colab": {
          "base_uri": "https://localhost:8080/"
        },
        "id": "hkfsEM4TCPlC",
        "outputId": "6f281055-3a51-4047-dae3-eeb165fa8bf3"
      },
      "execution_count": 23,
      "outputs": [
        {
          "output_type": "stream",
          "name": "stdout",
          "text": [
            "'Recommended_Activity': 'Stationary cycling', 'Activity_Duration': '15-20 minutes'\n"
          ]
        }
      ]
    },
    {
      "cell_type": "markdown",
      "source": [
        "#### Male 1"
      ],
      "metadata": {
        "id": "NwIAEuNOWa6g"
      }
    },
    {
      "cell_type": "code",
      "source": [
        "# {'Age': 57, 'Gender': 'Male', 'Weight_kg': 47.2, 'Height_m': 1.73, 'BMI': 15.8, 'BMI_Category': 'Underweight', 'Heart_Condition': 'Controlled Arrhythmia', 'Heart_Rate': 85, 'Systolic_BP': 139, 'Diastolic_BP': 77, 'Oxygen_Saturation': 97.0, 'Activity_Preference': 'Indoor'},\"{'Recommended_Activity': 'Yoga and stretching', 'Activity_Duration': '15-20 minutes'}\"\n",
        "input_text = \"{'Age': 57, 'Gender': 'Male', 'Weight_kg': 47.2, 'Height_m': 1.73, 'BMI': 15.8, 'BMI_Category': 'Underweight', 'Heart_Condition': 'Controlled Arrhythmia', 'Heart_Rate': 85, 'Systolic_BP': 139, 'Diastolic_BP': 77, 'Oxygen_Saturation': 97.0, 'Activity_Preference': 'Indoor'}\"\n",
        "\n",
        "# Tokenize input dan pindahkan ke GPU\n",
        "input_ids = tokenizer(input_text, return_tensors=\"pt\").input_ids.to('cuda')\n",
        "\n",
        "# Generate output dari model yang sudah di-fine-tune\n",
        "output = model.generate(input_ids, max_length=512)\n",
        "print(tokenizer.decode(output[0], skip_special_tokens=True))"
      ],
      "metadata": {
        "colab": {
          "base_uri": "https://localhost:8080/"
        },
        "id": "x67_cb6PVToI",
        "outputId": "09c1e6d2-16c1-454c-913f-629ed8d90e41"
      },
      "execution_count": 24,
      "outputs": [
        {
          "output_type": "stream",
          "name": "stdout",
          "text": [
            "'Recommended_Activity': 'Breathing exercises', 'Activity_Duration': '15-20 minutes'\n"
          ]
        }
      ]
    },
    {
      "cell_type": "code",
      "source": [
        "# {'Age': 57, 'Gender': 'Male', 'Weight_kg': 47.2, 'Height_m': 1.73, 'BMI': 15.8, 'BMI_Category': 'Underweight', 'Heart_Condition': 'Controlled Arrhythmia', 'Heart_Rate': 85, 'Systolic_BP': 139, 'Diastolic_BP': 77, 'Oxygen_Saturation': 97.0, 'Activity_Preference': 'Indoor'},\"{'Recommended_Activity': 'Yoga and stretching', 'Activity_Duration': '15-20 minutes'}\"\n",
        "input_text = \"{'Age': 57, 'Gender': 'Male', 'Weight_kg': 47.2, 'Height_m': 1.73, 'BMI': 15.8, 'BMI_Category': 'Underweight', 'Heart_Condition': 'Controlled Arrhythmia', 'Heart_Rate': 85, 'Systolic_BP': 139, 'Diastolic_BP': 77, 'Oxygen_Saturation': 97.0, 'Activity_Preference': 'Indoor'}\"\n",
        "\n",
        "# Tokenize input dan pindahkan ke GPU\n",
        "input_ids = tokenizer(input_text, return_tensors=\"pt\").input_ids.to('cuda')\n",
        "\n",
        "# Generate output dari model yang sudah di-fine-tune\n",
        "output = model.generate(input_ids, max_length=512)\n",
        "print(tokenizer.decode(output[0], skip_special_tokens=True))"
      ],
      "metadata": {
        "colab": {
          "base_uri": "https://localhost:8080/"
        },
        "id": "75Wu7ZICVh-D",
        "outputId": "aee35dd4-50bf-4033-9da9-83e869d0c149"
      },
      "execution_count": 25,
      "outputs": [
        {
          "output_type": "stream",
          "name": "stdout",
          "text": [
            "'Recommended_Activity': 'Breathing exercises', 'Activity_Duration': '15-20 minutes'\n"
          ]
        }
      ]
    },
    {
      "cell_type": "code",
      "source": [
        "# {'Age': 57, 'Gender': 'Male', 'Weight_kg': 47.2, 'Height_m': 1.73, 'BMI': 15.8, 'BMI_Category': 'Underweight', 'Heart_Condition': 'Controlled Arrhythmia', 'Heart_Rate': 85, 'Systolic_BP': 139, 'Diastolic_BP': 77, 'Oxygen_Saturation': 97.0, 'Activity_Preference': 'Indoor'},\"{'Recommended_Activity': 'Yoga and stretching', 'Activity_Duration': '15-20 minutes'}\"\n",
        "input_text = \"{'Age': 57, 'Gender': 'Male', 'Weight_kg': 47.2, 'Height_m': 1.73, 'BMI': 15.8, 'BMI_Category': 'Underweight', 'Heart_Condition': 'Controlled Arrhythmia', 'Heart_Rate': 85, 'Systolic_BP': 139, 'Diastolic_BP': 77, 'Oxygen_Saturation': 97.0, 'Activity_Preference': 'Indoor'}\"\n",
        "\n",
        "# Tokenize input dan pindahkan ke GPU\n",
        "input_ids = tokenizer(input_text, return_tensors=\"pt\").input_ids.to('cuda')\n",
        "\n",
        "# Generate output dari model yang sudah di-fine-tune\n",
        "output = model.generate(input_ids, max_length=512)\n",
        "print(tokenizer.decode(output[0], skip_special_tokens=True))"
      ],
      "metadata": {
        "colab": {
          "base_uri": "https://localhost:8080/"
        },
        "id": "X4ZmfBzhVk0M",
        "outputId": "8ecfbc5f-495f-4f64-cc67-cd005108a4c3"
      },
      "execution_count": 26,
      "outputs": [
        {
          "output_type": "stream",
          "name": "stdout",
          "text": [
            "'Recommended_Activity': 'Stationary cycling', 'Activity_Duration': '15-20 minutes'\n"
          ]
        }
      ]
    },
    {
      "cell_type": "markdown",
      "source": [
        "#### Male 2"
      ],
      "metadata": {
        "id": "y-O-uy7LWhNo"
      }
    },
    {
      "cell_type": "code",
      "source": [
        "# {'Age': 48, 'Gender': 'Male', 'Weight_kg': 47.5, 'Height_m': 1.63, 'BMI': 17.8, 'BMI_Category': 'Underweight', 'Heart_Condition': 'Controlled Arrhythmia', 'Heart_Rate': 68, 'Systolic_BP': 116, 'Diastolic_BP': 87, 'Oxygen_Saturation': 96.1, 'Activity_Preference': 'Indoor'},\"{'Recommended_Activity': 'Yoga and stretching', 'Activity_Duration': '15-20 minutes'}\"\n",
        "input_text = \"{'Age': 48, 'Gender': 'Male', 'Weight_kg': 47.5, 'Height_m': 1.63, 'BMI': 17.8, 'BMI_Category': 'Underweight', 'Heart_Condition': 'Controlled Arrhythmia', 'Heart_Rate': 68, 'Systolic_BP': 116, 'Diastolic_BP': 87, 'Oxygen_Saturation': 96.1, 'Activity_Preference': 'Indoor'}\"\n",
        "\n",
        "# Tokenize input dan pindahkan ke GPU\n",
        "input_ids = tokenizer(input_text, return_tensors=\"pt\").input_ids.to('cuda')\n",
        "\n",
        "# Generate output dari model yang sudah di-fine-tune\n",
        "output = model.generate(input_ids, max_length=512)\n",
        "print(tokenizer.decode(output[0], skip_special_tokens=True))"
      ],
      "metadata": {
        "id": "PrWfda3LXIN4",
        "colab": {
          "base_uri": "https://localhost:8080/"
        },
        "outputId": "a4c0120b-e15a-4f2f-cb58-5b30ac98bb1b"
      },
      "execution_count": 27,
      "outputs": [
        {
          "output_type": "stream",
          "name": "stdout",
          "text": [
            "'Recommended_Activity': 'Yoga and stretching', 'Activity_Duration': '15-20 minutes'\n"
          ]
        }
      ]
    },
    {
      "cell_type": "code",
      "source": [
        "# {'Age': 48, 'Gender': 'Male', 'Weight_kg': 47.5, 'Height_m': 1.63, 'BMI': 17.8, 'BMI_Category': 'Underweight', 'Heart_Condition': 'Controlled Arrhythmia', 'Heart_Rate': 68, 'Systolic_BP': 116, 'Diastolic_BP': 87, 'Oxygen_Saturation': 96.1, 'Activity_Preference': 'Indoor'},\"{'Recommended_Activity': 'Yoga and stretching', 'Activity_Duration': '15-20 minutes'}\"\n",
        "input_text = \"{'Age': 48, 'Gender': 'Male', 'Weight_kg': 47.5, 'Height_m': 1.63, 'BMI': 17.8, 'BMI_Category': 'Underweight', 'Heart_Condition': 'Controlled Arrhythmia', 'Heart_Rate': 68, 'Systolic_BP': 116, 'Diastolic_BP': 87, 'Oxygen_Saturation': 96.1, 'Activity_Preference': 'Indoor'}\"\n",
        "\n",
        "# Tokenize input dan pindahkan ke GPU\n",
        "input_ids = tokenizer(input_text, return_tensors=\"pt\").input_ids.to('cuda')\n",
        "\n",
        "# Generate output dari model yang sudah di-fine-tune\n",
        "output = model.generate(input_ids, max_length=512)\n",
        "print(tokenizer.decode(output[0], skip_special_tokens=True))"
      ],
      "metadata": {
        "colab": {
          "base_uri": "https://localhost:8080/"
        },
        "id": "xNjJitgFCvHR",
        "outputId": "ac4477b4-a73e-4288-af26-06764f337a60"
      },
      "execution_count": 28,
      "outputs": [
        {
          "output_type": "stream",
          "name": "stdout",
          "text": [
            "'Recommended_Activity': 'Yoga and stretching', 'Activity_Duration': '15-20 minutes'\n"
          ]
        }
      ]
    },
    {
      "cell_type": "code",
      "source": [
        "# {'Age': 48, 'Gender': 'Male', 'Weight_kg': 47.5, 'Height_m': 1.63, 'BMI': 17.8, 'BMI_Category': 'Underweight', 'Heart_Condition': 'Controlled Arrhythmia', 'Heart_Rate': 68, 'Systolic_BP': 116, 'Diastolic_BP': 87, 'Oxygen_Saturation': 96.1, 'Activity_Preference': 'Indoor'},\"{'Recommended_Activity': 'Yoga and stretching', 'Activity_Duration': '15-20 minutes'}\"\n",
        "input_text = \"{'Age': 48, 'Gender': 'Male', 'Weight_kg': 47.5, 'Height_m': 1.63, 'BMI': 17.8, 'BMI_Category': 'Underweight', 'Heart_Condition': 'Controlled Arrhythmia', 'Heart_Rate': 68, 'Systolic_BP': 116, 'Diastolic_BP': 87, 'Oxygen_Saturation': 96.1, 'Activity_Preference': 'Indoor'}\"\n",
        "\n",
        "# Tokenize input dan pindahkan ke GPU\n",
        "input_ids = tokenizer(input_text, return_tensors=\"pt\").input_ids.to('cuda')\n",
        "\n",
        "# Generate output dari model yang sudah di-fine-tune\n",
        "output = model.generate(input_ids, max_length=512)\n",
        "print(tokenizer.decode(output[0], skip_special_tokens=True))"
      ],
      "metadata": {
        "colab": {
          "base_uri": "https://localhost:8080/"
        },
        "id": "I7xlwkIdCxHH",
        "outputId": "9663835c-bb39-4e79-d45a-ff0638d109ec"
      },
      "execution_count": 29,
      "outputs": [
        {
          "output_type": "stream",
          "name": "stdout",
          "text": [
            "'Recommended_Activity': 'Walking on treadmill', 'Activity_Duration': '15-20 minutes'\n"
          ]
        }
      ]
    },
    {
      "cell_type": "markdown",
      "source": [
        "#### Male 3"
      ],
      "metadata": {
        "id": "_hpbjDpYWjrv"
      }
    },
    {
      "cell_type": "code",
      "source": [
        "input_text = \"{'Age': 35, 'Gender': 'Male', 'Weight_kg': 47.5, 'Height_m': 1.63, 'BMI': 17.8, 'BMI_Category': 'Underweight', 'Heart_Condition': 'Controlled Arrhythmia', 'Heart_Rate': 68, 'Systolic_BP': 116, 'Diastolic_BP': 87, 'Oxygen_Saturation': 96.1, 'Activity_Preference': 'Indoor'}\"\n",
        "\n",
        "# Tokenize input dan pindahkan ke GPU\n",
        "input_ids = tokenizer(input_text, return_tensors=\"pt\").input_ids.to('cuda')\n",
        "\n",
        "# Generate output dari model yang sudah di-fine-tune\n",
        "output = model.generate(input_ids, max_length=512)\n",
        "print(tokenizer.decode(output[0], skip_special_tokens=True))"
      ],
      "metadata": {
        "id": "gS6P61O2Wly0",
        "colab": {
          "base_uri": "https://localhost:8080/"
        },
        "outputId": "06e0fb4f-c5ff-449b-cdd6-72185e1ff96b"
      },
      "execution_count": 31,
      "outputs": [
        {
          "output_type": "stream",
          "name": "stdout",
          "text": [
            "'Recommended_Activity': 'Resistance band exercises', 'Activity_Duration': '15-20 minutes'\n"
          ]
        }
      ]
    },
    {
      "cell_type": "code",
      "source": [
        "input_text = \"{'Age': 35, 'Gender': 'Male', 'Weight_kg': 47.5, 'Height_m': 1.63, 'BMI': 17.8, 'BMI_Category': 'Underweight', 'Heart_Condition': 'Controlled Arrhythmia', 'Heart_Rate': 68, 'Systolic_BP': 116, 'Diastolic_BP': 87, 'Oxygen_Saturation': 96.1, 'Activity_Preference': 'Indoor'}\"\n",
        "\n",
        "# Tokenize input dan pindahkan ke GPU\n",
        "input_ids = tokenizer(input_text, return_tensors=\"pt\").input_ids.to('cuda')\n",
        "\n",
        "# Generate output dari model yang sudah di-fine-tune\n",
        "output = model.generate(input_ids, max_length=512)\n",
        "print(tokenizer.decode(output[0], skip_special_tokens=True))"
      ],
      "metadata": {
        "colab": {
          "base_uri": "https://localhost:8080/"
        },
        "id": "lTfqufcIC5Cy",
        "outputId": "e867c149-fb6b-4490-8825-d4afa4fe75f0"
      },
      "execution_count": 33,
      "outputs": [
        {
          "output_type": "stream",
          "name": "stdout",
          "text": [
            "'Recommended_Activity': 'Yoga and stretching', 'Activity_Duration': '15-20 minutes'\n"
          ]
        }
      ]
    },
    {
      "cell_type": "code",
      "source": [
        "input_text = \"{'Age': 35, 'Gender': 'Male', 'Weight_kg': 47.5, 'Height_m': 1.63, 'BMI': 17.8, 'BMI_Category': 'Underweight', 'Heart_Condition': 'Controlled Arrhythmia', 'Heart_Rate': 68, 'Systolic_BP': 116, 'Diastolic_BP': 87, 'Oxygen_Saturation': 96.1, 'Activity_Preference': 'Indoor'}\"\n",
        "\n",
        "# Tokenize input dan pindahkan ke GPU\n",
        "input_ids = tokenizer(input_text, return_tensors=\"pt\").input_ids.to('cuda')\n",
        "\n",
        "# Generate output dari model yang sudah di-fine-tune\n",
        "output = model.generate(input_ids, max_length=512)\n",
        "print(tokenizer.decode(output[0], skip_special_tokens=True))"
      ],
      "metadata": {
        "colab": {
          "base_uri": "https://localhost:8080/"
        },
        "id": "Uz10-NMTC9YS",
        "outputId": "1a11f520-d075-420c-ef83-2f846c4ca0c6"
      },
      "execution_count": 34,
      "outputs": [
        {
          "output_type": "stream",
          "name": "stdout",
          "text": [
            "'Recommended_Activity': 'Breathing exercises', 'Activity_Duration': '15-20 minutes'\n"
          ]
        }
      ]
    },
    {
      "cell_type": "markdown",
      "source": [
        "### Underweight, Outdoor 🏞"
      ],
      "metadata": {
        "id": "aaQsNP92V_eO"
      }
    },
    {
      "cell_type": "markdown",
      "source": [
        "#### Female 1"
      ],
      "metadata": {
        "id": "MRkA6H26WJX2"
      }
    },
    {
      "cell_type": "code",
      "source": [
        "# {'Age': 49, 'Gender': 'Female', 'Weight_kg': 36.3, 'Height_m': 1.69, 'BMI': 12.7, 'BMI_Category': 'Underweight', 'Heart_Condition': 'Controlled Arrhythmia', 'Heart_Rate': 62, 'Systolic_BP': 131, 'Diastolic_BP': 74, 'Oxygen_Saturation': 97.1, 'Activity_Preference': 'Outdoor'},\"{'Recommended_Activity': 'Easy hiking on flat trails', 'Activity_Duration': '15-20 minutes'}\"\n",
        "input_text = \"{'Age': 49, 'Gender': 'Female', 'Weight_kg': 36.3, 'Height_m': 1.69, 'BMI': 12.7, 'BMI_Category': 'Underweight', 'Heart_Condition': 'Controlled Arrhythmia', 'Heart_Rate': 62, 'Systolic_BP': 131, 'Diastolic_BP': 74, 'Oxygen_Saturation': 97.1, 'Activity_Preference': 'Outdoor'}\"\n",
        "\n",
        "# Tokenize input dan pindahkan ke GPU\n",
        "input_ids = tokenizer(input_text, return_tensors=\"pt\").input_ids.to('cuda')\n",
        "\n",
        "# Generate output dari model yang sudah di-fine-tune\n",
        "output = model.generate(input_ids, max_length=512)\n",
        "print(tokenizer.decode(output[0], skip_special_tokens=True))"
      ],
      "metadata": {
        "colab": {
          "base_uri": "https://localhost:8080/"
        },
        "id": "_xTRVA24P2BZ",
        "outputId": "14401c95-477c-4ab5-8101-e7616166b2b6"
      },
      "execution_count": 35,
      "outputs": [
        {
          "output_type": "stream",
          "name": "stdout",
          "text": [
            "'Recommended_Activity': 'Walking in the park', 'Activity_Duration': '15-20 minutes'\n"
          ]
        }
      ]
    },
    {
      "cell_type": "code",
      "source": [
        "# {'Age': 49, 'Gender': 'Female', 'Weight_kg': 36.3, 'Height_m': 1.69, 'BMI': 12.7, 'BMI_Category': 'Underweight', 'Heart_Condition': 'Controlled Arrhythmia', 'Heart_Rate': 62, 'Systolic_BP': 131, 'Diastolic_BP': 74, 'Oxygen_Saturation': 97.1, 'Activity_Preference': 'Outdoor'},\"{'Recommended_Activity': 'Easy hiking on flat trails', 'Activity_Duration': '15-20 minutes'}\"\n",
        "input_text = \"{'Age': 49, 'Gender': 'Female', 'Weight_kg': 36.3, 'Height_m': 1.69, 'BMI': 12.7, 'BMI_Category': 'Underweight', 'Heart_Condition': 'Controlled Arrhythmia', 'Heart_Rate': 62, 'Systolic_BP': 131, 'Diastolic_BP': 74, 'Oxygen_Saturation': 97.1, 'Activity_Preference': 'Outdoor'}\"\n",
        "\n",
        "# Tokenize input dan pindahkan ke GPU\n",
        "input_ids = tokenizer(input_text, return_tensors=\"pt\").input_ids.to('cuda')\n",
        "\n",
        "# Generate output dari model yang sudah di-fine-tune\n",
        "output = model.generate(input_ids, max_length=512)\n",
        "print(tokenizer.decode(output[0], skip_special_tokens=True))"
      ],
      "metadata": {
        "colab": {
          "base_uri": "https://localhost:8080/"
        },
        "id": "LIHSYNVMRVO4",
        "outputId": "1ecab2f1-8e4b-46f3-a7eb-05c5102b497d"
      },
      "execution_count": 10,
      "outputs": [
        {
          "output_type": "stream",
          "name": "stdout",
          "text": [
            "'Recommended_Activity': 'Easy hiking on flat trails', 'Activity_Duration': '15-20 minutes'\n"
          ]
        }
      ]
    },
    {
      "cell_type": "code",
      "source": [
        "# {'Age': 49, 'Gender': 'Female', 'Weight_kg': 36.3, 'Height_m': 1.69, 'BMI': 12.7, 'BMI_Category': 'Underweight', 'Heart_Condition': 'Controlled Arrhythmia', 'Heart_Rate': 62, 'Systolic_BP': 131, 'Diastolic_BP': 74, 'Oxygen_Saturation': 97.1, 'Activity_Preference': 'Outdoor'},\"{'Recommended_Activity': 'Easy hiking on flat trails', 'Activity_Duration': '15-20 minutes'}\"\n",
        "input_text = \"{'Age': 49, 'Gender': 'Female', 'Weight_kg': 36.3, 'Height_m': 1.69, 'BMI': 12.7, 'BMI_Category': 'Underweight', 'Heart_Condition': 'Controlled Arrhythmia', 'Heart_Rate': 62, 'Systolic_BP': 131, 'Diastolic_BP': 74, 'Oxygen_Saturation': 97.1, 'Activity_Preference': 'Outdoor'}\"\n",
        "\n",
        "# Tokenize input dan pindahkan ke GPU\n",
        "input_ids = tokenizer(input_text, return_tensors=\"pt\").input_ids.to('cuda')\n",
        "\n",
        "# Generate output dari model yang sudah di-fine-tune\n",
        "output = model.generate(input_ids, max_length=512)\n",
        "print(tokenizer.decode(output[0], skip_special_tokens=True))"
      ],
      "metadata": {
        "colab": {
          "base_uri": "https://localhost:8080/"
        },
        "id": "YuCeYkZKRdVE",
        "outputId": "4a1d53ab-c80b-43ab-fd7d-66406a8b5cfe"
      },
      "execution_count": 12,
      "outputs": [
        {
          "output_type": "stream",
          "name": "stdout",
          "text": [
            "'Recommended_Activity': 'Light cycling', 'Activity_Duration': '15-20 minutes'\n"
          ]
        }
      ]
    },
    {
      "cell_type": "markdown",
      "source": [
        "#### Female 2"
      ],
      "metadata": {
        "id": "tzrIe_pXDGau"
      }
    },
    {
      "cell_type": "code",
      "source": [
        "input_text = \"{'Age': 31, 'Gender': 'Female', 'Weight_kg': 41.4, 'Height_m': 1.69, 'BMI': 14.4, 'BMI_Category': 'Underweight', 'Heart_Condition': 'Controlled Arrhythmia', 'Heart_Rate': 84, 'Systolic_BP': 138, 'Diastolic_BP': 81, 'Oxygen_Saturation': 97.5, 'Activity_Preference': 'Outdoor'}\"\n",
        "\n",
        "# Tokenize input dan pindahkan ke GPU\n",
        "input_ids = tokenizer(input_text, return_tensors=\"pt\").input_ids.to('cuda')\n",
        "\n",
        "# Generate output dari model yang sudah di-fine-tune\n",
        "output = model.generate(input_ids, max_length=512)\n",
        "print(tokenizer.decode(output[0], skip_special_tokens=True))"
      ],
      "metadata": {
        "id": "yjm9WVKOWA52",
        "colab": {
          "base_uri": "https://localhost:8080/"
        },
        "outputId": "a3eff64c-ca6f-43da-fdcd-1883973d3096"
      },
      "execution_count": 39,
      "outputs": [
        {
          "output_type": "stream",
          "name": "stdout",
          "text": [
            "'Recommended_Activity': 'Easy hiking on flat trails', 'Activity_Duration': '15-20 minutes'\n"
          ]
        }
      ]
    },
    {
      "cell_type": "code",
      "source": [
        "input_text = \"{'Age': 31, 'Gender': 'Female', 'Weight_kg': 41.4, 'Height_m': 1.69, 'BMI': 14.4, 'BMI_Category': 'Underweight', 'Heart_Condition': 'Controlled Arrhythmia', 'Heart_Rate': 84, 'Systolic_BP': 138, 'Diastolic_BP': 81, 'Oxygen_Saturation': 97.5, 'Activity_Preference': 'Outdoor'}\"\n",
        "\n",
        "# Tokenize input dan pindahkan ke GPU\n",
        "input_ids = tokenizer(input_text, return_tensors=\"pt\").input_ids.to('cuda')\n",
        "\n",
        "# Generate output dari model yang sudah di-fine-tune\n",
        "output = model.generate(input_ids, max_length=512)\n",
        "print(tokenizer.decode(output[0], skip_special_tokens=True))"
      ],
      "metadata": {
        "colab": {
          "base_uri": "https://localhost:8080/"
        },
        "id": "2xTEUsGTDFeP",
        "outputId": "ae1c5f56-6329-4688-86bf-4d23a9a624ae"
      },
      "execution_count": 40,
      "outputs": [
        {
          "output_type": "stream",
          "name": "stdout",
          "text": [
            "'Recommended_Activity': 'Walking in the park', 'Activity_Duration': '15-20 minutes'\n"
          ]
        }
      ]
    },
    {
      "cell_type": "code",
      "source": [
        "input_text = \"{'Age': 31, 'Gender': 'Female', 'Weight_kg': 41.4, 'Height_m': 1.69, 'BMI': 14.4, 'BMI_Category': 'Underweight', 'Heart_Condition': 'Controlled Arrhythmia', 'Heart_Rate': 84, 'Systolic_BP': 138, 'Diastolic_BP': 81, 'Oxygen_Saturation': 97.5, 'Activity_Preference': 'Outdoor'}\"\n",
        "\n",
        "# Tokenize input dan pindahkan ke GPU\n",
        "input_ids = tokenizer(input_text, return_tensors=\"pt\").input_ids.to('cuda')\n",
        "\n",
        "# Generate output dari model yang sudah di-fine-tune\n",
        "output = model.generate(input_ids, max_length=512)\n",
        "print(tokenizer.decode(output[0], skip_special_tokens=True))"
      ],
      "metadata": {
        "colab": {
          "base_uri": "https://localhost:8080/"
        },
        "id": "GLHE4lb5DhS9",
        "outputId": "17ea65cf-27fc-45f6-ad43-1ec96f2f6c8e"
      },
      "execution_count": 43,
      "outputs": [
        {
          "output_type": "stream",
          "name": "stdout",
          "text": [
            "'Recommended_Activity': 'Tai Chi in the open air', 'Activity_Duration': '15-20 minutes'\n"
          ]
        }
      ]
    },
    {
      "cell_type": "markdown",
      "source": [
        "#### Male 1"
      ],
      "metadata": {
        "id": "3by0s_0EDSxh"
      }
    },
    {
      "cell_type": "code",
      "source": [
        "# {'Age': 31, 'Gender': 'Male', 'Weight_kg': 41.4, 'Height_m': 1.69, 'BMI': 14.4, 'BMI_Category': 'Underweight', 'Heart_Condition': 'Controlled Arrhythmia', 'Heart_Rate': 84, 'Systolic_BP': 138, 'Diastolic_BP': 81, 'Oxygen_Saturation': 97.5, 'Activity_Preference': 'Outdoor'},\"{'Recommended_Activity': 'Walking in the park', 'Activity_Duration': '15-20 minutes'}\"\n",
        "input_text = \"{'Age': 31, 'Gender': 'Male', 'Weight_kg': 41.4, 'Height_m': 1.69, 'BMI': 14.4, 'BMI_Category': 'Underweight', 'Heart_Condition': 'Controlled Arrhythmia', 'Heart_Rate': 84, 'Systolic_BP': 138, 'Diastolic_BP': 81, 'Oxygen_Saturation': 97.5, 'Activity_Preference': 'Outdoor'}\"\n",
        "\n",
        "# Tokenize input dan pindahkan ke GPU\n",
        "input_ids = tokenizer(input_text, return_tensors=\"pt\").input_ids.to('cuda')\n",
        "\n",
        "# Generate output dari model yang sudah di-fine-tune\n",
        "output = model.generate(input_ids, max_length=512)\n",
        "print(tokenizer.decode(output[0], skip_special_tokens=True))"
      ],
      "metadata": {
        "colab": {
          "base_uri": "https://localhost:8080/"
        },
        "id": "eKkVOXKJWi44",
        "outputId": "c4b922d9-c333-43ab-9e0a-a72b081502c2"
      },
      "execution_count": 36,
      "outputs": [
        {
          "output_type": "stream",
          "name": "stdout",
          "text": [
            "'Recommended_Activity': 'Light cycling', 'Activity_Duration': '15-20 minutes'\n"
          ]
        }
      ]
    },
    {
      "cell_type": "code",
      "source": [
        "# {'Age': 31, 'Gender': 'Male', 'Weight_kg': 41.4, 'Height_m': 1.69, 'BMI': 14.4, 'BMI_Category': 'Underweight', 'Heart_Condition': 'Controlled Arrhythmia', 'Heart_Rate': 84, 'Systolic_BP': 138, 'Diastolic_BP': 81, 'Oxygen_Saturation': 97.5, 'Activity_Preference': 'Outdoor'},\"{'Recommended_Activity': 'Walking in the park', 'Activity_Duration': '15-20 minutes'}\"\n",
        "input_text = \"{'Age': 31, 'Gender': 'Male', 'Weight_kg': 41.4, 'Height_m': 1.69, 'BMI': 14.4, 'BMI_Category': 'Underweight', 'Heart_Condition': 'Controlled Arrhythmia', 'Heart_Rate': 84, 'Systolic_BP': 138, 'Diastolic_BP': 81, 'Oxygen_Saturation': 97.5, 'Activity_Preference': 'Outdoor'}\"\n",
        "\n",
        "# Tokenize input dan pindahkan ke GPU\n",
        "input_ids = tokenizer(input_text, return_tensors=\"pt\").input_ids.to('cuda')\n",
        "\n",
        "# Generate output dari model yang sudah di-fine-tune\n",
        "output = model.generate(input_ids, max_length=512)\n",
        "print(tokenizer.decode(output[0], skip_special_tokens=True))"
      ],
      "metadata": {
        "colab": {
          "base_uri": "https://localhost:8080/"
        },
        "id": "buPwX_hYDV0_",
        "outputId": "6703c76a-c529-428f-d482-77834206d63b"
      },
      "execution_count": 37,
      "outputs": [
        {
          "output_type": "stream",
          "name": "stdout",
          "text": [
            "'Recommended_Activity': 'Walking in the park', 'Activity_Duration': '15-20 minutes'\n"
          ]
        }
      ]
    },
    {
      "cell_type": "code",
      "source": [
        "# {'Age': 31, 'Gender': 'Male', 'Weight_kg': 41.4, 'Height_m': 1.69, 'BMI': 14.4, 'BMI_Category': 'Underweight', 'Heart_Condition': 'Controlled Arrhythmia', 'Heart_Rate': 84, 'Systolic_BP': 138, 'Diastolic_BP': 81, 'Oxygen_Saturation': 97.5, 'Activity_Preference': 'Outdoor'},\"{'Recommended_Activity': 'Walking in the park', 'Activity_Duration': '15-20 minutes'}\"\n",
        "input_text = \"{'Age': 31, 'Gender': 'Male', 'Weight_kg': 41.4, 'Height_m': 1.69, 'BMI': 14.4, 'BMI_Category': 'Underweight', 'Heart_Condition': 'Controlled Arrhythmia', 'Heart_Rate': 84, 'Systolic_BP': 138, 'Diastolic_BP': 81, 'Oxygen_Saturation': 97.5, 'Activity_Preference': 'Outdoor'}\"\n",
        "\n",
        "# Tokenize input dan pindahkan ke GPU\n",
        "input_ids = tokenizer(input_text, return_tensors=\"pt\").input_ids.to('cuda')\n",
        "\n",
        "# Generate output dari model yang sudah di-fine-tune\n",
        "output = model.generate(input_ids, max_length=512)\n",
        "print(tokenizer.decode(output[0], skip_special_tokens=True))"
      ],
      "metadata": {
        "colab": {
          "base_uri": "https://localhost:8080/"
        },
        "id": "2GfRjYWEDZ2N",
        "outputId": "3cc4d1df-a169-42e9-ee91-793abbefe2e1"
      },
      "execution_count": 38,
      "outputs": [
        {
          "output_type": "stream",
          "name": "stdout",
          "text": [
            "'Recommended_Activity': 'Stretching exercises in a park', 'Activity_Duration': '15-20 minutes'\n"
          ]
        }
      ]
    },
    {
      "cell_type": "markdown",
      "source": [
        "#### Male 2\n"
      ],
      "metadata": {
        "id": "ZFlP-dcpDmpP"
      }
    },
    {
      "cell_type": "code",
      "source": [
        "# {'Age': 35, 'Gender': 'Male', 'Weight_kg': 57.0, 'Height_m': 1.79, 'BMI': 17.7, 'BMI_Category': 'Underweight', 'Heart_Condition': 'Controlled Arrhythmia', 'Heart_Rate': 94, 'Systolic_BP': 119, 'Diastolic_BP': 88, 'Oxygen_Saturation': 97.0, 'Activity_Preference': 'Outdoor'},\"{'Recommended_Activity': 'Easy hiking on flat trails', 'Activity_Duration': '15-20 minutes'}\"\n",
        "input_text = \"{'Age': 35, 'Gender': 'Male', 'Weight_kg': 57.0, 'Height_m': 1.79, 'BMI': 17.7, 'BMI_Category': 'Underweight', 'Heart_Condition': 'Controlled Arrhythmia', 'Heart_Rate': 94, 'Systolic_BP': 119, 'Diastolic_BP': 88, 'Oxygen_Saturation': 97.0, 'Activity_Preference': 'Outdoor'}\"\n",
        "\n",
        "# Tokenize input dan pindahkan ke GPU\n",
        "input_ids = tokenizer(input_text, return_tensors=\"pt\").input_ids.to('cuda')\n",
        "\n",
        "# Generate output dari model yang sudah di-fine-tune\n",
        "output = model.generate(input_ids, max_length=512)\n",
        "print(tokenizer.decode(output[0], skip_special_tokens=True))"
      ],
      "metadata": {
        "colab": {
          "base_uri": "https://localhost:8080/"
        },
        "id": "-g9zUy8xDoE_",
        "outputId": "1299bc56-cdb1-47bc-f07b-b08815976d5e"
      },
      "execution_count": 44,
      "outputs": [
        {
          "output_type": "stream",
          "name": "stdout",
          "text": [
            "'Recommended_Activity': 'Light cycling', 'Activity_Duration': '15-20 minutes'\n"
          ]
        }
      ]
    },
    {
      "cell_type": "code",
      "source": [
        "# {'Age': 35, 'Gender': 'Male', 'Weight_kg': 57.0, 'Height_m': 1.79, 'BMI': 17.7, 'BMI_Category': 'Underweight', 'Heart_Condition': 'Controlled Arrhythmia', 'Heart_Rate': 94, 'Systolic_BP': 119, 'Diastolic_BP': 88, 'Oxygen_Saturation': 97.0, 'Activity_Preference': 'Outdoor'},\"{'Recommended_Activity': 'Easy hiking on flat trails', 'Activity_Duration': '15-20 minutes'}\"\n",
        "input_text = \"{'Age': 35, 'Gender': 'Male', 'Weight_kg': 57.0, 'Height_m': 1.79, 'BMI': 17.7, 'BMI_Category': 'Underweight', 'Heart_Condition': 'Controlled Arrhythmia', 'Heart_Rate': 94, 'Systolic_BP': 119, 'Diastolic_BP': 88, 'Oxygen_Saturation': 97.0, 'Activity_Preference': 'Outdoor'}\"\n",
        "\n",
        "# Tokenize input dan pindahkan ke GPU\n",
        "input_ids = tokenizer(input_text, return_tensors=\"pt\").input_ids.to('cuda')\n",
        "\n",
        "# Generate output dari model yang sudah di-fine-tune\n",
        "output = model.generate(input_ids, max_length=512)\n",
        "print(tokenizer.decode(output[0], skip_special_tokens=True))"
      ],
      "metadata": {
        "colab": {
          "base_uri": "https://localhost:8080/"
        },
        "id": "o7DvXzxvD7ca",
        "outputId": "6198d9ad-ad20-4a78-e0ad-3bdc24558da5"
      },
      "execution_count": 45,
      "outputs": [
        {
          "output_type": "stream",
          "name": "stdout",
          "text": [
            "'Recommended_Activity': 'Stretching exercises in a park', 'Activity_Duration': '15-20 minutes'\n"
          ]
        }
      ]
    },
    {
      "cell_type": "code",
      "source": [
        "# {'Age': 35, 'Gender': 'Male', 'Weight_kg': 57.0, 'Height_m': 1.79, 'BMI': 17.7, 'BMI_Category': 'Underweight', 'Heart_Condition': 'Controlled Arrhythmia', 'Heart_Rate': 94, 'Systolic_BP': 119, 'Diastolic_BP': 88, 'Oxygen_Saturation': 97.0, 'Activity_Preference': 'Outdoor'},\"{'Recommended_Activity': 'Easy hiking on flat trails', 'Activity_Duration': '15-20 minutes'}\"\n",
        "input_text = \"{'Age': 35, 'Gender': 'Male', 'Weight_kg': 57.0, 'Height_m': 1.79, 'BMI': 17.7, 'BMI_Category': 'Underweight', 'Heart_Condition': 'Controlled Arrhythmia', 'Heart_Rate': 94, 'Systolic_BP': 119, 'Diastolic_BP': 88, 'Oxygen_Saturation': 97.0, 'Activity_Preference': 'Outdoor'}\"\n",
        "\n",
        "# Tokenize input dan pindahkan ke GPU\n",
        "input_ids = tokenizer(input_text, return_tensors=\"pt\").input_ids.to('cuda')\n",
        "\n",
        "# Generate output dari model yang sudah di-fine-tune\n",
        "output = model.generate(input_ids, max_length=512)\n",
        "print(tokenizer.decode(output[0], skip_special_tokens=True))"
      ],
      "metadata": {
        "colab": {
          "base_uri": "https://localhost:8080/"
        },
        "id": "SAxlihdxD8rh",
        "outputId": "7e353217-7259-4169-e183-d8c27434b1b0"
      },
      "execution_count": 46,
      "outputs": [
        {
          "output_type": "stream",
          "name": "stdout",
          "text": [
            "'Recommended_Activity': 'Easy hiking on flat trails', 'Activity_Duration': '15-20 minutes'\n"
          ]
        }
      ]
    },
    {
      "cell_type": "markdown",
      "source": [
        "### Normal. Indoor 🏠"
      ],
      "metadata": {
        "id": "6w5jXZDVRy6t"
      }
    },
    {
      "cell_type": "markdown",
      "source": [
        "#### Male 1"
      ],
      "metadata": {
        "id": "Ik6IU2gsEN7z"
      }
    },
    {
      "cell_type": "code",
      "source": [
        "# {'Age': 62, 'Gender': 'Male', 'Weight_kg': 66.6, 'Height_m': 1.89, 'BMI': 18.7, 'BMI_Category': 'Normal', 'Heart_Condition': 'Controlled Arrhythmia', 'Heart_Rate': 91, 'Systolic_BP': 123, 'Diastolic_BP': 75, 'Oxygen_Saturation': 96.6, 'Activity_Preference': 'Indoor'},\"{'Recommended_Activity': 'Yoga and stretching', 'Activity_Duration': '30-45 minutes'}\"\n",
        "input_text = \"{'Age': 62, 'Gender': 'Male', 'Weight_kg': 66.6, 'Height_m': 1.89, 'BMI': 18.7, 'BMI_Category': 'Normal', 'Heart_Condition': 'Controlled Arrhythmia', 'Heart_Rate': 91, 'Systolic_BP': 123, 'Diastolic_BP': 75, 'Oxygen_Saturation': 96.6, 'Activity_Preference': 'Indoor'}\"\n",
        "\n",
        "# Tokenize input dan pindahkan ke GPU\n",
        "input_ids = tokenizer(input_text, return_tensors=\"pt\").input_ids.to('cuda')\n",
        "\n",
        "# Generate output dari model yang sudah di-fine-tune\n",
        "output = model.generate(input_ids, max_length=512)\n",
        "print(tokenizer.decode(output[0], skip_special_tokens=True))"
      ],
      "metadata": {
        "colab": {
          "base_uri": "https://localhost:8080/"
        },
        "id": "T6KAWpSSQ5cy",
        "outputId": "0e9390db-e46f-4b02-a9be-8d1d9b3dc86c"
      },
      "execution_count": 47,
      "outputs": [
        {
          "output_type": "stream",
          "name": "stdout",
          "text": [
            "'Recommended_Activity': 'Resistance band exercises', 'Activity_Duration': '30-45 minutes'\n"
          ]
        }
      ]
    },
    {
      "cell_type": "code",
      "source": [
        "# {'Age': 62, 'Gender': 'Male', 'Weight_kg': 66.6, 'Height_m': 1.89, 'BMI': 18.7, 'BMI_Category': 'Normal', 'Heart_Condition': 'Controlled Arrhythmia', 'Heart_Rate': 91, 'Systolic_BP': 123, 'Diastolic_BP': 75, 'Oxygen_Saturation': 96.6, 'Activity_Preference': 'Indoor'},\"{'Recommended_Activity': 'Yoga and stretching', 'Activity_Duration': '30-45 minutes'}\"\n",
        "input_text = \"{'Age': 62, 'Gender': 'Male', 'Weight_kg': 66.6, 'Height_m': 1.89, 'BMI': 18.7, 'BMI_Category': 'Normal', 'Heart_Condition': 'Controlled Arrhythmia', 'Heart_Rate': 91, 'Systolic_BP': 123, 'Diastolic_BP': 75, 'Oxygen_Saturation': 96.6, 'Activity_Preference': 'Indoor'}\"\n",
        "\n",
        "# Tokenize input dan pindahkan ke GPU\n",
        "input_ids = tokenizer(input_text, return_tensors=\"pt\").input_ids.to('cuda')\n",
        "\n",
        "# Generate output dari model yang sudah di-fine-tune\n",
        "output = model.generate(input_ids, max_length=512)\n",
        "print(tokenizer.decode(output[0], skip_special_tokens=True))"
      ],
      "metadata": {
        "colab": {
          "base_uri": "https://localhost:8080/"
        },
        "id": "zSEr0YhrSLtH",
        "outputId": "fece4949-254d-453d-9fe2-13bd9e60415a"
      },
      "execution_count": 48,
      "outputs": [
        {
          "output_type": "stream",
          "name": "stdout",
          "text": [
            "'Recommended_Activity': 'Stationary cycling', 'Activity_Duration': '30-45 minutes'\n"
          ]
        }
      ]
    },
    {
      "cell_type": "code",
      "source": [
        "# {'Age': 62, 'Gender': 'Male', 'Weight_kg': 66.6, 'Height_m': 1.89, 'BMI': 18.7, 'BMI_Category': 'Normal', 'Heart_Condition': 'Controlled Arrhythmia', 'Heart_Rate': 91, 'Systolic_BP': 123, 'Diastolic_BP': 75, 'Oxygen_Saturation': 96.6, 'Activity_Preference': 'Indoor'},\"{'Recommended_Activity': 'Yoga and stretching', 'Activity_Duration': '30-45 minutes'}\"\n",
        "input_text = \"{'Age': 62, 'Gender': 'Male', 'Weight_kg': 66.6, 'Height_m': 1.89, 'BMI': 18.7, 'BMI_Category': 'Normal', 'Heart_Condition': 'Controlled Arrhythmia', 'Heart_Rate': 91, 'Systolic_BP': 123, 'Diastolic_BP': 75, 'Oxygen_Saturation': 96.6, 'Activity_Preference': 'Indoor'}\"\n",
        "\n",
        "# Tokenize input dan pindahkan ke GPU\n",
        "input_ids = tokenizer(input_text, return_tensors=\"pt\").input_ids.to('cuda')\n",
        "\n",
        "# Generate output dari model yang sudah di-fine-tune\n",
        "output = model.generate(input_ids, max_length=512)\n",
        "print(tokenizer.decode(output[0], skip_special_tokens=True))"
      ],
      "metadata": {
        "colab": {
          "base_uri": "https://localhost:8080/"
        },
        "id": "HSvE0hWfTKY9",
        "outputId": "427118ad-3010-4cc7-b44c-6faec7dfccfe"
      },
      "execution_count": 49,
      "outputs": [
        {
          "output_type": "stream",
          "name": "stdout",
          "text": [
            "'Recommended_Activity': 'Yoga and stretching', 'Activity_Duration': '30-45 minutes'\n"
          ]
        }
      ]
    },
    {
      "cell_type": "code",
      "source": [
        "#Invalid Input\n",
        "input_text = \"age:25, gender:male, weight:66kg, height:1.98\"\n",
        "\n",
        "# Tokenize input dan pindahkan ke GPU\n",
        "input_ids = tokenizer(input_text, return_tensors=\"pt\").input_ids.to('cuda')\n",
        "\n",
        "# Generate output dari model yang sudah di-fine-tune\n",
        "output = model.generate(input_ids, max_length=512)\n",
        "print(tokenizer.decode(output[0], skip_special_tokens=True))"
      ],
      "metadata": {
        "colab": {
          "base_uri": "https://localhost:8080/"
        },
        "id": "OL4qyyjsTSFI",
        "outputId": "e8e5a984-d31f-41da-8502-7875adfd5c9b"
      },
      "execution_count": 52,
      "outputs": [
        {
          "output_type": "stream",
          "name": "stdout",
          "text": [
            ":25\n"
          ]
        }
      ]
    },
    {
      "cell_type": "code",
      "source": [
        "#Invalid Input\n",
        "input_text = \"age:25, gender:male, weight:66kg, height:1.98\"\n",
        "\n",
        "# Tokenize input dan pindahkan ke GPU\n",
        "input_ids = tokenizer(input_text, return_tensors=\"pt\").input_ids.to('cuda')\n",
        "\n",
        "# Generate output dari model yang sudah di-fine-tune\n",
        "output = model.generate(input_ids, max_length=512)\n",
        "print(tokenizer.decode(output[0], skip_special_tokens=True))"
      ],
      "metadata": {
        "colab": {
          "base_uri": "https://localhost:8080/"
        },
        "id": "slG6mogUEYI3",
        "outputId": "cf8658bf-3577-45da-efdb-c7429cc71230"
      },
      "execution_count": 53,
      "outputs": [
        {
          "output_type": "stream",
          "name": "stdout",
          "text": [
            "\n"
          ]
        }
      ]
    },
    {
      "cell_type": "markdown",
      "source": [
        "#### Male 2"
      ],
      "metadata": {
        "id": "77R1rU-zEaDr"
      }
    },
    {
      "cell_type": "code",
      "source": [
        "# {'Age': 49, 'Gender': 'Male', 'Weight_kg': 63.2, 'Height_m': 1.73, 'BMI': 21.2, 'BMI_Category': 'Normal', 'Heart_Condition': 'Controlled Arrhythmia', 'Heart_Rate': 70, 'Systolic_BP': 128, 'Diastolic_BP': 88, 'Oxygen_Saturation': 98.1, 'Activity_Preference': 'Indoor'},\"{'Recommended_Activity': 'Breathing exercises', 'Activity_Duration': '30-45 minutes'}\"\n",
        "input_text = \"{'Age': 49, 'Gender': 'Male', 'Weight_kg': 63.2, 'Height_m': 1.73, 'BMI': 21.2, 'BMI_Category': 'Normal', 'Heart_Condition': 'Controlled Arrhythmia', 'Heart_Rate': 70, 'Systolic_BP': 128, 'Diastolic_BP': 88, 'Oxygen_Saturation': 98.1, 'Activity_Preference': 'Indoor'}\"\n",
        "\n",
        "# Tokenize input dan pindahkan ke GPU\n",
        "input_ids = tokenizer(input_text, return_tensors=\"pt\").input_ids.to('cuda')\n",
        "\n",
        "# Generate output dari model yang sudah di-fine-tune\n",
        "output = model.generate(input_ids, max_length=512)\n",
        "print(tokenizer.decode(output[0], skip_special_tokens=True))"
      ],
      "metadata": {
        "colab": {
          "base_uri": "https://localhost:8080/"
        },
        "id": "v8C2VaedEcQH",
        "outputId": "421449c1-962c-4bbc-d073-2d0b37f973f8"
      },
      "execution_count": 54,
      "outputs": [
        {
          "output_type": "stream",
          "name": "stdout",
          "text": [
            "'Recommended_Activity': 'Breathing exercises', 'Activity_Duration': '30-45 minutes'\n"
          ]
        }
      ]
    },
    {
      "cell_type": "code",
      "source": [
        "# {'Age': 49, 'Gender': 'Male', 'Weight_kg': 63.2, 'Height_m': 1.73, 'BMI': 21.2, 'BMI_Category': 'Normal', 'Heart_Condition': 'Controlled Arrhythmia', 'Heart_Rate': 70, 'Systolic_BP': 128, 'Diastolic_BP': 88, 'Oxygen_Saturation': 98.1, 'Activity_Preference': 'Indoor'},\"{'Recommended_Activity': 'Breathing exercises', 'Activity_Duration': '30-45 minutes'}\"\n",
        "input_text = \"{'Age': 49, 'Gender': 'Male', 'Weight_kg': 63.2, 'Height_m': 1.73, 'BMI': 21.2, 'BMI_Category': 'Normal', 'Heart_Condition': 'Controlled Arrhythmia', 'Heart_Rate': 70, 'Systolic_BP': 128, 'Diastolic_BP': 88, 'Oxygen_Saturation': 98.1, 'Activity_Preference': 'Indoor'}\"\n",
        "\n",
        "# Tokenize input dan pindahkan ke GPU\n",
        "input_ids = tokenizer(input_text, return_tensors=\"pt\").input_ids.to('cuda')\n",
        "\n",
        "# Generate output dari model yang sudah di-fine-tune\n",
        "output = model.generate(input_ids, max_length=512)\n",
        "print(tokenizer.decode(output[0], skip_special_tokens=True))"
      ],
      "metadata": {
        "colab": {
          "base_uri": "https://localhost:8080/"
        },
        "id": "SJqdZN83EpHb",
        "outputId": "4d605ba0-52c9-4aef-ec7b-c85369a93770"
      },
      "execution_count": 55,
      "outputs": [
        {
          "output_type": "stream",
          "name": "stdout",
          "text": [
            "'Recommended_Activity': 'Yoga and stretching', 'Activity_Duration': '30-45 minutes'\n"
          ]
        }
      ]
    },
    {
      "cell_type": "code",
      "source": [
        "# {'Age': 49, 'Gender': 'Male', 'Weight_kg': 63.2, 'Height_m': 1.73, 'BMI': 21.2, 'BMI_Category': 'Normal', 'Heart_Condition': 'Controlled Arrhythmia', 'Heart_Rate': 70, 'Systolic_BP': 128, 'Diastolic_BP': 88, 'Oxygen_Saturation': 98.1, 'Activity_Preference': 'Indoor'},\"{'Recommended_Activity': 'Breathing exercises', 'Activity_Duration': '30-45 minutes'}\"\n",
        "input_text = \"{'Age': 49, 'Gender': 'Male', 'Weight_kg': 63.2, 'Height_m': 1.73, 'BMI': 21.2, 'BMI_Category': 'Normal', 'Heart_Condition': 'Controlled Arrhythmia', 'Heart_Rate': 70, 'Systolic_BP': 128, 'Diastolic_BP': 88, 'Oxygen_Saturation': 98.1, 'Activity_Preference': 'Indoor'}\"\n",
        "\n",
        "# Tokenize input dan pindahkan ke GPU\n",
        "input_ids = tokenizer(input_text, return_tensors=\"pt\").input_ids.to('cuda')\n",
        "\n",
        "# Generate output dari model yang sudah di-fine-tune\n",
        "output = model.generate(input_ids, max_length=512)\n",
        "print(tokenizer.decode(output[0], skip_special_tokens=True))"
      ],
      "metadata": {
        "colab": {
          "base_uri": "https://localhost:8080/"
        },
        "id": "WOJYtMGVEqD0",
        "outputId": "46718254-bf6b-44bf-9d14-4c993b91cffe"
      },
      "execution_count": 56,
      "outputs": [
        {
          "output_type": "stream",
          "name": "stdout",
          "text": [
            "'Recommended_Activity': 'Breathing exercises', 'Activity_Duration': '30-45 minutes'\n"
          ]
        }
      ]
    },
    {
      "cell_type": "markdown",
      "source": [
        "#### Female 1"
      ],
      "metadata": {
        "id": "t0cbsvHhEuUl"
      }
    },
    {
      "cell_type": "code",
      "source": [
        "# {'Age': 51, 'Gender': 'Female', 'Weight_kg': 61.8, 'Height_m': 1.77, 'BMI': 19.8, 'BMI_Category': 'Normal', 'Heart_Condition': 'Controlled Arrhythmia', 'Heart_Rate': 92, 'Systolic_BP': 136, 'Diastolic_BP': 74, 'Oxygen_Saturation': 98.4, 'Activity_Preference': 'Indoor'},\"{'Recommended_Activity': 'Yoga and stretching', 'Activity_Duration': '30-45 minutes'}\"\n",
        "input_text = \"{'Age': 51, 'Gender': 'Female', 'Weight_kg': 61.8, 'Height_m': 1.77, 'BMI': 19.8, 'BMI_Category': 'Normal', 'Heart_Condition': 'Controlled Arrhythmia', 'Heart_Rate': 92, 'Systolic_BP': 136, 'Diastolic_BP': 74, 'Oxygen_Saturation': 98.4, 'Activity_Preference': 'Indoor'}\"\n",
        "\n",
        "# Tokenize input dan pindahkan ke GPU\n",
        "input_ids = tokenizer(input_text, return_tensors=\"pt\").input_ids.to('cuda')\n",
        "\n",
        "# Generate output dari model yang sudah di-fine-tune\n",
        "output = model.generate(input_ids, max_length=512)\n",
        "print(tokenizer.decode(output[0], skip_special_tokens=True))"
      ],
      "metadata": {
        "colab": {
          "base_uri": "https://localhost:8080/"
        },
        "id": "73F6msb6EwUU",
        "outputId": "adfd15ac-6a7f-41dd-ad28-280f36b86ef0"
      },
      "execution_count": 57,
      "outputs": [
        {
          "output_type": "stream",
          "name": "stdout",
          "text": [
            "'Recommended_Activity': 'Stationary cycling', 'Activity_Duration': '30-45 minutes'\n"
          ]
        }
      ]
    },
    {
      "cell_type": "code",
      "source": [
        "# {'Age': 51, 'Gender': 'Female', 'Weight_kg': 61.8, 'Height_m': 1.77, 'BMI': 19.8, 'BMI_Category': 'Normal', 'Heart_Condition': 'Controlled Arrhythmia', 'Heart_Rate': 92, 'Systolic_BP': 136, 'Diastolic_BP': 74, 'Oxygen_Saturation': 98.4, 'Activity_Preference': 'Indoor'},\"{'Recommended_Activity': 'Yoga and stretching', 'Activity_Duration': '30-45 minutes'}\"\n",
        "input_text = \"{'Age': 51, 'Gender': 'Female', 'Weight_kg': 61.8, 'Height_m': 1.77, 'BMI': 19.8, 'BMI_Category': 'Normal', 'Heart_Condition': 'Controlled Arrhythmia', 'Heart_Rate': 92, 'Systolic_BP': 136, 'Diastolic_BP': 74, 'Oxygen_Saturation': 98.4, 'Activity_Preference': 'Indoor'}\"\n",
        "\n",
        "# Tokenize input dan pindahkan ke GPU\n",
        "input_ids = tokenizer(input_text, return_tensors=\"pt\").input_ids.to('cuda')\n",
        "\n",
        "# Generate output dari model yang sudah di-fine-tune\n",
        "output = model.generate(input_ids, max_length=512)\n",
        "print(tokenizer.decode(output[0], skip_special_tokens=True))"
      ],
      "metadata": {
        "colab": {
          "base_uri": "https://localhost:8080/"
        },
        "id": "S9-9-VDrE4o-",
        "outputId": "1dd89a4f-b998-4902-adeb-bbe22e65d551"
      },
      "execution_count": 58,
      "outputs": [
        {
          "output_type": "stream",
          "name": "stdout",
          "text": [
            "'Recommended_Activity': 'Walking on treadmill', 'Activity_Duration': '30-45 minutes'\n"
          ]
        }
      ]
    },
    {
      "cell_type": "code",
      "source": [
        "# {'Age': 51, 'Gender': 'Female', 'Weight_kg': 61.8, 'Height_m': 1.77, 'BMI': 19.8, 'BMI_Category': 'Normal', 'Heart_Condition': 'Controlled Arrhythmia', 'Heart_Rate': 92, 'Systolic_BP': 136, 'Diastolic_BP': 74, 'Oxygen_Saturation': 98.4, 'Activity_Preference': 'Indoor'},\"{'Recommended_Activity': 'Yoga and stretching', 'Activity_Duration': '30-45 minutes'}\"\n",
        "input_text = \"{'Age': 51, 'Gender': 'Female', 'Weight_kg': 61.8, 'Height_m': 1.77, 'BMI': 19.8, 'BMI_Category': 'Normal', 'Heart_Condition': 'Controlled Arrhythmia', 'Heart_Rate': 92, 'Systolic_BP': 136, 'Diastolic_BP': 74, 'Oxygen_Saturation': 98.4, 'Activity_Preference': 'Indoor'}\"\n",
        "\n",
        "# Tokenize input dan pindahkan ke GPU\n",
        "input_ids = tokenizer(input_text, return_tensors=\"pt\").input_ids.to('cuda')\n",
        "\n",
        "# Generate output dari model yang sudah di-fine-tune\n",
        "output = model.generate(input_ids, max_length=512)\n",
        "print(tokenizer.decode(output[0], skip_special_tokens=True))"
      ],
      "metadata": {
        "colab": {
          "base_uri": "https://localhost:8080/"
        },
        "id": "5zCmKnf0E5eb",
        "outputId": "ae9a0db7-7797-46f1-fdc0-25bec950aac1"
      },
      "execution_count": 59,
      "outputs": [
        {
          "output_type": "stream",
          "name": "stdout",
          "text": [
            "'Recommended_Activity': 'Stationary cycling', 'Activity_Duration': '30-45 minutes'\n"
          ]
        }
      ]
    },
    {
      "cell_type": "markdown",
      "source": [
        "#### Female 2"
      ],
      "metadata": {
        "id": "TxdZc5ruE7-i"
      }
    },
    {
      "cell_type": "code",
      "source": [
        "# {'Age': 63, 'Gender': 'Female', 'Weight_kg': 85.2, 'Height_m': 1.87, 'BMI': 24.3, 'BMI_Category': 'Normal', 'Heart_Condition': 'Controlled Arrhythmia', 'Heart_Rate': 91, 'Systolic_BP': 124, 'Diastolic_BP': 76, 'Oxygen_Saturation': 97.1, 'Activity_Preference': 'Indoor'},\"{'Recommended_Activity': 'Walking in the park', 'Activity_Duration': '30-45 minutes'}\"\n",
        "input_text = \"{'Age': 63, 'Gender': 'Female', 'Weight_kg': 85.2, 'Height_m': 1.87, 'BMI': 24.3, 'BMI_Category': 'Normal', 'Heart_Condition': 'Controlled Arrhythmia', 'Heart_Rate': 91, 'Systolic_BP': 124, 'Diastolic_BP': 76, 'Oxygen_Saturation': 97.1, 'Activity_Preference': 'Indoor'}\"\n",
        "\n",
        "# Tokenize input dan pindahkan ke GPU\n",
        "input_ids = tokenizer(input_text, return_tensors=\"pt\").input_ids.to('cuda')\n",
        "\n",
        "# Generate output dari model yang sudah di-fine-tune\n",
        "output = model.generate(input_ids, max_length=512)\n",
        "print(tokenizer.decode(output[0], skip_special_tokens=True))"
      ],
      "metadata": {
        "colab": {
          "base_uri": "https://localhost:8080/"
        },
        "id": "-0GFW0TME9jn",
        "outputId": "afe142e2-e962-4f2a-af07-94b44d1b0ee9"
      },
      "execution_count": 60,
      "outputs": [
        {
          "output_type": "stream",
          "name": "stdout",
          "text": [
            "'Recommended_Activity': 'Resistance band exercises', 'Activity_Duration': '30-45 minutes'\n"
          ]
        }
      ]
    },
    {
      "cell_type": "code",
      "source": [
        "# {'Age': 63, 'Gender': 'Female', 'Weight_kg': 85.2, 'Height_m': 1.87, 'BMI': 24.3, 'BMI_Category': 'Normal', 'Heart_Condition': 'Controlled Arrhythmia', 'Heart_Rate': 91, 'Systolic_BP': 124, 'Diastolic_BP': 76, 'Oxygen_Saturation': 97.1, 'Activity_Preference': 'Indoor'},\"{'Recommended_Activity': 'Walking in the park', 'Activity_Duration': '30-45 minutes'}\"\n",
        "input_text = \"{'Age': 63, 'Gender': 'Female', 'Weight_kg': 85.2, 'Height_m': 1.87, 'BMI': 24.3, 'BMI_Category': 'Normal', 'Heart_Condition': 'Controlled Arrhythmia', 'Heart_Rate': 91, 'Systolic_BP': 124, 'Diastolic_BP': 76, 'Oxygen_Saturation': 97.1, 'Activity_Preference': 'Indoor'}\"\n",
        "\n",
        "# Tokenize input dan pindahkan ke GPU\n",
        "input_ids = tokenizer(input_text, return_tensors=\"pt\").input_ids.to('cuda')\n",
        "\n",
        "# Generate output dari model yang sudah di-fine-tune\n",
        "output = model.generate(input_ids, max_length=512)\n",
        "print(tokenizer.decode(output[0], skip_special_tokens=True))"
      ],
      "metadata": {
        "colab": {
          "base_uri": "https://localhost:8080/"
        },
        "id": "FV3K5XdvFL7y",
        "outputId": "9bcaec8e-9ee7-435a-e80d-414c7508f6bf"
      },
      "execution_count": 61,
      "outputs": [
        {
          "output_type": "stream",
          "name": "stdout",
          "text": [
            "'Recommended_Activity': 'Breathing exercises', 'Activity_Duration': '30-45 minutes'\n"
          ]
        }
      ]
    },
    {
      "cell_type": "code",
      "source": [
        "# {'Age': 63, 'Gender': 'Female', 'Weight_kg': 85.2, 'Height_m': 1.87, 'BMI': 24.3, 'BMI_Category': 'Normal', 'Heart_Condition': 'Controlled Arrhythmia', 'Heart_Rate': 91, 'Systolic_BP': 124, 'Diastolic_BP': 76, 'Oxygen_Saturation': 97.1, 'Activity_Preference': 'Indoor'},\"{'Recommended_Activity': 'Walking in the park', 'Activity_Duration': '30-45 minutes'}\"\n",
        "input_text = \"{'Age': 63, 'Gender': 'Female', 'Weight_kg': 85.2, 'Height_m': 1.87, 'BMI': 24.3, 'BMI_Category': 'Normal', 'Heart_Condition': 'Controlled Arrhythmia', 'Heart_Rate': 91, 'Systolic_BP': 124, 'Diastolic_BP': 76, 'Oxygen_Saturation': 97.1, 'Activity_Preference': 'Indoor'}\"\n",
        "\n",
        "# Tokenize input dan pindahkan ke GPU\n",
        "input_ids = tokenizer(input_text, return_tensors=\"pt\").input_ids.to('cuda')\n",
        "\n",
        "# Generate output dari model yang sudah di-fine-tune\n",
        "output = model.generate(input_ids, max_length=512)\n",
        "print(tokenizer.decode(output[0], skip_special_tokens=True))"
      ],
      "metadata": {
        "colab": {
          "base_uri": "https://localhost:8080/"
        },
        "id": "AnvwXlrvFNL9",
        "outputId": "59697279-d75c-4f57-e9cf-553b34efc12a"
      },
      "execution_count": 62,
      "outputs": [
        {
          "output_type": "stream",
          "name": "stdout",
          "text": [
            "'Recommended_Activity': 'Stationary cycling', 'Activity_Duration': '30-45 minutes'\n"
          ]
        }
      ]
    },
    {
      "cell_type": "markdown",
      "source": [
        "### Normal. Outdoor 🏞"
      ],
      "metadata": {
        "id": "SLLfFdQYFXIj"
      }
    },
    {
      "cell_type": "markdown",
      "source": [
        "#### Male 1"
      ],
      "metadata": {
        "id": "5zsK5RakFXIk"
      }
    },
    {
      "cell_type": "code",
      "source": [
        "input_text = \"{'Age': 62, 'Gender': 'Male', 'Weight_kg': 66.6, 'Height_m': 1.89, 'BMI': 18.7, 'BMI_Category': 'Normal', 'Heart_Condition': 'Controlled Arrhythmia', 'Heart_Rate': 91, 'Systolic_BP': 123, 'Diastolic_BP': 75, 'Oxygen_Saturation': 96.6, 'Activity_Preference': 'Outdoor'}\"\n",
        "\n",
        "# Tokenize input dan pindahkan ke GPU\n",
        "input_ids = tokenizer(input_text, return_tensors=\"pt\").input_ids.to('cuda')\n",
        "\n",
        "# Generate output dari model yang sudah di-fine-tune\n",
        "output = model.generate(input_ids, max_length=512)\n",
        "print(tokenizer.decode(output[0], skip_special_tokens=True))"
      ],
      "metadata": {
        "colab": {
          "base_uri": "https://localhost:8080/"
        },
        "outputId": "976214ce-ab00-47ec-e597-4ab7d5571b92",
        "id": "QgHavYLDFXIk"
      },
      "execution_count": 63,
      "outputs": [
        {
          "output_type": "stream",
          "name": "stdout",
          "text": [
            "'Recommended_Activity': 'Stretching exercises in a park', 'Activity_Duration': '30-45 minutes'\n"
          ]
        }
      ]
    },
    {
      "cell_type": "code",
      "source": [
        "input_text = \"{'Age': 62, 'Gender': 'Male', 'Weight_kg': 66.6, 'Height_m': 1.89, 'BMI': 18.7, 'BMI_Category': 'Normal', 'Heart_Condition': 'Controlled Arrhythmia', 'Heart_Rate': 91, 'Systolic_BP': 123, 'Diastolic_BP': 75, 'Oxygen_Saturation': 96.6, 'Activity_Preference': 'Outdoor'}\"\n",
        "\n",
        "# Tokenize input dan pindahkan ke GPU\n",
        "input_ids = tokenizer(input_text, return_tensors=\"pt\").input_ids.to('cuda')\n",
        "\n",
        "# Generate output dari model yang sudah di-fine-tune\n",
        "output = model.generate(input_ids, max_length=512)\n",
        "print(tokenizer.decode(output[0], skip_special_tokens=True))"
      ],
      "metadata": {
        "colab": {
          "base_uri": "https://localhost:8080/"
        },
        "outputId": "e1932e03-2fb5-4722-92c8-638c8f99fd13",
        "id": "pAQXIDKQFXIk"
      },
      "execution_count": 64,
      "outputs": [
        {
          "output_type": "stream",
          "name": "stdout",
          "text": [
            "'Recommended_Activity': 'Stretching exercises in a park', 'Activity_Duration': '30-45 minutes'\n"
          ]
        }
      ]
    },
    {
      "cell_type": "code",
      "source": [
        "input_text = \"{'Age': 62, 'Gender': 'Male', 'Weight_kg': 66.6, 'Height_m': 1.89, 'BMI': 18.7, 'BMI_Category': 'Normal', 'Heart_Condition': 'Controlled Arrhythmia', 'Heart_Rate': 91, 'Systolic_BP': 123, 'Diastolic_BP': 75, 'Oxygen_Saturation': 96.6, 'Activity_Preference': 'Outdoor'}\"\n",
        "\n",
        "# Tokenize input dan pindahkan ke GPU\n",
        "input_ids = tokenizer(input_text, return_tensors=\"pt\").input_ids.to('cuda')\n",
        "\n",
        "# Generate output dari model yang sudah di-fine-tune\n",
        "output = model.generate(input_ids, max_length=512)\n",
        "print(tokenizer.decode(output[0], skip_special_tokens=True))"
      ],
      "metadata": {
        "colab": {
          "base_uri": "https://localhost:8080/"
        },
        "outputId": "bd173b99-2fa1-4eb4-c2d1-20e1e30e28aa",
        "id": "oC0W87GjFXIl"
      },
      "execution_count": 65,
      "outputs": [
        {
          "output_type": "stream",
          "name": "stdout",
          "text": [
            "'Recommended_Activity': 'Tai Chi in the open air', 'Activity_Duration': '30-45 minutes'\n"
          ]
        }
      ]
    },
    {
      "cell_type": "code",
      "source": [
        "#Invalid Input\n",
        "input_text = \"age:25, gender:male, weight:66kg, height:1.98\"\n",
        "\n",
        "# Tokenize input dan pindahkan ke GPU\n",
        "input_ids = tokenizer(input_text, return_tensors=\"pt\").input_ids.to('cuda')\n",
        "\n",
        "# Generate output dari model yang sudah di-fine-tune\n",
        "output = model.generate(input_ids, max_length=512)\n",
        "print(tokenizer.decode(output[0], skip_special_tokens=True))"
      ],
      "metadata": {
        "colab": {
          "base_uri": "https://localhost:8080/"
        },
        "outputId": "e8e5a984-d31f-41da-8502-7875adfd5c9b",
        "id": "LxxuPviCFXIl"
      },
      "execution_count": null,
      "outputs": [
        {
          "output_type": "stream",
          "name": "stdout",
          "text": [
            ":25\n"
          ]
        }
      ]
    },
    {
      "cell_type": "code",
      "source": [
        "#Invalid Input\n",
        "input_text = \"age:25, gender:male, weight:66kg, height:1.98\"\n",
        "\n",
        "# Tokenize input dan pindahkan ke GPU\n",
        "input_ids = tokenizer(input_text, return_tensors=\"pt\").input_ids.to('cuda')\n",
        "\n",
        "# Generate output dari model yang sudah di-fine-tune\n",
        "output = model.generate(input_ids, max_length=512)\n",
        "print(tokenizer.decode(output[0], skip_special_tokens=True))"
      ],
      "metadata": {
        "colab": {
          "base_uri": "https://localhost:8080/"
        },
        "outputId": "cf8658bf-3577-45da-efdb-c7429cc71230",
        "id": "HaXkEA2OFXIl"
      },
      "execution_count": null,
      "outputs": [
        {
          "output_type": "stream",
          "name": "stdout",
          "text": [
            "\n"
          ]
        }
      ]
    },
    {
      "cell_type": "markdown",
      "source": [
        "#### Male 2"
      ],
      "metadata": {
        "id": "89g3O8CDFXIl"
      }
    },
    {
      "cell_type": "code",
      "source": [
        "input_text = \"{'Age': 49, 'Gender': 'Male', 'Weight_kg': 63.2, 'Height_m': 1.73, 'BMI': 21.2, 'BMI_Category': 'Normal', 'Heart_Condition': 'Controlled Arrhythmia', 'Heart_Rate': 70, 'Systolic_BP': 128, 'Diastolic_BP': 88, 'Oxygen_Saturation': 98.1, 'Activity_Preference': 'Outdoor'}\"\n",
        "\n",
        "# Tokenize input dan pindahkan ke GPU\n",
        "input_ids = tokenizer(input_text, return_tensors=\"pt\").input_ids.to('cuda')\n",
        "\n",
        "# Generate output dari model yang sudah di-fine-tune\n",
        "output = model.generate(input_ids, max_length=512)\n",
        "print(tokenizer.decode(output[0], skip_special_tokens=True))"
      ],
      "metadata": {
        "colab": {
          "base_uri": "https://localhost:8080/"
        },
        "outputId": "f4712180-3a6a-43a1-8f6f-33752c5cc191",
        "id": "mRKDVJSyFXIl"
      },
      "execution_count": 66,
      "outputs": [
        {
          "output_type": "stream",
          "name": "stdout",
          "text": [
            "'Recommended_Activity': 'Easy hiking on flat trails', 'Activity_Duration': '30-45 minutes'\n"
          ]
        }
      ]
    },
    {
      "cell_type": "code",
      "source": [
        "input_text = \"{'Age': 49, 'Gender': 'Male', 'Weight_kg': 63.2, 'Height_m': 1.73, 'BMI': 21.2, 'BMI_Category': 'Normal', 'Heart_Condition': 'Controlled Arrhythmia', 'Heart_Rate': 70, 'Systolic_BP': 128, 'Diastolic_BP': 88, 'Oxygen_Saturation': 98.1, 'Activity_Preference': 'Outdoor'}\"\n",
        "\n",
        "# Tokenize input dan pindahkan ke GPU\n",
        "input_ids = tokenizer(input_text, return_tensors=\"pt\").input_ids.to('cuda')\n",
        "\n",
        "# Generate output dari model yang sudah di-fine-tune\n",
        "output = model.generate(input_ids, max_length=512)\n",
        "print(tokenizer.decode(output[0], skip_special_tokens=True))"
      ],
      "metadata": {
        "colab": {
          "base_uri": "https://localhost:8080/"
        },
        "outputId": "3d2a20a3-f375-43ca-ac04-aaa3daa763b4",
        "id": "O0r2dA3yFXIl"
      },
      "execution_count": 67,
      "outputs": [
        {
          "output_type": "stream",
          "name": "stdout",
          "text": [
            "'Recommended_Activity': 'Stretching exercises in a park', 'Activity_Duration': '30-45 minutes'\n"
          ]
        }
      ]
    },
    {
      "cell_type": "code",
      "source": [
        "input_text = \"{'Age': 49, 'Gender': 'Male', 'Weight_kg': 63.2, 'Height_m': 1.73, 'BMI': 21.2, 'BMI_Category': 'Normal', 'Heart_Condition': 'Controlled Arrhythmia', 'Heart_Rate': 70, 'Systolic_BP': 128, 'Diastolic_BP': 88, 'Oxygen_Saturation': 98.1, 'Activity_Preference': 'Outdoor'}\"\n",
        "\n",
        "# Tokenize input dan pindahkan ke GPU\n",
        "input_ids = tokenizer(input_text, return_tensors=\"pt\").input_ids.to('cuda')\n",
        "\n",
        "# Generate output dari model yang sudah di-fine-tune\n",
        "output = model.generate(input_ids, max_length=512)\n",
        "print(tokenizer.decode(output[0], skip_special_tokens=True))"
      ],
      "metadata": {
        "colab": {
          "base_uri": "https://localhost:8080/"
        },
        "outputId": "edc9398b-7343-46da-8dfa-a52ad0479209",
        "id": "uqUF11_WFXIl"
      },
      "execution_count": 68,
      "outputs": [
        {
          "output_type": "stream",
          "name": "stdout",
          "text": [
            "'Recommended_Activity': 'Easy hiking on flat trails', 'Activity_Duration': '30-45 minutes'\n"
          ]
        }
      ]
    },
    {
      "cell_type": "markdown",
      "source": [
        "#### Female 1"
      ],
      "metadata": {
        "id": "Aik7UfN3FXIm"
      }
    },
    {
      "cell_type": "code",
      "source": [
        "# {'Age': 51, 'Gender': 'Female', 'Weight_kg': 61.8, 'Height_m': 1.77, 'BMI': 19.8, 'BMI_Category': 'Normal', 'Heart_Condition': 'Controlled Arrhythmia', 'Heart_Rate': 92, 'Systolic_BP': 136, 'Diastolic_BP': 74, 'Oxygen_Saturation': 98.4, 'Activity_Preference': 'Indoor'},\"{'Recommended_Activity': 'Yoga and stretching', 'Activity_Duration': '30-45 minutes'}\"\n",
        "input_text = \"{'Age': 51, 'Gender': 'Female', 'Weight_kg': 61.8, 'Height_m': 1.77, 'BMI': 19.8, 'BMI_Category': 'Normal', 'Heart_Condition': 'Controlled Arrhythmia', 'Heart_Rate': 92, 'Systolic_BP': 136, 'Diastolic_BP': 74, 'Oxygen_Saturation': 98.4, 'Activity_Preference': 'Outdoor'}\"\n",
        "\n",
        "# Tokenize input dan pindahkan ke GPU\n",
        "input_ids = tokenizer(input_text, return_tensors=\"pt\").input_ids.to('cuda')\n",
        "\n",
        "# Generate output dari model yang sudah di-fine-tune\n",
        "output = model.generate(input_ids, max_length=512)\n",
        "print(tokenizer.decode(output[0], skip_special_tokens=True))"
      ],
      "metadata": {
        "colab": {
          "base_uri": "https://localhost:8080/"
        },
        "outputId": "50d77a80-9542-4c7d-d733-452662baacb2",
        "id": "Oc483HaBFXIm"
      },
      "execution_count": 69,
      "outputs": [
        {
          "output_type": "stream",
          "name": "stdout",
          "text": [
            "'Recommended_Activity': 'Light cycling', 'Activity_Duration': '30-45 minutes'\n"
          ]
        }
      ]
    },
    {
      "cell_type": "code",
      "source": [
        "# {'Age': 51, 'Gender': 'Female', 'Weight_kg': 61.8, 'Height_m': 1.77, 'BMI': 19.8, 'BMI_Category': 'Normal', 'Heart_Condition': 'Controlled Arrhythmia', 'Heart_Rate': 92, 'Systolic_BP': 136, 'Diastolic_BP': 74, 'Oxygen_Saturation': 98.4, 'Activity_Preference': 'Indoor'},\"{'Recommended_Activity': 'Yoga and stretching', 'Activity_Duration': '30-45 minutes'}\"\n",
        "input_text = \"{'Age': 51, 'Gender': 'Female', 'Weight_kg': 61.8, 'Height_m': 1.77, 'BMI': 19.8, 'BMI_Category': 'Normal', 'Heart_Condition': 'Controlled Arrhythmia', 'Heart_Rate': 92, 'Systolic_BP': 136, 'Diastolic_BP': 74, 'Oxygen_Saturation': 98.4, 'Activity_Preference': 'Outdoor'}\"\n",
        "\n",
        "# Tokenize input dan pindahkan ke GPU\n",
        "input_ids = tokenizer(input_text, return_tensors=\"pt\").input_ids.to('cuda')\n",
        "\n",
        "# Generate output dari model yang sudah di-fine-tune\n",
        "output = model.generate(input_ids, max_length=512)\n",
        "print(tokenizer.decode(output[0], skip_special_tokens=True))"
      ],
      "metadata": {
        "colab": {
          "base_uri": "https://localhost:8080/"
        },
        "outputId": "b8850941-3475-41d7-e2d7-c670cbd1a36a",
        "id": "zwTWK2ulFXIm"
      },
      "execution_count": 70,
      "outputs": [
        {
          "output_type": "stream",
          "name": "stdout",
          "text": [
            "'Recommended_Activity': 'Stretching exercises in a park', 'Activity_Duration': '30-45 minutes'\n"
          ]
        }
      ]
    },
    {
      "cell_type": "code",
      "source": [
        "# {'Age': 51, 'Gender': 'Female', 'Weight_kg': 61.8, 'Height_m': 1.77, 'BMI': 19.8, 'BMI_Category': 'Normal', 'Heart_Condition': 'Controlled Arrhythmia', 'Heart_Rate': 92, 'Systolic_BP': 136, 'Diastolic_BP': 74, 'Oxygen_Saturation': 98.4, 'Activity_Preference': 'Indoor'},\"{'Recommended_Activity': 'Yoga and stretching', 'Activity_Duration': '30-45 minutes'}\"\n",
        "input_text = \"{'Age': 51, 'Gender': 'Female', 'Weight_kg': 61.8, 'Height_m': 1.77, 'BMI': 19.8, 'BMI_Category': 'Normal', 'Heart_Condition': 'Controlled Arrhythmia', 'Heart_Rate': 92, 'Systolic_BP': 136, 'Diastolic_BP': 74, 'Oxygen_Saturation': 98.4, 'Activity_Preference': 'Outdoor'}\"\n",
        "\n",
        "# Tokenize input dan pindahkan ke GPU\n",
        "input_ids = tokenizer(input_text, return_tensors=\"pt\").input_ids.to('cuda')\n",
        "\n",
        "# Generate output dari model yang sudah di-fine-tune\n",
        "output = model.generate(input_ids, max_length=512)\n",
        "print(tokenizer.decode(output[0], skip_special_tokens=True))"
      ],
      "metadata": {
        "colab": {
          "base_uri": "https://localhost:8080/"
        },
        "outputId": "03eaea1b-0ab4-4188-92ad-4d39ec331e9d",
        "id": "UpfK4Ln8FXIm"
      },
      "execution_count": 71,
      "outputs": [
        {
          "output_type": "stream",
          "name": "stdout",
          "text": [
            "'Recommended_Activity': 'Stretching exercises in a park', 'Activity_Duration': '30-45 minutes'\n"
          ]
        }
      ]
    },
    {
      "cell_type": "markdown",
      "source": [
        "#### Female 2"
      ],
      "metadata": {
        "id": "yyYM54k-FXIm"
      }
    },
    {
      "cell_type": "code",
      "source": [
        "input_text = \"{'Age': 63, 'Gender': 'Female', 'Weight_kg': 85.2, 'Height_m': 1.87, 'BMI': 24.3, 'BMI_Category': 'Normal', 'Heart_Condition': 'Controlled Arrhythmia', 'Heart_Rate': 91, 'Systolic_BP': 124, 'Diastolic_BP': 76, 'Oxygen_Saturation': 97.1, 'Activity_Preference': 'Outdoor'}\"\n",
        "\n",
        "# Tokenize input dan pindahkan ke GPU\n",
        "input_ids = tokenizer(input_text, return_tensors=\"pt\").input_ids.to('cuda')\n",
        "\n",
        "# Generate output dari model yang sudah di-fine-tune\n",
        "output = model.generate(input_ids, max_length=512)\n",
        "print(tokenizer.decode(output[0], skip_special_tokens=True))"
      ],
      "metadata": {
        "colab": {
          "base_uri": "https://localhost:8080/"
        },
        "outputId": "18f92261-7984-4930-d733-689cabcc4d86",
        "id": "Wdsu0DWwFXIm"
      },
      "execution_count": 72,
      "outputs": [
        {
          "output_type": "stream",
          "name": "stdout",
          "text": [
            "'Recommended_Activity': 'Stretching exercises in a park', 'Activity_Duration': '30-45 minutes'\n"
          ]
        }
      ]
    },
    {
      "cell_type": "code",
      "source": [
        "input_text = \"{'Age': 63, 'Gender': 'Female', 'Weight_kg': 85.2, 'Height_m': 1.87, 'BMI': 24.3, 'BMI_Category': 'Normal', 'Heart_Condition': 'Controlled Arrhythmia', 'Heart_Rate': 91, 'Systolic_BP': 124, 'Diastolic_BP': 76, 'Oxygen_Saturation': 97.1, 'Activity_Preference': 'Outdoor'}\"\n",
        "\n",
        "# Tokenize input dan pindahkan ke GPU\n",
        "input_ids = tokenizer(input_text, return_tensors=\"pt\").input_ids.to('cuda')\n",
        "\n",
        "# Generate output dari model yang sudah di-fine-tune\n",
        "output = model.generate(input_ids, max_length=512)\n",
        "print(tokenizer.decode(output[0], skip_special_tokens=True))"
      ],
      "metadata": {
        "colab": {
          "base_uri": "https://localhost:8080/"
        },
        "outputId": "ab7e08b9-f45b-4a30-e9be-d892791ce614",
        "id": "i9S22qoKFXIm"
      },
      "execution_count": 73,
      "outputs": [
        {
          "output_type": "stream",
          "name": "stdout",
          "text": [
            "'Recommended_Activity': 'Walking in the park', 'Activity_Duration': '30-45 minutes'\n"
          ]
        }
      ]
    },
    {
      "cell_type": "code",
      "source": [
        "input_text = \"{'Age': 63, 'Gender': 'Female', 'Weight_kg': 85.2, 'Height_m': 1.87, 'BMI': 24.3, 'BMI_Category': 'Normal', 'Heart_Condition': 'Controlled Arrhythmia', 'Heart_Rate': 91, 'Systolic_BP': 124, 'Diastolic_BP': 76, 'Oxygen_Saturation': 97.1, 'Activity_Preference': 'Outdoor'}\"\n",
        "\n",
        "# Tokenize input dan pindahkan ke GPU\n",
        "input_ids = tokenizer(input_text, return_tensors=\"pt\").input_ids.to('cuda')\n",
        "\n",
        "# Generate output dari model yang sudah di-fine-tune\n",
        "output = model.generate(input_ids, max_length=512)\n",
        "print(tokenizer.decode(output[0], skip_special_tokens=True))"
      ],
      "metadata": {
        "colab": {
          "base_uri": "https://localhost:8080/"
        },
        "outputId": "177981a5-30c9-4490-dc2d-3eb6cf00dbcd",
        "id": "fRd0bXJ7FXIn"
      },
      "execution_count": 74,
      "outputs": [
        {
          "output_type": "stream",
          "name": "stdout",
          "text": [
            "'Recommended_Activity': 'Walking in the park', 'Activity_Duration': '30-45 minutes'\n"
          ]
        }
      ]
    },
    {
      "cell_type": "markdown",
      "source": [
        "### Overweight, Inddor 🏠"
      ],
      "metadata": {
        "id": "v7BzYd2CF4ny"
      }
    },
    {
      "cell_type": "markdown",
      "source": [
        "#### Male 1"
      ],
      "metadata": {
        "id": "CsfIOXQ1GRag"
      }
    },
    {
      "cell_type": "code",
      "source": [
        "# {'Age': 66, 'Gender': 'Male', 'Weight_kg': 69.1, 'Height_m': 1.65, 'BMI': 25.3, 'BMI_Category': 'Overweight', 'Heart_Condition': 'Controlled Arrhythmia', 'Heart_Rate': 71, 'Systolic_BP': 137, 'Diastolic_BP': 82, 'Oxygen_Saturation': 96.5, 'Activity_Preference': 'Indoor'},\"{'Recommended_Activity': 'Stationary cycling', 'Activity_Duration': '20-30 minutes'}\"\n",
        "input_text = \"{'Age': 66, 'Gender': 'Male', 'Weight_kg': 69.1, 'Height_m': 1.65, 'BMI': 25.3, 'BMI_Category': 'Overweight', 'Heart_Condition': 'Controlled Arrhythmia', 'Heart_Rate': 71, 'Systolic_BP': 137, 'Diastolic_BP': 82, 'Oxygen_Saturation': 96.5, 'Activity_Preference': 'Indoor'}\"\n",
        "\n",
        "# Tokenize input dan pindahkan ke GPU\n",
        "input_ids = tokenizer(input_text, return_tensors=\"pt\").input_ids.to('cuda')\n",
        "\n",
        "# Generate output dari model yang sudah di-fine-tune\n",
        "output = model.generate(input_ids, max_length=512)\n",
        "print(tokenizer.decode(output[0], skip_special_tokens=True))"
      ],
      "metadata": {
        "colab": {
          "base_uri": "https://localhost:8080/"
        },
        "id": "RL5IPO9nF8KT",
        "outputId": "2668f3c9-cfce-4858-b81f-5f22c602ee9f"
      },
      "execution_count": 75,
      "outputs": [
        {
          "output_type": "stream",
          "name": "stdout",
          "text": [
            "'Recommended_Activity': 'Walking on treadmill', 'Activity_Duration': '20-30 minutes'\n"
          ]
        }
      ]
    },
    {
      "cell_type": "code",
      "source": [
        "# {'Age': 66, 'Gender': 'Male', 'Weight_kg': 69.1, 'Height_m': 1.65, 'BMI': 25.3, 'BMI_Category': 'Overweight', 'Heart_Condition': 'Controlled Arrhythmia', 'Heart_Rate': 71, 'Systolic_BP': 137, 'Diastolic_BP': 82, 'Oxygen_Saturation': 96.5, 'Activity_Preference': 'Indoor'},\"{'Recommended_Activity': 'Stationary cycling', 'Activity_Duration': '20-30 minutes'}\"\n",
        "input_text = \"{'Age': 66, 'Gender': 'Male', 'Weight_kg': 69.1, 'Height_m': 1.65, 'BMI': 25.3, 'BMI_Category': 'Overweight', 'Heart_Condition': 'Controlled Arrhythmia', 'Heart_Rate': 71, 'Systolic_BP': 137, 'Diastolic_BP': 82, 'Oxygen_Saturation': 96.5, 'Activity_Preference': 'Indoor'}\"\n",
        "\n",
        "# Tokenize input dan pindahkan ke GPU\n",
        "input_ids = tokenizer(input_text, return_tensors=\"pt\").input_ids.to('cuda')\n",
        "\n",
        "# Generate output dari model yang sudah di-fine-tune\n",
        "output = model.generate(input_ids, max_length=512)\n",
        "print(tokenizer.decode(output[0], skip_special_tokens=True))"
      ],
      "metadata": {
        "colab": {
          "base_uri": "https://localhost:8080/"
        },
        "id": "MhiilnbrGObf",
        "outputId": "22579acc-f683-4a1d-da98-5fce56183e1d"
      },
      "execution_count": 77,
      "outputs": [
        {
          "output_type": "stream",
          "name": "stdout",
          "text": [
            "'Recommended_Activity': 'Resistance band exercises', 'Activity_Duration': '20-30 minutes'\n"
          ]
        }
      ]
    },
    {
      "cell_type": "markdown",
      "source": [
        "### Overweight, Outdoor 🏞"
      ],
      "metadata": {
        "id": "CXqVAcCGGo-X"
      }
    },
    {
      "cell_type": "code",
      "source": [
        "# {'Age': 45, 'Gender': 'Female', 'Weight_kg': 74.9, 'Height_m': 1.6, 'BMI': 29.4, 'BMI_Category': 'Overweight', 'Heart_Condition': 'Controlled Arrhythmia', 'Heart_Rate': 79, 'Systolic_BP': 114, 'Diastolic_BP': 81, 'Oxygen_Saturation': 99.4, 'Activity_Preference': 'Outdoor'},\"{'Recommended_Activity': 'Stretching exercises in a park', 'Activity_Duration': '20-30 minutes'}\"\n",
        "input_text = \"{'Age': 45, 'Gender': 'Female', 'Weight_kg': 74.9, 'Height_m': 1.6, 'BMI': 29.4, 'BMI_Category': 'Overweight', 'Heart_Condition': 'Controlled Arrhythmia', 'Heart_Rate': 79, 'Systolic_BP': 114, 'Diastolic_BP': 81, 'Oxygen_Saturation': 99.4, 'Activity_Preference': 'Outdoor'}\"\n",
        "\n",
        "# Tokenize input dan pindahkan ke GPU\n",
        "input_ids = tokenizer(input_text, return_tensors=\"pt\").input_ids.to('cuda')\n",
        "\n",
        "# Generate output dari model yang sudah di-fine-tune\n",
        "output = model.generate(input_ids, max_length=512)\n",
        "print(tokenizer.decode(output[0], skip_special_tokens=True))"
      ],
      "metadata": {
        "colab": {
          "base_uri": "https://localhost:8080/"
        },
        "id": "Zqy5bFzfGVXD",
        "outputId": "60a85d95-4e5b-44ea-8753-591819e10491"
      },
      "execution_count": 78,
      "outputs": [
        {
          "output_type": "stream",
          "name": "stdout",
          "text": [
            "'Recommended_Activity': 'Stretching exercises in a park', 'Activity_Duration': '20-30 minutes'\n"
          ]
        }
      ]
    },
    {
      "cell_type": "code",
      "source": [
        "# {'Age': 45, 'Gender': 'Female', 'Weight_kg': 74.9, 'Height_m': 1.6, 'BMI': 29.4, 'BMI_Category': 'Overweight', 'Heart_Condition': 'Controlled Arrhythmia', 'Heart_Rate': 79, 'Systolic_BP': 114, 'Diastolic_BP': 81, 'Oxygen_Saturation': 99.4, 'Activity_Preference': 'Outdoor'},\"{'Recommended_Activity': 'Stretching exercises in a park', 'Activity_Duration': '20-30 minutes'}\"\n",
        "input_text = \"{'Age': 45, 'Gender': 'Female', 'Weight_kg': 74.9, 'Height_m': 1.6, 'BMI': 29.4, 'BMI_Category': 'Overweight', 'Heart_Condition': 'Controlled Arrhythmia', 'Heart_Rate': 79, 'Systolic_BP': 114, 'Diastolic_BP': 81, 'Oxygen_Saturation': 99.4, 'Activity_Preference': 'Outdoor'}\"\n",
        "\n",
        "# Tokenize input dan pindahkan ke GPU\n",
        "input_ids = tokenizer(input_text, return_tensors=\"pt\").input_ids.to('cuda')\n",
        "\n",
        "# Generate output dari model yang sudah di-fine-tune\n",
        "output = model.generate(input_ids, max_length=512)\n",
        "print(tokenizer.decode(output[0], skip_special_tokens=True))"
      ],
      "metadata": {
        "colab": {
          "base_uri": "https://localhost:8080/"
        },
        "id": "W-0WlPpzGeJy",
        "outputId": "220faceb-42b6-4ae2-b51a-0af619ad3f68"
      },
      "execution_count": 79,
      "outputs": [
        {
          "output_type": "stream",
          "name": "stdout",
          "text": [
            "'Recommended_Activity': 'Stretching exercises in a park', 'Activity_Duration': '20-30 minutes'\n"
          ]
        }
      ]
    },
    {
      "cell_type": "code",
      "source": [
        "# {'Age': 45, 'Gender': 'Female', 'Weight_kg': 74.9, 'Height_m': 1.6, 'BMI': 29.4, 'BMI_Category': 'Overweight', 'Heart_Condition': 'Controlled Arrhythmia', 'Heart_Rate': 79, 'Systolic_BP': 114, 'Diastolic_BP': 81, 'Oxygen_Saturation': 99.4, 'Activity_Preference': 'Outdoor'},\"{'Recommended_Activity': 'Stretching exercises in a park', 'Activity_Duration': '20-30 minutes'}\"\n",
        "input_text = \"{'Age': 45, 'Gender': 'Female', 'Weight_kg': 74.9, 'Height_m': 1.6, 'BMI': 29.4, 'BMI_Category': 'Overweight', 'Heart_Condition': 'Controlled Arrhythmia', 'Heart_Rate': 79, 'Systolic_BP': 114, 'Diastolic_BP': 81, 'Oxygen_Saturation': 99.4, 'Activity_Preference': 'Outdoor'}\"\n",
        "\n",
        "# Tokenize input dan pindahkan ke GPU\n",
        "input_ids = tokenizer(input_text, return_tensors=\"pt\").input_ids.to('cuda')\n",
        "\n",
        "# Generate output dari model yang sudah di-fine-tune\n",
        "output = model.generate(input_ids, max_length=512)\n",
        "print(tokenizer.decode(output[0], skip_special_tokens=True))"
      ],
      "metadata": {
        "colab": {
          "base_uri": "https://localhost:8080/"
        },
        "id": "LARE15-LGfsP",
        "outputId": "a99cc712-347e-4b3e-8bfb-72464d377f19"
      },
      "execution_count": 80,
      "outputs": [
        {
          "output_type": "stream",
          "name": "stdout",
          "text": [
            "'Recommended_Activity': 'Walking in the park', 'Activity_Duration': '20-30 minutes'\n"
          ]
        }
      ]
    },
    {
      "cell_type": "markdown",
      "source": [
        "### Obese , Indoor 🏠"
      ],
      "metadata": {
        "id": "7aYPTi9RHGET"
      }
    },
    {
      "cell_type": "code",
      "source": [
        "# {'Age': 51, 'Gender': 'Male', 'Weight_kg': 101.4, 'Height_m': 1.82, 'BMI': 30.6, 'BMI_Category': 'Obese', 'Heart_Condition': 'Controlled Arrhythmia', 'Heart_Rate': 69, 'Systolic_BP': 112, 'Diastolic_BP': 71, 'Oxygen_Saturation': 97.1, 'Activity_Preference': 'Indoor'},\"{'Recommended_Activity': 'Yoga and stretching', 'Activity_Duration': '15-20 minutes'}\"\n",
        "input_text = \"{'Age': 51, 'Gender': 'Male', 'Weight_kg': 101.4, 'Height_m': 1.82, 'BMI': 30.6, 'BMI_Category': 'Obese', 'Heart_Condition': 'Controlled Arrhythmia', 'Heart_Rate': 69, 'Systolic_BP': 112, 'Diastolic_BP': 71, 'Oxygen_Saturation': 97.1, 'Activity_Preference': 'Indoor'}\"\n",
        "\n",
        "# Tokenize input dan pindahkan ke GPU\n",
        "input_ids = tokenizer(input_text, return_tensors=\"pt\").input_ids.to('cuda')\n",
        "\n",
        "# Generate output dari model yang sudah di-fine-tune\n",
        "output = model.generate(input_ids, max_length=512)\n",
        "print(tokenizer.decode(output[0], skip_special_tokens=True))"
      ],
      "metadata": {
        "colab": {
          "base_uri": "https://localhost:8080/"
        },
        "id": "Mboa0prJHJTT",
        "outputId": "f3e71ff5-dc25-4c65-ffba-205d7d8efef2"
      },
      "execution_count": 81,
      "outputs": [
        {
          "output_type": "stream",
          "name": "stdout",
          "text": [
            "'Recommended_Activity': 'Stationary cycling', 'Activity_Duration': '15-20 minutes'\n"
          ]
        }
      ]
    },
    {
      "cell_type": "code",
      "source": [
        "# {'Age': 51, 'Gender': 'Male', 'Weight_kg': 101.4, 'Height_m': 1.82, 'BMI': 30.6, 'BMI_Category': 'Obese', 'Heart_Condition': 'Controlled Arrhythmia', 'Heart_Rate': 69, 'Systolic_BP': 112, 'Diastolic_BP': 71, 'Oxygen_Saturation': 97.1, 'Activity_Preference': 'Indoor'},\"{'Recommended_Activity': 'Yoga and stretching', 'Activity_Duration': '15-20 minutes'}\"\n",
        "input_text = \"{'Age': 51, 'Gender': 'Male', 'Weight_kg': 101.4, 'Height_m': 1.82, 'BMI': 30.6, 'BMI_Category': 'Obese', 'Heart_Condition': 'Controlled Arrhythmia', 'Heart_Rate': 69, 'Systolic_BP': 112, 'Diastolic_BP': 71, 'Oxygen_Saturation': 97.1, 'Activity_Preference': 'Indoor'}\"\n",
        "\n",
        "# Tokenize input dan pindahkan ke GPU\n",
        "input_ids = tokenizer(input_text, return_tensors=\"pt\").input_ids.to('cuda')\n",
        "\n",
        "# Generate output dari model yang sudah di-fine-tune\n",
        "output = model.generate(input_ids, max_length=512)\n",
        "print(tokenizer.decode(output[0], skip_special_tokens=True))"
      ],
      "metadata": {
        "colab": {
          "base_uri": "https://localhost:8080/"
        },
        "id": "m2ZXdeStHRtf",
        "outputId": "afe148fd-5132-4eaa-f0c7-62b6719ad024"
      },
      "execution_count": 82,
      "outputs": [
        {
          "output_type": "stream",
          "name": "stdout",
          "text": [
            "'Recommended_Activity': 'Yoga and stretching', 'Activity_Duration': '15-20 minutes'\n"
          ]
        }
      ]
    },
    {
      "cell_type": "markdown",
      "source": [
        "### Obese, Outdoor 🏞"
      ],
      "metadata": {
        "id": "y5ckniavHTib"
      }
    },
    {
      "cell_type": "code",
      "source": [
        "# {'Age': 56, 'Gender': 'Female', 'Weight_kg': 76.3, 'Height_m': 1.56, 'BMI': 31.5, 'BMI_Category': 'Obese', 'Heart_Condition': 'Controlled Arrhythmia', 'Heart_Rate': 60, 'Systolic_BP': 139, 'Diastolic_BP': 74, 'Oxygen_Saturation': 99.9, 'Activity_Preference': 'Indoor'},\"{'Recommended_Activity': 'Stationary cycling', 'Activity_Duration': '15-20 minutes'}\"\n",
        "input_text = \" {'Age': 56, 'Gender': 'Female', 'Weight_kg': 76.3, 'Height_m': 1.56, 'BMI': 31.5, 'BMI_Category': 'Obese', 'Heart_Condition': 'Controlled Arrhythmia', 'Heart_Rate': 60, 'Systolic_BP': 139, 'Diastolic_BP': 74, 'Oxygen_Saturation': 99.9, 'Activity_Preference': 'Outdoor'}\"\n",
        "\n",
        "# Tokenize input dan pindahkan ke GPU\n",
        "input_ids = tokenizer(input_text, return_tensors=\"pt\").input_ids.to('cuda')\n",
        "\n",
        "# Generate output dari model yang sudah di-fine-tune\n",
        "output = model.generate(input_ids, max_length=512)\n",
        "print(tokenizer.decode(output[0], skip_special_tokens=True))"
      ],
      "metadata": {
        "colab": {
          "base_uri": "https://localhost:8080/"
        },
        "id": "w3lfHDSXHWV1",
        "outputId": "95a967ff-13c7-443e-97dd-34690c63c95b"
      },
      "execution_count": 83,
      "outputs": [
        {
          "output_type": "stream",
          "name": "stdout",
          "text": [
            "'Recommended_Activity': 'Stretching exercises in a park', 'Activity_Duration': '15-20 minutes'\n"
          ]
        }
      ]
    },
    {
      "cell_type": "code",
      "source": [
        "# {'Age': 56, 'Gender': 'Female', 'Weight_kg': 76.3, 'Height_m': 1.56, 'BMI': 31.5, 'BMI_Category': 'Obese', 'Heart_Condition': 'Controlled Arrhythmia', 'Heart_Rate': 60, 'Systolic_BP': 139, 'Diastolic_BP': 74, 'Oxygen_Saturation': 99.9, 'Activity_Preference': 'Indoor'},\"{'Recommended_Activity': 'Stationary cycling', 'Activity_Duration': '15-20 minutes'}\"\n",
        "input_text = \" {'Age': 56, 'Gender': 'Female', 'Weight_kg': 76.3, 'Height_m': 1.56, 'BMI': 31.5, 'BMI_Category': 'Obese', 'Heart_Condition': 'Controlled Arrhythmia', 'Heart_Rate': 60, 'Systolic_BP': 139, 'Diastolic_BP': 74, 'Oxygen_Saturation': 99.9, 'Activity_Preference': 'Outdoor'}\"\n",
        "\n",
        "# Tokenize input dan pindahkan ke GPU\n",
        "input_ids = tokenizer(input_text, return_tensors=\"pt\").input_ids.to('cuda')\n",
        "\n",
        "# Generate output dari model yang sudah di-fine-tune\n",
        "output = model.generate(input_ids, max_length=512)\n",
        "print(tokenizer.decode(output[0], skip_special_tokens=True))"
      ],
      "metadata": {
        "colab": {
          "base_uri": "https://localhost:8080/"
        },
        "id": "W11wAK2dHk_n",
        "outputId": "a1297491-d2a4-4118-a021-ea18aafacc90"
      },
      "execution_count": 84,
      "outputs": [
        {
          "output_type": "stream",
          "name": "stdout",
          "text": [
            "'Recommended_Activity': 'Walking in the park', 'Activity_Duration': '15-20 minutes'\n"
          ]
        }
      ]
    },
    {
      "cell_type": "markdown",
      "source": [
        "## Stable CAD 💛"
      ],
      "metadata": {
        "id": "qWqWKBVqG0dp"
      }
    },
    {
      "cell_type": "markdown",
      "source": [
        "### Underweight"
      ],
      "metadata": {
        "id": "3hlbz5n7Hvqc"
      }
    },
    {
      "cell_type": "code",
      "source": [
        "# {'Age': 66, 'Gender': 'Female', 'Weight_kg': 61.1, 'Height_m': 1.88, 'BMI': 17.4, 'BMI_Category': 'Underweight', 'Heart_Condition': 'Stable CAD', 'Heart_Rate': 96, 'Systolic_BP': 115, 'Diastolic_BP': 75, 'Oxygen_Saturation': 98.2, 'Activity_Preference': 'Outdoor'},\"{'Recommended_Activity': 'Tai Chi in the open air', 'Activity_Duration': '15-20 minutes'}\"\n",
        "input_text = \"{'Age': 66, 'Gender': 'Female', 'Weight_kg': 61.1, 'Height_m': 1.88, 'BMI': 17.4, 'BMI_Category': 'Underweight', 'Heart_Condition': 'Stable CAD', 'Heart_Rate': 96, 'Systolic_BP': 115, 'Diastolic_BP': 75, 'Oxygen_Saturation': 98.2, 'Activity_Preference': 'Outdoor'}\"\n",
        "\n",
        "# Tokenize input dan pindahkan ke GPU\n",
        "input_ids = tokenizer(input_text, return_tensors=\"pt\").input_ids.to('cuda')\n",
        "\n",
        "# Generate output dari model yang sudah di-fine-tune\n",
        "output = model.generate(input_ids, max_length=512)\n",
        "print(tokenizer.decode(output[0], skip_special_tokens=True))"
      ],
      "metadata": {
        "colab": {
          "base_uri": "https://localhost:8080/"
        },
        "id": "8l3eTJjfG7xA",
        "outputId": "a347ee1a-ebd4-4354-f188-acf5d44046ee"
      },
      "execution_count": 85,
      "outputs": [
        {
          "output_type": "stream",
          "name": "stdout",
          "text": [
            "'Recommended_Activity': 'Walking in the park', 'Activity_Duration': '15-20 minutes'\n"
          ]
        }
      ]
    },
    {
      "cell_type": "code",
      "source": [
        "input_text = \"{'Age': 66, 'Gender': 'Female', 'Weight_kg': 61.1, 'Height_m': 1.88, 'BMI': 17.4, 'BMI_Category': 'Underweight', 'Heart_Condition': 'Stable CAD', 'Heart_Rate': 96, 'Systolic_BP': 115, 'Diastolic_BP': 75, 'Oxygen_Saturation': 98.2, 'Activity_Preference': 'Indoor'}\"\n",
        "\n",
        "# Tokenize input dan pindahkan ke GPU\n",
        "input_ids = tokenizer(input_text, return_tensors=\"pt\").input_ids.to('cuda')\n",
        "\n",
        "# Generate output dari model yang sudah di-fine-tune\n",
        "output = model.generate(input_ids, max_length=512)\n",
        "print(tokenizer.decode(output[0], skip_special_tokens=True))"
      ],
      "metadata": {
        "colab": {
          "base_uri": "https://localhost:8080/"
        },
        "id": "4YLjw60FIOE3",
        "outputId": "b51d728c-edc8-4fbc-dca7-541a3849fd50"
      },
      "execution_count": 86,
      "outputs": [
        {
          "output_type": "stream",
          "name": "stdout",
          "text": [
            "'Recommended_Activity': 'Resistance band exercises', 'Activity_Duration': '15-20 minutes'\n"
          ]
        }
      ]
    },
    {
      "cell_type": "markdown",
      "source": [
        "#### Normal"
      ],
      "metadata": {
        "id": "3Ir7THTRH2R4"
      }
    },
    {
      "cell_type": "code",
      "source": [
        "# {'Age': 65, 'Gender': 'Male', 'Weight_kg': 63.3, 'Height_m': 1.76, 'BMI': 20.5, 'BMI_Category': 'Normal', 'Heart_Condition': 'Stable CAD', 'Heart_Rate': 87, 'Systolic_BP': 132, 'Diastolic_BP': 85, 'Oxygen_Saturation': 96.4, 'Activity_Preference': 'Indoor'},\"{'Recommended_Activity': 'Yoga and stretching', 'Activity_Duration': '30-45 minutes'}\"\n",
        "input_text = \"{'Age': 65, 'Gender': 'Male', 'Weight_kg': 63.3, 'Height_m': 1.76, 'BMI': 20.5, 'BMI_Category': 'Normal', 'Heart_Condition': 'Stable CAD', 'Heart_Rate': 87, 'Systolic_BP': 132, 'Diastolic_BP': 85, 'Oxygen_Saturation': 96.4, 'Activity_Preference': 'Indoor'}\"\n",
        "\n",
        "# Tokenize input dan pindahkan ke GPU\n",
        "input_ids = tokenizer(input_text, return_tensors=\"pt\").input_ids.to('cuda')\n",
        "\n",
        "# Generate output dari model yang sudah di-fine-tune\n",
        "output = model.generate(input_ids, max_length=512)\n",
        "print(tokenizer.decode(output[0], skip_special_tokens=True))"
      ],
      "metadata": {
        "colab": {
          "base_uri": "https://localhost:8080/"
        },
        "id": "INBvUiz5H35A",
        "outputId": "18b73a3d-acd0-4b05-c16f-ec12c87b9dc2"
      },
      "execution_count": 87,
      "outputs": [
        {
          "output_type": "stream",
          "name": "stdout",
          "text": [
            "'Recommended_Activity': 'Breathing exercises', 'Activity_Duration': '30-45 minutes'\n"
          ]
        }
      ]
    },
    {
      "cell_type": "code",
      "source": [
        "# {'Age': 65, 'Gender': 'Male', 'Weight_kg': 63.3, 'Height_m': 1.76, 'BMI': 20.5, 'BMI_Category': 'Normal', 'Heart_Condition': 'Stable CAD', 'Heart_Rate': 87, 'Systolic_BP': 132, 'Diastolic_BP': 85, 'Oxygen_Saturation': 96.4, 'Activity_Preference': 'Indoor'},\"{'Recommended_Activity': 'Yoga and stretching', 'Activity_Duration': '30-45 minutes'}\"\n",
        "input_text = \"{'Age': 65, 'Gender': 'Male', 'Weight_kg': 63.3, 'Height_m': 1.76, 'BMI': 20.5, 'BMI_Category': 'Normal', 'Heart_Condition': 'Stable CAD', 'Heart_Rate': 87, 'Systolic_BP': 132, 'Diastolic_BP': 85, 'Oxygen_Saturation': 96.4, 'Activity_Preference': 'Indoor'}\"\n",
        "\n",
        "# Tokenize input dan pindahkan ke GPU\n",
        "input_ids = tokenizer(input_text, return_tensors=\"pt\").input_ids.to('cuda')\n",
        "\n",
        "# Generate output dari model yang sudah di-fine-tune\n",
        "output = model.generate(input_ids, max_length=512)\n",
        "print(tokenizer.decode(output[0], skip_special_tokens=True))"
      ],
      "metadata": {
        "colab": {
          "base_uri": "https://localhost:8080/"
        },
        "id": "I_pzi0E3IlrD",
        "outputId": "f775d3f0-79d0-4b53-cf26-5b201b8c799c"
      },
      "execution_count": 88,
      "outputs": [
        {
          "output_type": "stream",
          "name": "stdout",
          "text": [
            "'Recommended_Activity': 'Walking on treadmill', 'Activity_Duration': '30-45 minutes'\n"
          ]
        }
      ]
    },
    {
      "cell_type": "code",
      "source": [
        "input_text = \"{'Age': 65, 'Gender': 'Male', 'Weight_kg': 63.3, 'Height_m': 1.76, 'BMI': 20.5, 'BMI_Category': 'Normal', 'Heart_Condition': 'Stable CAD', 'Heart_Rate': 87, 'Systolic_BP': 132, 'Diastolic_BP': 85, 'Oxygen_Saturation': 96.4, 'Activity_Preference': 'Outdoor'}\"\n",
        "\n",
        "# Tokenize input dan pindahkan ke GPU\n",
        "input_ids = tokenizer(input_text, return_tensors=\"pt\").input_ids.to('cuda')\n",
        "\n",
        "# Generate output dari model yang sudah di-fine-tune\n",
        "output = model.generate(input_ids, max_length=512)\n",
        "print(tokenizer.decode(output[0], skip_special_tokens=True))"
      ],
      "metadata": {
        "colab": {
          "base_uri": "https://localhost:8080/"
        },
        "id": "SDDoxi4jInlk",
        "outputId": "317edd0f-990a-4c86-da30-d484e2913cb4"
      },
      "execution_count": 89,
      "outputs": [
        {
          "output_type": "stream",
          "name": "stdout",
          "text": [
            "'Recommended_Activity': 'Walking in the park', 'Activity_Duration': '30-45 minutes'\n"
          ]
        }
      ]
    },
    {
      "cell_type": "code",
      "source": [
        "# {'Age': 54, 'Gender': 'Female', 'Weight_kg': 72.2, 'Height_m': 1.72, 'BMI': 24.5, 'BMI_Category': 'Normal', 'Heart_Condition': 'Stable CAD', 'Heart_Rate': 75, 'Systolic_BP': 125, 'Diastolic_BP': 84, 'Oxygen_Saturation': 99.6, 'Activity_Preference': 'Outdoor'},\"{'Recommended_Activity': 'Tai Chi in the open air', 'Activity_Duration': '30-45 minutes'}\"\n",
        "input_text = \"{'Age': 54, 'Gender': 'Female', 'Weight_kg': 72.2, 'Height_m': 1.72, 'BMI': 24.5, 'BMI_Category': 'Normal', 'Heart_Condition': 'Stable CAD', 'Heart_Rate': 75, 'Systolic_BP': 125, 'Diastolic_BP': 84, 'Oxygen_Saturation': 99.6, 'Activity_Preference': 'Outdoor'}\"\n",
        "\n",
        "# Tokenize input dan pindahkan ke GPU\n",
        "input_ids = tokenizer(input_text, return_tensors=\"pt\").input_ids.to('cuda')\n",
        "\n",
        "# Generate output dari model yang sudah di-fine-tune\n",
        "output = model.generate(input_ids, max_length=512)\n",
        "print(tokenizer.decode(output[0], skip_special_tokens=True))"
      ],
      "metadata": {
        "colab": {
          "base_uri": "https://localhost:8080/"
        },
        "id": "Zv8AFJMWItQM",
        "outputId": "9919ba43-eb3f-4f30-90ff-136b6f75a5d6"
      },
      "execution_count": 90,
      "outputs": [
        {
          "output_type": "stream",
          "name": "stdout",
          "text": [
            "'Recommended_Activity': 'Tai Chi in the open air', 'Activity_Duration': '30-45 minutes'\n"
          ]
        }
      ]
    },
    {
      "cell_type": "code",
      "source": [
        "# {'Age': 54, 'Gender': 'Female', 'Weight_kg': 72.2, 'Height_m': 1.72, 'BMI': 24.5, 'BMI_Category': 'Normal', 'Heart_Condition': 'Stable CAD', 'Heart_Rate': 75, 'Systolic_BP': 125, 'Diastolic_BP': 84, 'Oxygen_Saturation': 99.6, 'Activity_Preference': 'Outdoor'},\"{'Recommended_Activity': 'Tai Chi in the open air', 'Activity_Duration': '30-45 minutes'}\"\n",
        "input_text = \"{'Age': 54, 'Gender': 'Female', 'Weight_kg': 72.2, 'Height_m': 1.72, 'BMI': 24.5, 'BMI_Category': 'Normal', 'Heart_Condition': 'Stable CAD', 'Heart_Rate': 75, 'Systolic_BP': 125, 'Diastolic_BP': 84, 'Oxygen_Saturation': 99.6, 'Activity_Preference': 'Outdoor'}\"\n",
        "\n",
        "# Tokenize input dan pindahkan ke GPU\n",
        "input_ids = tokenizer(input_text, return_tensors=\"pt\").input_ids.to('cuda')\n",
        "\n",
        "# Generate output dari model yang sudah di-fine-tune\n",
        "output = model.generate(input_ids, max_length=512)\n",
        "print(tokenizer.decode(output[0], skip_special_tokens=True))"
      ],
      "metadata": {
        "colab": {
          "base_uri": "https://localhost:8080/"
        },
        "id": "jVGkOPisI1K1",
        "outputId": "9bccffc8-f05d-4916-8be9-d91511974593"
      },
      "execution_count": 91,
      "outputs": [
        {
          "output_type": "stream",
          "name": "stdout",
          "text": [
            "'Recommended_Activity': 'Easy hiking on flat trails', 'Activity_Duration': '30-45 minutes'\n"
          ]
        }
      ]
    },
    {
      "cell_type": "markdown",
      "source": [
        "#### Overweight"
      ],
      "metadata": {
        "id": "6uY58lKtH4VW"
      }
    },
    {
      "cell_type": "code",
      "source": [
        "# {'Age': 33, 'Gender': 'Female', 'Weight_kg': 64.3, 'Height_m': 1.54, 'BMI': 27.1, 'BMI_Category': 'Overweight', 'Heart_Condition': 'Stable CAD', 'Heart_Rate': 72, 'Systolic_BP': 133, 'Diastolic_BP': 85, 'Oxygen_Saturation': 96.7, 'Activity_Preference': 'Outdoor'},\"{'Recommended_Activity': 'Tai Chi in the open air', 'Activity_Duration': '20-30 minutes'}\"\n",
        "input_text = \"{'Age': 33, 'Gender': 'Female', 'Weight_kg': 64.3, 'Height_m': 1.54, 'BMI': 27.1, 'BMI_Category': 'Overweight', 'Heart_Condition': 'Stable CAD', 'Heart_Rate': 72, 'Systolic_BP': 133, 'Diastolic_BP': 85, 'Oxygen_Saturation': 96.7, 'Activity_Preference': 'Outdoor'}\"\n",
        "\n",
        "# Tokenize input dan pindahkan ke GPU\n",
        "input_ids = tokenizer(input_text, return_tensors=\"pt\").input_ids.to('cuda')\n",
        "\n",
        "# Generate output dari model yang sudah di-fine-tune\n",
        "output = model.generate(input_ids, max_length=512)\n",
        "print(tokenizer.decode(output[0], skip_special_tokens=True))"
      ],
      "metadata": {
        "colab": {
          "base_uri": "https://localhost:8080/"
        },
        "id": "GmoGmzhRH7qy",
        "outputId": "f77b4891-a457-49f7-9882-c0a03e77f0ab"
      },
      "execution_count": 92,
      "outputs": [
        {
          "output_type": "stream",
          "name": "stdout",
          "text": [
            "'Recommended_Activity': 'Stretching exercises in a park', 'Activity_Duration': '20-30 minutes'\n"
          ]
        }
      ]
    },
    {
      "cell_type": "code",
      "source": [
        "# {'Age': 63, 'Gender': 'Male', 'Weight_kg': 89.6, 'Height_m': 1.78, 'BMI': 28.3, 'BMI_Category': 'Overweight', 'Heart_Condition': 'Stable CAD', 'Heart_Rate': 75, 'Systolic_BP': 124, 'Diastolic_BP': 90, 'Oxygen_Saturation': 97.8, 'Activity_Preference': 'Indoor'},\"{'Recommended_Activity': 'Stationary cycling', 'Activity_Duration': '20-30 minutes'}\"\n",
        "input_text = \"{'Age': 63, 'Gender': 'Male', 'Weight_kg': 89.6, 'Height_m': 1.78, 'BMI': 28.3, 'BMI_Category': 'Overweight', 'Heart_Condition': 'Stable CAD', 'Heart_Rate': 75, 'Systolic_BP': 124, 'Diastolic_BP': 90, 'Oxygen_Saturation': 97.8, 'Activity_Preference': 'Indoor'}\"\n",
        "\n",
        "# Tokenize input dan pindahkan ke GPU\n",
        "input_ids = tokenizer(input_text, return_tensors=\"pt\").input_ids.to('cuda')\n",
        "\n",
        "# Generate output dari model yang sudah di-fine-tune\n",
        "output = model.generate(input_ids, max_length=512)\n",
        "print(tokenizer.decode(output[0], skip_special_tokens=True))"
      ],
      "metadata": {
        "colab": {
          "base_uri": "https://localhost:8080/"
        },
        "id": "Dq3ol47aJCzS",
        "outputId": "a06e2c74-4bd4-40c3-c4a4-887dbef1d1e0"
      },
      "execution_count": 93,
      "outputs": [
        {
          "output_type": "stream",
          "name": "stdout",
          "text": [
            "'Recommended_Activity': 'Yoga and stretching', 'Activity_Duration': '20-30 minutes'\n"
          ]
        }
      ]
    },
    {
      "cell_type": "markdown",
      "source": [
        "### Obese"
      ],
      "metadata": {
        "id": "wsGp3iq0H6ne"
      }
    },
    {
      "cell_type": "code",
      "source": [
        "# {'Age': 67, 'Gender': 'Male', 'Weight_kg': 100.2, 'Height_m': 1.72, 'BMI': 33.8, 'BMI_Category': 'Obese', 'Heart_Condition': 'Controlled Arrhythmia', 'Heart_Rate': 84, 'Systolic_BP': 135, 'Diastolic_BP': 75, 'Oxygen_Saturation': 97.9, 'Activity_Preference': 'Outdoor'},\"{'Recommended_Activity': 'Tai Chi in the open air', 'Activity_Duration': '15-20 minutes'}\"\n",
        "input_text = \"{'Age': 67, 'Gender': 'Male', 'Weight_kg': 100.2, 'Height_m': 1.72, 'BMI': 33.8, 'BMI_Category': 'Obese', 'Heart_Condition': 'Controlled Arrhythmia', 'Heart_Rate': 84, 'Systolic_BP': 135, 'Diastolic_BP': 75, 'Oxygen_Saturation': 97.9, 'Activity_Preference': 'Outdoor'}\"\n",
        "\n",
        "# Tokenize input dan pindahkan ke GPU\n",
        "input_ids = tokenizer(input_text, return_tensors=\"pt\").input_ids.to('cuda')\n",
        "\n",
        "# Generate output dari model yang sudah di-fine-tune\n",
        "output = model.generate(input_ids, max_length=512)\n",
        "print(tokenizer.decode(output[0], skip_special_tokens=True))"
      ],
      "metadata": {
        "colab": {
          "base_uri": "https://localhost:8080/"
        },
        "id": "DjTyoBPHH_hq",
        "outputId": "432193d5-1e4a-478c-9ac9-98c35a6fb422"
      },
      "execution_count": 94,
      "outputs": [
        {
          "output_type": "stream",
          "name": "stdout",
          "text": [
            "'Recommended_Activity': 'Stretching exercises in a park', 'Activity_Duration': '15-20 minutes'\n"
          ]
        }
      ]
    },
    {
      "cell_type": "code",
      "source": [
        "# {'Age': 32, 'Gender': 'Female', 'Weight_kg': 90.5, 'Height_m': 1.64, 'BMI': 33.5, 'BMI_Category': 'Obese', 'Heart_Condition': 'Stable CAD', 'Heart_Rate': 72, 'Systolic_BP': 137, 'Diastolic_BP': 72, 'Oxygen_Saturation': 99.6, 'Activity_Preference': 'Outdoor'},\"{'Recommended_Activity': 'Stretching exercises in a park', 'Activity_Duration': '15-20 minutes'}\"\n",
        "input_text = \" {'Age': 32, 'Gender': 'Female', 'Weight_kg': 90.5, 'Height_m': 1.64, 'BMI': 33.5, 'BMI_Category': 'Obese', 'Heart_Condition': 'Stable CAD', 'Heart_Rate': 72, 'Systolic_BP': 137, 'Diastolic_BP': 72, 'Oxygen_Saturation': 99.6, 'Activity_Preference': 'Outdoor'}\"\n",
        "\n",
        "# Tokenize input dan pindahkan ke GPU\n",
        "input_ids = tokenizer(input_text, return_tensors=\"pt\").input_ids.to('cuda')\n",
        "\n",
        "# Generate output dari model yang sudah di-fine-tune\n",
        "output = model.generate(input_ids, max_length=512)\n",
        "print(tokenizer.decode(output[0], skip_special_tokens=True))"
      ],
      "metadata": {
        "colab": {
          "base_uri": "https://localhost:8080/"
        },
        "id": "RmV4ZpKVJYMa",
        "outputId": "862a9664-8933-4a86-9fbb-36caf9d99483"
      },
      "execution_count": 95,
      "outputs": [
        {
          "output_type": "stream",
          "name": "stdout",
          "text": [
            "'Recommended_Activity': 'Easy hiking on flat trails', 'Activity_Duration': '15-20 minutes'\n"
          ]
        }
      ]
    },
    {
      "cell_type": "code",
      "source": [
        "input_text = \" {'Age': 32, 'Gender': 'Female', 'Weight_kg': 90.5, 'Height_m': 1.64, 'BMI': 33.5, 'BMI_Category': 'Obese', 'Heart_Condition': 'Stable CAD', 'Heart_Rate': 72, 'Systolic_BP': 137, 'Diastolic_BP': 72, 'Oxygen_Saturation': 99.6, 'Activity_Preference': 'Indoor'}\"\n",
        "\n",
        "# Tokenize input dan pindahkan ke GPU\n",
        "input_ids = tokenizer(input_text, return_tensors=\"pt\").input_ids.to('cuda')\n",
        "\n",
        "# Generate output dari model yang sudah di-fine-tune\n",
        "output = model.generate(input_ids, max_length=512)\n",
        "print(tokenizer.decode(output[0], skip_special_tokens=True))"
      ],
      "metadata": {
        "colab": {
          "base_uri": "https://localhost:8080/"
        },
        "id": "6XuJSkGXJgda",
        "outputId": "6d5cdbee-742b-4c7a-b205-d57a4c283359"
      },
      "execution_count": 96,
      "outputs": [
        {
          "output_type": "stream",
          "name": "stdout",
          "text": [
            "'Recommended_Activity': 'Breathing exercises', 'Activity_Duration': '15-20 minutes'\n"
          ]
        }
      ]
    },
    {
      "cell_type": "markdown",
      "source": [
        "## Mild Pulmonary Hypertension 🟠"
      ],
      "metadata": {
        "id": "JYU3eepXJ9MT"
      }
    },
    {
      "cell_type": "markdown",
      "source": [
        "#### Underweight"
      ],
      "metadata": {
        "id": "VWnvTwo1KSrU"
      }
    },
    {
      "cell_type": "code",
      "source": [
        "# {'Age': 45, 'Gender': 'Female', 'Weight_kg': 39.8, 'Height_m': 1.53, 'BMI': 17.1, 'BMI_Category': 'Underweight', 'Heart_Condition': 'Mild Pulmonary Hypertension', 'Heart_Rate': 82, 'Systolic_BP': 111, 'Diastolic_BP': 88, 'Oxygen_Saturation': 99.9, 'Activity_Preference': 'Indoor'},\"{'Recommended_Activity': 'Stationary cycling', 'Activity_Duration': '15-20 minutes'}\"\n",
        "input_text = \"{'Age': 45, 'Gender': 'Female', 'Weight_kg': 39.8, 'Height_m': 1.53, 'BMI': 17.1, 'BMI_Category': 'Underweight', 'Heart_Condition': 'Mild Pulmonary Hypertension', 'Heart_Rate': 82, 'Systolic_BP': 111, 'Diastolic_BP': 88, 'Oxygen_Saturation': 99.9, 'Activity_Preference': 'Indoor'}\"\n",
        "\n",
        "# Tokenize input dan pindahkan ke GPU\n",
        "input_ids = tokenizer(input_text, return_tensors=\"pt\").input_ids.to('cuda')\n",
        "\n",
        "# Generate output dari model yang sudah di-fine-tune\n",
        "output = model.generate(input_ids, max_length=512)\n",
        "print(tokenizer.decode(output[0], skip_special_tokens=True))"
      ],
      "metadata": {
        "colab": {
          "base_uri": "https://localhost:8080/"
        },
        "id": "C8pP08SgKVme",
        "outputId": "3b2be6ed-52ec-4f8c-8e5a-d74ebd4ff0eb"
      },
      "execution_count": 98,
      "outputs": [
        {
          "output_type": "stream",
          "name": "stdout",
          "text": [
            "'Recommended_Activity': 'Stationary cycling', 'Activity_Duration': '15-20 minutes'\n"
          ]
        }
      ]
    },
    {
      "cell_type": "markdown",
      "source": [
        "#### Normal"
      ],
      "metadata": {
        "id": "-UEfYQaEKU-4"
      }
    },
    {
      "cell_type": "code",
      "source": [
        "# {'Age': 39, 'Gender': 'Female', 'Weight_kg': 60.1, 'Height_m': 1.78, 'BMI': 19.0, 'BMI_Category': 'Normal', 'Heart_Condition': 'Mild Pulmonary Hypertension', 'Heart_Rate': 77, 'Systolic_BP': 131, 'Diastolic_BP': 90, 'Oxygen_Saturation': 95.5, 'Activity_Preference': 'Outdoor'},\"{'Recommended_Activity': 'Stretching exercises in a park', 'Activity_Duration': '30-45 minutes'}\"\n",
        "input_text = \"{'Age': 39, 'Gender': 'Female', 'Weight_kg': 60.1, 'Height_m': 1.78, 'BMI': 19.0, 'BMI_Category': 'Normal', 'Heart_Condition': 'Mild Pulmonary Hypertension', 'Heart_Rate': 77, 'Systolic_BP': 131, 'Diastolic_BP': 90, 'Oxygen_Saturation': 95.5, 'Activity_Preference': 'Outdoor'}\"\n",
        "\n",
        "# Tokenize input dan pindahkan ke GPU\n",
        "input_ids = tokenizer(input_text, return_tensors=\"pt\").input_ids.to('cuda')\n",
        "\n",
        "# Generate output dari model yang sudah di-fine-tune\n",
        "output = model.generate(input_ids, max_length=512)\n",
        "print(tokenizer.decode(output[0], skip_special_tokens=True))"
      ],
      "metadata": {
        "colab": {
          "base_uri": "https://localhost:8080/"
        },
        "id": "0RnYKV4mKXYI",
        "outputId": "063b4c37-a852-493a-f7d7-72bc002e540e"
      },
      "execution_count": 99,
      "outputs": [
        {
          "output_type": "stream",
          "name": "stdout",
          "text": [
            "'Recommended_Activity': 'Walking in the park', 'Activity_Duration': '30-45 minutes'\n"
          ]
        }
      ]
    },
    {
      "cell_type": "markdown",
      "source": [
        "#### Overweight"
      ],
      "metadata": {
        "id": "abmFWBsMKYKx"
      }
    },
    {
      "cell_type": "code",
      "source": [
        "#  {'Age': 31, 'Gender': 'Male', 'Weight_kg': 91.8, 'Height_m': 1.79, 'BMI': 28.5, 'BMI_Category': 'Overweight', 'Heart_Condition': 'Mild Pulmonary Hypertension', 'Heart_Rate': 75, 'Systolic_BP': 117, 'Diastolic_BP': 73, 'Oxygen_Saturation': 98.3, 'Activity_Preference': 'Outdoor'},\"{'Recommended_Activity': 'Tai Chi in the open air', 'Activity_Duration': '20-30 minutes'}\"\n",
        "input_text = \"{'Age': 31, 'Gender': 'Male', 'Weight_kg': 91.8, 'Height_m': 1.79, 'BMI': 28.5, 'BMI_Category': 'Overweight', 'Heart_Condition': 'Mild Pulmonary Hypertension', 'Heart_Rate': 75, 'Systolic_BP': 117, 'Diastolic_BP': 73, 'Oxygen_Saturation': 98.3, 'Activity_Preference': 'Outdoor'}\"\n",
        "\n",
        "# Tokenize input dan pindahkan ke GPU\n",
        "input_ids = tokenizer(input_text, return_tensors=\"pt\").input_ids.to('cuda')\n",
        "\n",
        "# Generate output dari model yang sudah di-fine-tune\n",
        "output = model.generate(input_ids, max_length=512)\n",
        "print(tokenizer.decode(output[0], skip_special_tokens=True))"
      ],
      "metadata": {
        "colab": {
          "base_uri": "https://localhost:8080/"
        },
        "id": "bxzjcd1oKaFI",
        "outputId": "77cf39a5-c056-4f6b-df1c-aeb24c3248cd"
      },
      "execution_count": 100,
      "outputs": [
        {
          "output_type": "stream",
          "name": "stdout",
          "text": [
            "'Recommended_Activity': 'Tai Chi in the open air', 'Activity_Duration': '20-30 minutes'\n"
          ]
        }
      ]
    },
    {
      "cell_type": "markdown",
      "source": [
        "#### Obese"
      ],
      "metadata": {
        "id": "hPsmOqggKOWp"
      }
    },
    {
      "cell_type": "code",
      "source": [
        "# {'Age': 39, 'Gender': 'Female', 'Weight_kg': 100.5, 'Height_m': 1.78, 'BMI': 31.8, 'BMI_Category': 'Obese', 'Heart_Condition': 'Mild Pulmonary Hypertension', 'Heart_Rate': 62, 'Systolic_BP': 136, 'Diastolic_BP': 88, 'Oxygen_Saturation': 98.0, 'Activity_Preference': 'Indoor'},\"{'Recommended_Activity': 'Yoga and stretching', 'Activity_Duration': '15-20 minutes'}\"\n",
        "input_text = \"{'Age': 39, 'Gender': 'Female', 'Weight_kg': 100.5, 'Height_m': 1.78, 'BMI': 31.8, 'BMI_Category': 'Obese', 'Heart_Condition': 'Mild Pulmonary Hypertension', 'Heart_Rate': 62, 'Systolic_BP': 136, 'Diastolic_BP': 88, 'Oxygen_Saturation': 98.0, 'Activity_Preference': 'Indoor'}\"\n",
        "\n",
        "# Tokenize input dan pindahkan ke GPU\n",
        "input_ids = tokenizer(input_text, return_tensors=\"pt\").input_ids.to('cuda')\n",
        "\n",
        "# Generate output dari model yang sudah di-fine-tune\n",
        "output = model.generate(input_ids, max_length=512)\n",
        "print(tokenizer.decode(output[0], skip_special_tokens=True))"
      ],
      "metadata": {
        "colab": {
          "base_uri": "https://localhost:8080/"
        },
        "id": "rhaju3iGKAB2",
        "outputId": "e6506d36-0fa7-4143-cd03-9ab7e65dc186"
      },
      "execution_count": 97,
      "outputs": [
        {
          "output_type": "stream",
          "name": "stdout",
          "text": [
            "'Recommended_Activity': 'Breathing exercises', 'Activity_Duration': '15-20 minutes'\n"
          ]
        }
      ]
    },
    {
      "cell_type": "markdown",
      "source": [
        "# Model Saving 💾"
      ],
      "metadata": {
        "id": "myyjCVB1LAWU"
      }
    },
    {
      "cell_type": "code",
      "source": [
        "model.save_pretrained('./fine_tuned_model')\n",
        "tokenizer.save_pretrained('./fine_tuned_model')"
      ],
      "metadata": {
        "colab": {
          "base_uri": "https://localhost:8080/"
        },
        "id": "OG17apvgK_3C",
        "outputId": "7645414d-1da0-4c3d-cc5a-342bc85c338b"
      },
      "execution_count": 101,
      "outputs": [
        {
          "output_type": "execute_result",
          "data": {
            "text/plain": [
              "('./fine_tuned_model/tokenizer_config.json',\n",
              " './fine_tuned_model/special_tokens_map.json',\n",
              " './fine_tuned_model/spiece.model',\n",
              " './fine_tuned_model/added_tokens.json',\n",
              " './fine_tuned_model/tokenizer.json')"
            ]
          },
          "metadata": {},
          "execution_count": 101
        }
      ]
    },
    {
      "cell_type": "code",
      "source": [
        "from google.colab import files\n",
        "import shutil\n",
        "\n",
        "shutil.make_archive('fine_tuned_model', 'zip', './fine_tuned_model')\n",
        "files.download('fine_tuned_model.zip')"
      ],
      "metadata": {
        "colab": {
          "base_uri": "https://localhost:8080/",
          "height": 17
        },
        "id": "g5a5xTtaLMKc",
        "outputId": "b44644e8-204e-4c78-cb63-a21b69616764"
      },
      "execution_count": 103,
      "outputs": [
        {
          "output_type": "display_data",
          "data": {
            "text/plain": [
              "<IPython.core.display.Javascript object>"
            ],
            "application/javascript": [
              "\n",
              "    async function download(id, filename, size) {\n",
              "      if (!google.colab.kernel.accessAllowed) {\n",
              "        return;\n",
              "      }\n",
              "      const div = document.createElement('div');\n",
              "      const label = document.createElement('label');\n",
              "      label.textContent = `Downloading \"${filename}\": `;\n",
              "      div.appendChild(label);\n",
              "      const progress = document.createElement('progress');\n",
              "      progress.max = size;\n",
              "      div.appendChild(progress);\n",
              "      document.body.appendChild(div);\n",
              "\n",
              "      const buffers = [];\n",
              "      let downloaded = 0;\n",
              "\n",
              "      const channel = await google.colab.kernel.comms.open(id);\n",
              "      // Send a message to notify the kernel that we're ready.\n",
              "      channel.send({})\n",
              "\n",
              "      for await (const message of channel.messages) {\n",
              "        // Send a message to notify the kernel that we're ready.\n",
              "        channel.send({})\n",
              "        if (message.buffers) {\n",
              "          for (const buffer of message.buffers) {\n",
              "            buffers.push(buffer);\n",
              "            downloaded += buffer.byteLength;\n",
              "            progress.value = downloaded;\n",
              "          }\n",
              "        }\n",
              "      }\n",
              "      const blob = new Blob(buffers, {type: 'application/binary'});\n",
              "      const a = document.createElement('a');\n",
              "      a.href = window.URL.createObjectURL(blob);\n",
              "      a.download = filename;\n",
              "      div.appendChild(a);\n",
              "      a.click();\n",
              "      div.remove();\n",
              "    }\n",
              "  "
            ]
          },
          "metadata": {}
        },
        {
          "output_type": "display_data",
          "data": {
            "text/plain": [
              "<IPython.core.display.Javascript object>"
            ],
            "application/javascript": [
              "download(\"download_162a55d3-c021-4c30-a9ae-8969a51a09da\", \"fine_tuned_model.zip\", 214271256)"
            ]
          },
          "metadata": {}
        }
      ]
    }
  ]
}